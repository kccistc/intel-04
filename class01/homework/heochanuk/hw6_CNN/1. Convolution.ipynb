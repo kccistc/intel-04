{
 "cells": [
  {
   "cell_type": "code",
   "execution_count": 3,
   "id": "36c1c4f1-42ea-4eb9-bce9-d3f0847e16c2",
   "metadata": {},
   "outputs": [],
   "source": [
    "import cv2\n",
    "import numpy as np"
   ]
  },
  {
   "cell_type": "code",
   "execution_count": 8,
   "id": "25e2fee5-6fb3-4ecd-97fd-78a1af97084e",
   "metadata": {},
   "outputs": [
    {
     "name": "stdout",
     "output_type": "stream",
     "text": [
      "[[ 1  1  1]\n",
      " [ 1 -8  1]\n",
      " [ 1  1  1]]\n"
     ]
    }
   ],
   "source": [
    "#Convolution\n",
    "#edge\n",
    "img = cv2.imread('input.jpg', cv2.IMREAD_GRAYSCALE)\n",
    "kernel = np.array([[1, 1, 1],[1, -8, 1], [1, 1, 1]])\n",
    "print(kernel)\n",
    "output = cv2.filter2D(img, -1, kernel)\n",
    "cv2.imshow('edge', output)\n",
    "cv2.waitKey(0)\n",
    "\n",
    "cv2.destroyAllWindows()"
   ]
  },
  {
   "cell_type": "code",
   "execution_count": 5,
   "id": "8d8e6c88-6fe7-450e-b0c7-5b619f6c5794",
   "metadata": {},
   "outputs": [
    {
     "name": "stdout",
     "output_type": "stream",
     "text": [
      "[[0 0 0]\n",
      " [0 1 0]\n",
      " [0 0 0]]\n"
     ]
    }
   ],
   "source": [
    "#Identity\n",
    "img = cv2.imread('input.jpg', cv2.IMREAD_GRAYSCALE)\n",
    "kernel = np.array([[0, 0, 0],\n",
    "                   [0, 1, 0], \n",
    "                   [0, 0, 0]])\n",
    "print(kernel)\n",
    "output = cv2.filter2D(img, -1, kernel)\n",
    "cv2.imshow('Identity', output)\n",
    "cv2.waitKey(0)\n",
    "\n",
    "cv2.destroyAllWindows()"
   ]
  },
  {
   "cell_type": "code",
   "execution_count": 9,
   "id": "818c2dda-dc66-46e3-8f1f-0ea9ffb58e4e",
   "metadata": {},
   "outputs": [
    {
     "name": "stdout",
     "output_type": "stream",
     "text": [
      "[[ 0 -1  0]\n",
      " [-1  5 -1]\n",
      " [ 0 -1  0]]\n"
     ]
    }
   ],
   "source": [
    "#Sharpen\n",
    "img = cv2.imread('input.jpg', cv2.IMREAD_GRAYSCALE)\n",
    "kernel = np.array([[0, -1, 0],\n",
    "                   [-1, 5, -1], \n",
    "                   [0, -1, 0]])\n",
    "print(kernel)\n",
    "output = cv2.filter2D(img, -1, kernel)\n",
    "cv2.imshow('Sharpen', output)\n",
    "cv2.waitKey(0)\n",
    "\n",
    "cv2.destroyAllWindows()"
   ]
  },
  {
   "cell_type": "code",
   "execution_count": 10,
   "id": "ddea1904-8bf1-4c82-b0bd-9c6245d2283b",
   "metadata": {},
   "outputs": [
    {
     "name": "stdout",
     "output_type": "stream",
     "text": [
      "[[0.11111111 0.11111111 0.11111111]\n",
      " [0.11111111 0.11111111 0.11111111]\n",
      " [0.11111111 0.11111111 0.11111111]]\n"
     ]
    }
   ],
   "source": [
    "#Box blur\n",
    "img = cv2.imread('input.jpg', cv2.IMREAD_GRAYSCALE)\n",
    "kernel = np.array([[1/9, 1/9, 1/9],\n",
    "                   [1/9, 1/9, 1/9], \n",
    "                   [1/9, 1/9, 1/9]])\n",
    "print(kernel)\n",
    "output = cv2.filter2D(img, -1, kernel)\n",
    "cv2.imshow('Box blur', output)\n",
    "cv2.waitKey(0)\n",
    "\n",
    "cv2.destroyAllWindows()"
   ]
  },
  {
   "cell_type": "code",
   "execution_count": 11,
   "id": "bb2d7941-a2d5-4b64-ac5f-fcde411bfbee",
   "metadata": {},
   "outputs": [
    {
     "name": "stdout",
     "output_type": "stream",
     "text": [
      "[[0.0625 0.125  0.0625]\n",
      " [0.125  0.25   0.125 ]\n",
      " [0.0625 0.125  0.0625]]\n"
     ]
    }
   ],
   "source": [
    "#Gaussian blur 3x3\n",
    "img = cv2.imread('input.jpg', cv2.IMREAD_GRAYSCALE)\n",
    "kernel = np.array([[1/16, 2/16, 1/16],\n",
    "                   [2/16, 4/16, 2/16], \n",
    "                   [1/16, 2/16, 1/16]])\n",
    "print(kernel)\n",
    "output = cv2.filter2D(img, -1, kernel)\n",
    "cv2.imshow('Gaussian blur 3x3', output)\n",
    "cv2.waitKey(0)\n",
    "\n",
    "cv2.destroyAllWindows()"
   ]
  },
  {
   "cell_type": "code",
   "execution_count": 12,
   "id": "2979e127-e096-44cc-ab92-96ff17ad8c2f",
   "metadata": {},
   "outputs": [
    {
     "name": "stdout",
     "output_type": "stream",
     "text": [
      "[[0.00390625 0.015625   0.0234375  0.015625   0.00390625]\n",
      " [0.015625   0.0625     0.9609375  0.0625     0.015625  ]\n",
      " [0.0234375  0.09375    0.140625   0.09375    0.0234375 ]\n",
      " [0.015625   0.0625     0.09375    0.0625     0.015625  ]\n",
      " [0.00390625 0.015625   0.0234375  0.015625   0.00390625]]\n"
     ]
    }
   ],
   "source": [
    "#Gaussian blur 5x5\n",
    "img = cv2.imread('input.jpg', cv2.IMREAD_GRAYSCALE)\n",
    "kernel = np.array([[1/256,  4/256,   6/256 ,  4/256, 1/256],\n",
    "                   [4/256, 16/256, 246/256 , 16/256, 4/256], \n",
    "                   [6/256, 24/256,  36/256 , 24/256, 6/256],\n",
    "                   [4/256, 16/256,  24/256 , 16/256, 4/256],\n",
    "                   [1/256,  4/256,   6/256 ,  4/256, 1/256]])\n",
    "print(kernel)\n",
    "output = cv2.filter2D(img, -1, kernel)\n",
    "cv2.imshow('Gaussian blur 5x5', output)\n",
    "cv2.waitKey(0)\n",
    "\n",
    "cv2.destroyAllWindows()"
   ]
  }
 ],
 "metadata": {
  "kernelspec": {
   "display_name": "Python 3 (ipykernel)",
   "language": "python",
   "name": "python3"
  },
  "language_info": {
   "codemirror_mode": {
    "name": "ipython",
    "version": 3
   },
   "file_extension": ".py",
   "mimetype": "text/x-python",
   "name": "python",
   "nbconvert_exporter": "python",
   "pygments_lexer": "ipython3",
   "version": "3.10.12"
  }
 },
 "nbformat": 4,
 "nbformat_minor": 5
}

{
 "cells": [
  {
   "cell_type": "code",
   "execution_count": 1,
   "id": "9cbf5c4e-7f64-4d88-991a-eeb857d7c8fb",
   "metadata": {},
   "outputs": [],
   "source": [
    "import numpy as np"
   ]
  },
  {
   "cell_type": "code",
   "execution_count": 3,
   "id": "289c3df0-032b-4fb3-a55b-8c981b3648e2",
   "metadata": {},
   "outputs": [],
   "source": [
    "def sigmoid(x):\n",
    "    return 1/(1+np.exp(x))"
   ]
  },
  {
   "cell_type": "code",
   "execution_count": 5,
   "id": "9eb8511e-acea-421b-9a90-85ffd5288e1d",
   "metadata": {},
   "outputs": [],
   "source": [
    "def numerical_derivative(f, x):\n",
    "    dx = 1e-4\n",
    "    gradf = np.zeros_like(x)\n",
    "    \n",
    "    it = np.nditer(x, flags = ['multi_index'],op_flags=['readwrite'])\n",
    "                               \n",
    "    while not it.finished:\n",
    "        idx = it.multi_index\n",
    "        tmp_val = x[idx]\n",
    "        x[idx] = float((tmp_val)+dx)\n",
    "        fx1 = f(x)\n",
    "\n",
    "        x[idx] = float((tmp_val)-dx)\n",
    "        fx2 = f(x)\n",
    "        gradf[idx] = (fx1-fx2)/(2*dx)\n",
    "        \n",
    "        x[idx] = tmp_val\n",
    "        it.iternext()\n",
    "    return gradf"
   ]
  },
  {
   "cell_type": "code",
   "execution_count": 8,
   "id": "656edf4f-f24b-49bc-ae0a-4bdd06235031",
   "metadata": {},
   "outputs": [],
   "source": [
    "class logicGate:\n",
    "    def __init__(self, gate_name, xdata, tdata, learning_rate=0.01, threshold=0.5):\n",
    "        self.name = gate_name\n",
    "        \n",
    "        self.__xdata=xdata.reshape(4,2)\n",
    "        self.__tdata=tdata.reshape(4,1)\n",
    "        \n",
    "        self.__w=np.random.rand(2,1)\n",
    "        self.__b=np.random.rand(1)\n",
    "        \n",
    "        self.__learning_rate = learning_rate\n",
    "        self.__threshold = threshold\n",
    "        \n",
    "    def __loss_func(self):\n",
    "        delta = 1e-7\n",
    "        \n",
    "        z = np.dot(self.__xdata, self.__w) + self.__b\n",
    "        y = sigmoid(z)\n",
    "        \n",
    "        return -np.sum(self.__tdata*np.log(y+delta) + (1-self.__tdata)*np.log((1-y)+delta))\n",
    "        \n",
    "    def err_val(self):\n",
    "        delta = 1e-7\n",
    "        \n",
    "        z = np.dot(self.__xdata, self.__w)+self.__b\n",
    "        y = sigmoid(z)\n",
    "        return -np.sum(self.__tdata + np.log(y+delta) + (1-self.__tdata)*np.log((1-y)+delta))\n",
    "        \n",
    "    def train(self):\n",
    "        f = lambda x : self.__loss_func()\n",
    "        print(\"init error : \", self.err_val())\n",
    "        \n",
    "        for stp in range(20000):\n",
    "            self.__w -= self.__learning_rate * numerical_derivative(f, self.__w)\n",
    "            self.__b -= self.__learning_rate * numerical_derivative(f, self.__b)\n",
    "            if (stp % 2000 == 0):\n",
    "                print(\"step : \", stp, \"error : \", self.err_val(), f)\n",
    "\n",
    "    def predict(self, input_data):\n",
    "        z = np.dot(input_data, self.__w) + self.__b\n",
    "        y = sigmoid(z)\n",
    "        \n",
    "        if y[0] > self.__threshold:\n",
    "            result = 1\n",
    "        else:\n",
    "            result = 0\n",
    "        return y, result"
   ]
  },
  {
   "cell_type": "code",
   "execution_count": 11,
   "id": "fd142534-de6b-4ca4-a23a-508079af8326",
   "metadata": {},
   "outputs": [
    {
     "name": "stdout",
     "output_type": "stream",
     "text": [
      "init error :  5.072873899164487\n",
      "step :  0 error :  5.066112287840076 <function logicGate.train.<locals>.<lambda> at 0x7919ec4a3760>\n",
      "step :  2000 error :  7.4002993027621295 <function logicGate.train.<locals>.<lambda> at 0x7919ec4a3760>\n",
      "step :  4000 error :  9.754215132873874 <function logicGate.train.<locals>.<lambda> at 0x7919ec4a3760>\n",
      "step :  6000 error :  11.4130210125612 <function logicGate.train.<locals>.<lambda> at 0x7919ec4a3760>\n",
      "step :  8000 error :  12.683724105472423 <function logicGate.train.<locals>.<lambda> at 0x7919ec4a3760>\n",
      "step :  10000 error :  13.709913977502595 <function logicGate.train.<locals>.<lambda> at 0x7919ec4a3760>\n",
      "step :  12000 error :  14.568801823801913 <function logicGate.train.<locals>.<lambda> at 0x7919ec4a3760>\n",
      "step :  14000 error :  15.30634944597331 <function logicGate.train.<locals>.<lambda> at 0x7919ec4a3760>\n",
      "step :  16000 error :  15.952010277240344 <function logicGate.train.<locals>.<lambda> at 0x7919ec4a3760>\n",
      "step :  18000 error :  16.525738027994397 <function logicGate.train.<locals>.<lambda> at 0x7919ec4a3760>\n",
      "[0 0]  :  0\n",
      "[0 1]  :  0\n",
      "[1 0]  :  0\n",
      "[1 1]  :  1\n",
      "init error :  1.9312991226450198\n",
      "step :  0 error :  1.8598616450753502 <function logicGate.train.<locals>.<lambda> at 0x7919ec4a1cf0>\n",
      "step :  2000 error :  -1.0891644357273713 <function logicGate.train.<locals>.<lambda> at 0x7919ec4a1cf0>\n",
      "step :  4000 error :  -0.700422721632962 <function logicGate.train.<locals>.<lambda> at 0x7919ec4a1cf0>\n",
      "step :  6000 error :  -0.3922528762510268 <function logicGate.train.<locals>.<lambda> at 0x7919ec4a1cf0>\n",
      "step :  8000 error :  -0.14914499098335454 <function logicGate.train.<locals>.<lambda> at 0x7919ec4a1cf0>\n",
      "step :  10000 error :  0.04950179162375601 <function logicGate.train.<locals>.<lambda> at 0x7919ec4a1cf0>\n",
      "step :  12000 error :  0.21678560063005503 <function logicGate.train.<locals>.<lambda> at 0x7919ec4a1cf0>\n",
      "step :  14000 error :  0.36099153434226283 <function logicGate.train.<locals>.<lambda> at 0x7919ec4a1cf0>\n",
      "step :  16000 error :  0.48758471034655104 <function logicGate.train.<locals>.<lambda> at 0x7919ec4a1cf0>\n",
      "step :  18000 error :  0.6003280978201677 <function logicGate.train.<locals>.<lambda> at 0x7919ec4a1cf0>\n",
      "[0 0]  :  0\n",
      "[0 1]  :  1\n",
      "[1 0]  :  1\n",
      "[1 1]  :  1\n"
     ]
    }
   ],
   "source": [
    "xdata = np.array([[0,0],[0,1],[1,0],[1,1]])\n",
    "tdata = np.array([[0,0,0,1]])\n",
    "\n",
    "AND = logicGate(\"AND\", xdata, tdata)\n",
    "AND.train()\n",
    "for in_data in xdata:\n",
    "    (sig_val, logic_val) = AND.predict(in_data)\n",
    "    print(in_data , \" : \", logic_val)\n",
    "\n",
    "xdata = np.array([[0,0],[0,1],[1,0],[1,1]])\n",
    "tdata = np.array([[0,1,1,1]])\n",
    "OR = logicGate(\"OR\", xdata, tdata)\n",
    "OR.train()\n",
    "for in_data in xdata:\n",
    "    (sig_val, logic_val) = OR.predict(in_data)\n",
    "    print(in_data , \" : \", logic_val)"
   ]
  },
  {
   "cell_type": "code",
   "execution_count": null,
   "id": "9249d5e0-6c42-4e43-a9bf-f743bd87f500",
   "metadata": {},
   "outputs": [],
   "source": []
  }
 ],
 "metadata": {
  "kernelspec": {
   "display_name": "Python 3 (ipykernel)",
   "language": "python",
   "name": "python3"
  },
  "language_info": {
   "codemirror_mode": {
    "name": "ipython",
    "version": 3
   },
   "file_extension": ".py",
   "mimetype": "text/x-python",
   "name": "python",
   "nbconvert_exporter": "python",
   "pygments_lexer": "ipython3",
   "version": "3.10.12"
  }
 },
 "nbformat": 4,
 "nbformat_minor": 5
}

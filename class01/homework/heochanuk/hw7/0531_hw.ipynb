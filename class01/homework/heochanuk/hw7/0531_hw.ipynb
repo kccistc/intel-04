{
 "cells": [
  {
   "cell_type": "code",
   "execution_count": 4,
   "id": "20a577c0-4b7e-474f-841a-5c2b9c1907df",
   "metadata": {},
   "outputs": [],
   "source": [
    "#실습1\n",
    "data1 = ('A','B')\n",
    "data2 = ('C',)\n",
    "data3 = data1 + data2"
   ]
  },
  {
   "cell_type": "code",
   "execution_count": 26,
   "id": "5805a77b-76d0-41fc-a8a8-265a4cc928b4",
   "metadata": {},
   "outputs": [
    {
     "name": "stdin",
     "output_type": "stream",
     "text": [
      "정수를 입력하세요:  6\n"
     ]
    },
    {
     "name": "stdout",
     "output_type": "stream",
     "text": [
      "[[ 1.  2.  3.  4.  5.  6.]\n",
      " [ 7.  8.  9. 10. 11. 12.]\n",
      " [13. 14. 15. 16. 17. 18.]\n",
      " [19. 20. 21. 22. 23. 24.]\n",
      " [25. 26. 27. 28. 29. 30.]\n",
      " [31. 32. 33. 34. 35. 36.]]\n"
     ]
    }
   ],
   "source": [
    "#실습2\n",
    "import numpy as np\n",
    "\n",
    "n = int(input(\"정수를 입력하세요: \"))\n",
    "A = np.zeros((n,n))\n",
    "for j in range(n):\n",
    "    for i in range(n):\n",
    "        A[j,i] = j*n+i+1\n",
    "print(A)"
   ]
  },
  {
   "cell_type": "code",
   "execution_count": 25,
   "id": "298b7223-887c-407f-830c-a68982913a3e",
   "metadata": {},
   "outputs": [
    {
     "name": "stdout",
     "output_type": "stream",
     "text": [
      "[ 1.  2.  3.  4.  5.  6.  7.  8.  9. 10. 11. 12. 13. 14. 15. 16. 17. 18.\n",
      " 19. 20. 21. 22. 23. 24. 25. 26. 27. 28. 29. 30. 31. 32. 33. 34. 35. 36.]\n"
     ]
    }
   ],
   "source": [
    "#실습3\n",
    "#실습 1에서 수행한 결과를 reshape을 이용해서 1차원 형태로 변환한다.\n",
    "\n",
    "print(A.reshape(-1,))"
   ]
  },
  {
   "cell_type": "code",
   "execution_count": null,
   "id": "d3f6d8b0-5580-4ce1-8560-8ee495d4eaab",
   "metadata": {},
   "outputs": [],
   "source": [
    "#실습4\n",
    "# 1. 임의의 이미지 파일을 불러온다.\n",
    "# 2. Numpy의 expend_dims를 사용해서 이미지 파일의 차원을 하나 더 늘려 \n",
    "#(H,W,C)을 (B,H,W,C)로 확장한다.\n",
    "# (이미지 출력 불필요)\n",
    "# 3. Numpy의 transpoed를 이용해서 차원의 순서를 (B,W,H,C)에서 (B,C,W,H)로 변경한다.\n",
    "# (이미지 출력 불필요)\n",
    "# imge.shape를 통해 결과 확인"
   ]
  },
  {
   "cell_type": "code",
   "execution_count": 27,
   "id": "a60060a1-6465-414d-8a8e-de9ed91b70e7",
   "metadata": {},
   "outputs": [
    {
     "name": "stdout",
     "output_type": "stream",
     "text": [
      "Original shape: (757, 560, 3)\n",
      "Expanded shape: (1, 757, 560, 3)\n",
      "Transposed shape: (1, 3, 560, 757)\n"
     ]
    }
   ],
   "source": [
    "#My Code\n",
    "import numpy as np\n",
    "from PIL import Image\n",
    "\n",
    "image = Image.open('input.jpg')\n",
    "image_np = np.array(image)\n",
    "\n",
    "image_expanded = np.expand_dims(image_np, axis=0)\n",
    "\n",
    "image_transposed = np.transpose(image_expanded, (0, 3, 2, 1))\n",
    "\n",
    "print(\"Original shape:\", image_np.shape)\n",
    "print(\"Expanded shape:\", image_expanded.shape)\n",
    "print(\"Transposed shape:\", image_transposed.shape)"
   ]
  },
  {
   "cell_type": "code",
   "execution_count": null,
   "id": "c1f50283-4ac3-42db-a4eb-ffaeb087c07e",
   "metadata": {},
   "outputs": [],
   "source": [
    "#강사님 Code"
   ]
  },
  {
   "cell_type": "code",
   "execution_count": 31,
   "id": "10c194c2-c2d0-4a79-815f-1e9fbeacdf66",
   "metadata": {},
   "outputs": [
    {
     "name": "stdout",
     "output_type": "stream",
     "text": [
      "(757, 560, 3)\n",
      "(1, 757, 560, 3)\n",
      "(1, 3, 757, 560)\n"
     ]
    }
   ],
   "source": [
    "import cv2\n",
    "img = cv2.imread('./input.jpg')\n",
    "print(img.shape)\n",
    "img_expend = np.expand_dims(img,0)\n",
    "print(img_expend.shape)\n",
    "img_expend_T = img_expend.transpose((0,3,1,2))\n",
    "print(img_expend_T.shape)"
   ]
  },
  {
   "cell_type": "code",
   "execution_count": 38,
   "id": "87d26065-b350-4ab4-84f5-cdb1278e1bd1",
   "metadata": {},
   "outputs": [
    {
     "name": "stdout",
     "output_type": "stream",
     "text": [
      "[[ 1  1  1]\n",
      " [ 1 -8  1]\n",
      " [ 1  1  1]]\n"
     ]
    }
   ],
   "source": [
    "#실습5\n",
    "import cv2\n",
    "import numpy as np\n",
    "\n",
    "img = cv2.imread('input.jpg', cv2.IMREAD_GRAYSCALE)\n",
    "kernel = np.array([[1, 1, 1],[1, -8, 1], [1, 1, 1]])\n",
    "print(kernel)\n",
    "output = cv2.filter2D(img, -1, kernel) #여기를 직접 구현\n",
    "cv2.imshow('edge', output)\n",
    "cv2.waitKey(0)\n",
    "cv2.destroyAllWindows()"
   ]
  },
  {
   "cell_type": "code",
   "execution_count": 1,
   "id": "2734c2b5-1e22-4028-8f9a-a2866f405320",
   "metadata": {},
   "outputs": [
    {
     "name": "stdout",
     "output_type": "stream",
     "text": [
      "[[ 1  1  1]\n",
      " [ 1 -8  1]\n",
      " [ 1  1  1]]\n"
     ]
    }
   ],
   "source": [
    "import cv2 \n",
    "import numpy as np\n",
    "\n",
    "img = cv2.imread('input.jpg', cv2.IMREAD_GRAYSCALE)\n",
    "kernel = np.array([[1, 1, 1], [1, -8, 1], [1, 1, 1]])\n",
    "print(kernel)\n",
    "\n",
    "\n",
    "padded_img = np.pad(img, ((1, 1), (1, 1)), mode='constant')\n",
    "\n",
    "output = np.zeros_like(img)\n",
    "\n",
    "for i in range(img.shape[0]):\n",
    "    for j in range(img.shape[1]):\n",
    "        sum = 0\n",
    "        for a in range(kernel.shape[0]):\n",
    "            for b in range(kernel.shape[1]):\n",
    "                sum += padded_img[i+a, j+b] * kernel[a, b]\n",
    "        output[i, j] = np.clip(sum, 0, 255)\n",
    "\n",
    "cv2.imshow('edge', output)\n",
    "cv2.waitKey(0)\n",
    "cv2.destroyAllWindows()"
   ]
  }
 ],
 "metadata": {
  "kernelspec": {
   "display_name": "Python 3 (ipykernel)",
   "language": "python",
   "name": "python3"
  },
  "language_info": {
   "codemirror_mode": {
    "name": "ipython",
    "version": 3
   },
   "file_extension": ".py",
   "mimetype": "text/x-python",
   "name": "python",
   "nbconvert_exporter": "python",
   "pygments_lexer": "ipython3",
   "version": "3.10.12"
  }
 },
 "nbformat": 4,
 "nbformat_minor": 5
}

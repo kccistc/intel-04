{
 "cells": [
  {
   "cell_type": "code",
   "execution_count": 1,
   "id": "2b3bfbcd-87f5-412b-a765-f015cd520beb",
   "metadata": {},
   "outputs": [],
   "source": [
    "import cv2\n",
    "import numpy as np"
   ]
  },
  {
   "cell_type": "code",
   "execution_count": 9,
   "id": "2ee474f7-05b1-4c5d-b73c-57ffc5cae583",
   "metadata": {},
   "outputs": [
    {
     "name": "stdout",
     "output_type": "stream",
     "text": [
      "[[ 1  1  1]\n",
      " [ 1 -8  1]\n",
      " [ 1  1  1]]\n"
     ]
    }
   ],
   "source": [
    "img = cv2.imread('img.png', cv2.IMREAD_GRAYSCALE)\n",
    "kernel = np.array([[1, 1, 1],[1, -8, 1], [1, 1, 1]])\n",
    "print(kernel)\n",
    "output = cv2.filter2D(img, -1, kernel)\n",
    "cv2.imshow('edge', output)\n",
    "cv2.waitKey(0)\n",
    "cv2.destroyAllWindows()"
   ]
  },
  {
   "cell_type": "code",
   "execution_count": 12,
   "id": "70ce3ad5-a3a9-4f52-b470-4eb4302f70fd",
   "metadata": {},
   "outputs": [
    {
     "name": "stdout",
     "output_type": "stream",
     "text": [
      "[[0 0 0]\n",
      " [0 1 0]\n",
      " [0 0 0]]\n"
     ]
    }
   ],
   "source": [
    "img = cv2.imread('img.png', cv2.IMREAD_GRAYSCALE)\n",
    "kernel = np.array([[0, 0, 0],[0, 1, 0], [0, 0, 0]])\n",
    "print(kernel)\n",
    "output = cv2.filter2D(img, -1, kernel)\n",
    "cv2.imshow('edge', output)\n",
    "cv2.waitKey(0)\n",
    "cv2.destroyAllWindows()"
   ]
  },
  {
   "cell_type": "code",
   "execution_count": 13,
   "id": "452e82d6-c5ed-44df-af15-7c89e05f2359",
   "metadata": {},
   "outputs": [
    {
     "name": "stdout",
     "output_type": "stream",
     "text": [
      "[[ 0 -1  0]\n",
      " [-1  4 -1]\n",
      " [ 0 -1  0]]\n"
     ]
    }
   ],
   "source": [
    "img = cv2.imread('img.png', cv2.IMREAD_GRAYSCALE)\n",
    "kernel = np.array([[0, -1, 0],[-1, 4, -1], [0, -1, 0]])\n",
    "print(kernel)\n",
    "output = cv2.filter2D(img, -1, kernel)\n",
    "cv2.imshow('edge', output)\n",
    "cv2.waitKey(0)\n",
    "cv2.destroyAllWindows()"
   ]
  },
  {
   "cell_type": "code",
   "execution_count": 16,
   "id": "befff3df-b3f0-4d5d-8542-a0630161fd11",
   "metadata": {},
   "outputs": [
    {
     "name": "stdout",
     "output_type": "stream",
     "text": [
      "[[-1 -1 -1]\n",
      " [-1  8 -1]\n",
      " [-1 -1 -1]]\n"
     ]
    }
   ],
   "source": [
    "img = cv2.imread('img.png', cv2.IMREAD_GRAYSCALE)\n",
    "kernel = np.array([[-1, -1, -1],[-1, 8, -1], [-1, -1, -1]])\n",
    "print(kernel)\n",
    "output = cv2.filter2D(img, -1, kernel)\n",
    "cv2.imshow('edge', output)\n",
    "cv2.waitKey(0)\n",
    "cv2.destroyAllWindows()"
   ]
  },
  {
   "cell_type": "code",
   "execution_count": 17,
   "id": "0f4697f0-4b03-46d3-a77a-91f469f8ee85",
   "metadata": {},
   "outputs": [
    {
     "name": "stdout",
     "output_type": "stream",
     "text": [
      "[[ 0 -1  0]\n",
      " [-1  5 -1]\n",
      " [ 0 -1  0]]\n"
     ]
    }
   ],
   "source": [
    "img = cv2.imread('img.png', cv2.IMREAD_GRAYSCALE)\n",
    "kernel = np.array([[0, -1, 0],[-1, 5, -1], [0, -1, 0]])\n",
    "print(kernel)\n",
    "output = cv2.filter2D(img, -1, kernel)\n",
    "cv2.imshow('edge', output)\n",
    "cv2.waitKey(0)\n",
    "cv2.destroyAllWindows()"
   ]
  },
  {
   "cell_type": "code",
   "execution_count": null,
   "id": "74a7c5f4-bbf3-427f-a068-d5e1ef46ebce",
   "metadata": {},
   "outputs": [],
   "source": [
    "img = cv2.imread('img.png', cv2.IMREAD_GRAYSCALE)\n",
    "kernel = np.array([[1/9, 1/9, 1/9],[1/9, 1/9, 1/9], [1/9, 1/9, 1/9]])\n",
    "print(kernel)\n",
    "output = cv2.filter2D(img, -1, kernel)\n",
    "cv2.imshow('edge', output)\n",
    "cv2.waitKey(0)\n",
    "cv2.destroyAllWindows()"
   ]
  },
  {
   "cell_type": "code",
   "execution_count": null,
   "id": "8a7f336b-1ae6-42e0-b788-9f19305e1daf",
   "metadata": {},
   "outputs": [],
   "source": [
    "img = cv2.imread('img.png', cv2.IMREAD_GRAYSCALE)\n",
    "kernel = np.array([[1/16, 2/16, 1/16],\n",
    "                   [2/16, 4/16, 2/16], \n",
    "                   [1/16, 2/16, 1/16]])\n",
    "print(kernel)\n",
    "output = cv2.filter2D(img, -1, kernel)\n",
    "cv2.imshow('edge', output)\n",
    "cv2.waitKey(0)\n",
    "cv2.destroyAllWindows()"
   ]
  },
  {
   "cell_type": "code",
   "execution_count": 14,
   "id": "9fc257e1-d820-4da3-abb6-53c3e3161fd3",
   "metadata": {},
   "outputs": [
    {
     "name": "stdout",
     "output_type": "stream",
     "text": [
      "[[0.00390625 0.015625   0.0234375  0.015625   0.00390625]\n",
      " [0.015625   0.0625     0.09375    0.0625     0.015625  ]\n",
      " [0.0234375  0.09375    0.140625   0.09375    0.0234375 ]\n",
      " [0.015625   0.0625     0.09375    0.0625     0.015625  ]\n",
      " [0.00390625 0.015625   0.0234375  0.015625   0.00390625]]\n"
     ]
    }
   ],
   "source": [
    "img = cv2.imread('img.png', cv2.IMREAD_GRAYSCALE)\n",
    "kernel = np.array([[1/256, 4/256, 6/256, 4/256, 1/256],\n",
    "                   [4/256, 16/256, 24/256, 16/256, 4/256], \n",
    "                   [6/256, 24/256, 36/256, 24/256, 6/256],\n",
    "                   [4/256, 16/256, 24/256, 16/256, 4/256],\n",
    "                   [1/256, 4/256, 6/256, 4/256, 1/256]])\n",
    "print(kernel)\n",
    "output = cv2.filter2D(img, -1, kernel)\n",
    "cv2.imshow('edge', output)\n",
    "cv2.waitKey(0)\n",
    "cv2.destroyAllWindows()"
   ]
  },
  {
   "cell_type": "code",
   "execution_count": null,
   "id": "85b45eb0-e6a7-4bcd-ac2d-b61e1cf8254b",
   "metadata": {},
   "outputs": [],
   "source": []
  }
 ],
 "metadata": {
  "kernelspec": {
   "display_name": "Python 3 (ipykernel)",
   "language": "python",
   "name": "python3"
  },
  "language_info": {
   "codemirror_mode": {
    "name": "ipython",
    "version": 3
   },
   "file_extension": ".py",
   "mimetype": "text/x-python",
   "name": "python",
   "nbconvert_exporter": "python",
   "pygments_lexer": "ipython3",
   "version": "3.10.12"
  }
 },
 "nbformat": 4,
 "nbformat_minor": 5
}

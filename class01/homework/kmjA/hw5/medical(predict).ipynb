{
 "cells": [
  {
   "cell_type": "code",
   "execution_count": 2,
   "id": "ea1ce68b-24fd-416f-87bc-fc3995b97cf1",
   "metadata": {},
   "outputs": [],
   "source": [
    "import numpy as np # forlinear algebra\n",
    "import matplotlib.pyplot as plt #for plotting things\n",
    "import os\n",
    "from PIL import Image # for reading images\n",
    "# Keras Libraries <- CNN\n",
    "import tensorflow as tf\n",
    "from tensorflow.keras import datasets, layers, models, Model, Sequential\n",
    "from tensorflow.keras.layers import Conv2D, MaxPooling2D, AveragePooling2D,Flatten, Dense, Input, BatchNormalization, Concatenate, Dropout\n",
    "from tensorflow.keras.preprocessing.image import ImageDataGenerator, load_img\n",
    "#from sklearn.metrics import classification_report, confusion_matrix # <- defineevaluation metrics"
   ]
  },
  {
   "cell_type": "code",
   "execution_count": 4,
   "id": "dfde84c1-e00f-4e43-b1ef-17f19b4c905c",
   "metadata": {},
   "outputs": [
    {
     "name": "stdout",
     "output_type": "stream",
     "text": [
      "Found 624 images belonging to 2 classes.\n"
     ]
    },
    {
     "name": "stderr",
     "output_type": "stream",
     "text": [
      "2024-05-29 16:55:11.703645: I external/local_xla/xla/stream_executor/cuda/cuda_executor.cc:998] successful NUMA node read from SysFS had negative value (-1), but there must be at least one NUMA node, so returning NUMA node zero. See more at https://github.com/torvalds/linux/blob/v6.0/Documentation/ABI/testing/sysfs-bus-pci#L344-L355\n",
      "2024-05-29 16:55:11.703953: W tensorflow/core/common_runtime/gpu/gpu_device.cc:2251] Cannot dlopen some GPU libraries. Please make sure the missing libraries mentioned above are installed properly if you would like to use GPU. Follow the guide at https://www.tensorflow.org/install/gpu for how to download and setup the required libraries for your platform.\n",
      "Skipping registering GPU devices...\n",
      "WARNING:absl:Compiled the loaded model, but the compiled metrics have yet to be built. `model.compile_metrics` will be empty until you train or evaluate the model.\n"
     ]
    },
    {
     "name": "stdout",
     "output_type": "stream",
     "text": [
      "\u001b[1m  1/624\u001b[0m \u001b[37m━━━━━━━━━━━━━━━━━━━━\u001b[0m \u001b[1m2:34\u001b[0m 247ms/step - accuracy: 0.9062 - loss: 0.2834"
     ]
    },
    {
     "name": "stderr",
     "output_type": "stream",
     "text": [
      "/home/ubuntu/workdir/.venv/lib/python3.10/site-packages/keras/src/trainers/data_adapters/py_dataset_adapter.py:121: UserWarning: Your `PyDataset` class should call `super().__init__(**kwargs)` in its constructor. `**kwargs` can include `workers`, `use_multiprocessing`, `max_queue_size`. Do not pass these arguments to `fit()`, as they will be ignored.\n",
      "  self._warn_if_super_not_called()\n"
     ]
    },
    {
     "name": "stdout",
     "output_type": "stream",
     "text": [
      "\u001b[1m624/624\u001b[0m \u001b[32m━━━━━━━━━━━━━━━━━━━━\u001b[0m\u001b[37m\u001b[0m \u001b[1m2s\u001b[0m 3ms/step - accuracy: 0.8125 - loss: 0.4319  \n",
      "The testing accuracy is : 81.25 %\n"
     ]
    },
    {
     "name": "stderr",
     "output_type": "stream",
     "text": [
      "2024-05-29 16:55:14.054881: W tensorflow/core/framework/local_rendezvous.cc:404] Local rendezvous is aborting with status: OUT_OF_RANGE: End of sequence\n",
      "\t [[{{node IteratorGetNext}}]]\n",
      "/usr/lib/python3.10/contextlib.py:153: UserWarning: Your input ran out of data; interrupting training. Make sure that your dataset or generator can generate at least `steps_per_epoch * epochs` batches. You may need to use the `.repeat()` function when building your dataset.\n",
      "  self.gen.throw(typ, value, traceback)\n"
     ]
    },
    {
     "name": "stdout",
     "output_type": "stream",
     "text": [
      "\u001b[1m20/20\u001b[0m \u001b[32m━━━━━━━━━━━━━━━━━━━━\u001b[0m\u001b[37m\u001b[0m \u001b[1m2s\u001b[0m 96ms/step\n",
      "actual || predict\n",
      "NORMAL || NORMAL\n",
      "NORMAL || PNEUMONIA\n",
      "NORMAL || PNEUMONIA\n",
      "NORMAL || PNEUMONIA\n",
      "NORMAL || NORMAL\n",
      "NORMAL || NORMAL\n",
      "NORMAL || NORMAL\n",
      "NORMAL || PNEUMONIA\n",
      "NORMAL || PNEUMONIA\n",
      "NORMAL || PNEUMONIA\n",
      "NORMAL || NORMAL\n",
      "NORMAL || PNEUMONIA\n",
      "NORMAL || PNEUMONIA\n",
      "NORMAL || PNEUMONIA\n",
      "NORMAL || PNEUMONIA\n",
      "NORMAL || PNEUMONIA\n",
      "NORMAL || PNEUMONIA\n",
      "NORMAL || NORMAL\n",
      "NORMAL || PNEUMONIA\n",
      "NORMAL || PNEUMONIA\n",
      "NORMAL || PNEUMONIA\n",
      "NORMAL || NORMAL\n",
      "NORMAL || PNEUMONIA\n",
      "NORMAL || PNEUMONIA\n",
      "PNEUMONIA || PNEUMONIA\n",
      "PNEUMONIA || PNEUMONIA\n",
      "PNEUMONIA || PNEUMONIA\n",
      "PNEUMONIA || PNEUMONIA\n",
      "PNEUMONIA || PNEUMONIA\n",
      "PNEUMONIA || PNEUMONIA\n",
      "PNEUMONIA || PNEUMONIA\n",
      "PNEUMONIA || NORMAL\n",
      "PNEUMONIA || PNEUMONIA\n",
      "PNEUMONIA || PNEUMONIA\n",
      "PNEUMONIA || PNEUMONIA\n",
      "PNEUMONIA || PNEUMONIA\n",
      "PNEUMONIA || PNEUMONIA\n",
      "PNEUMONIA || PNEUMONIA\n",
      "PNEUMONIA || PNEUMONIA\n",
      "PNEUMONIA || PNEUMONIA\n",
      "PNEUMONIA || PNEUMONIA\n",
      "PNEUMONIA || PNEUMONIA\n",
      "PNEUMONIA || PNEUMONIA\n",
      "PNEUMONIA || NORMAL\n",
      "PNEUMONIA || PNEUMONIA\n",
      "PNEUMONIA || PNEUMONIA\n",
      "PNEUMONIA || PNEUMONIA\n",
      "PNEUMONIA || PNEUMONIA\n",
      "PNEUMONIA || PNEUMONIA\n",
      "PNEUMONIA || PNEUMONIA\n",
      "PNEUMONIA || PNEUMONIA\n",
      "PNEUMONIA || PNEUMONIA\n",
      "PNEUMONIA || NORMAL\n",
      "PNEUMONIA || PNEUMONIA\n",
      "PNEUMONIA || PNEUMONIA\n",
      "PNEUMONIA || PNEUMONIA\n",
      "PNEUMONIA || PNEUMONIA\n",
      "PNEUMONIA || PNEUMONIA\n",
      "PNEUMONIA || PNEUMONIA\n",
      "PNEUMONIA || NORMAL\n",
      "PNEUMONIA || PNEUMONIA\n",
      "PNEUMONIA || NORMAL\n",
      "PNEUMONIA || PNEUMONIA\n"
     ]
    }
   ],
   "source": [
    "test_datagen = ImageDataGenerator(rescale = 1./255)  #Image normalization.\n",
    "test_set = test_datagen.flow_from_directory('./chest_xray/test',\n",
    "                                            target_size = (64, 64),\n",
    "                                            batch_size = 32,\n",
    "                                            class_mode = 'binary')\n",
    "model_fin = tf.keras.models.load_model('./medical_ann.h5')\n",
    "test_accu = model_fin.evaluate(test_set, steps=624)\n",
    "print('The testing accuracy is :',test_accu[1]*100, '%')\n",
    "\n",
    "# label 얻기 \n",
    "labels = test_set.labels\n",
    "\n",
    "Y_pred = model_fin.predict(test_set)\n",
    "#y_pred = np.argmax(Y_pred)\n",
    "y_pred = []\n",
    "for yy in Y_pred:\n",
    "    if yy >= 0.5:\n",
    "        y_pred.append(1)\n",
    "    else:\n",
    "        y_pred.append(0)\n",
    "class_name = [\"NORMAL\", \"PNEUMONIA\"]\n",
    "print(\"actual || predict\")\n",
    "for i in range(624):\n",
    "    if i%10 == 0:\n",
    "        print(class_name[labels[i]], end=\" || \")\n",
    "        print(class_name[y_pred[i]], end='\\n')"
   ]
  },
  {
   "cell_type": "code",
   "execution_count": null,
   "id": "7b9e0b00-35b8-494c-a5b7-64fcac4a7424",
   "metadata": {},
   "outputs": [],
   "source": []
  },
  {
   "cell_type": "code",
   "execution_count": null,
   "id": "30ea3bc3-c3f3-44f9-a0fe-e61489e02a0e",
   "metadata": {},
   "outputs": [],
   "source": []
  }
 ],
 "metadata": {
  "kernelspec": {
   "display_name": "Python 3 (ipykernel)",
   "language": "python",
   "name": "python3"
  },
  "language_info": {
   "codemirror_mode": {
    "name": "ipython",
    "version": 3
   },
   "file_extension": ".py",
   "mimetype": "text/x-python",
   "name": "python",
   "nbconvert_exporter": "python",
   "pygments_lexer": "ipython3",
   "version": "3.10.12"
  }
 },
 "nbformat": 4,
 "nbformat_minor": 5
}

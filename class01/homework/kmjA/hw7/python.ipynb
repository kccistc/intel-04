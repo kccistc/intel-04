{
 "cells": [
  {
   "cell_type": "code",
   "execution_count": null,
   "id": "d831e6aa-0d94-4c74-91b2-f7de0cbb04d9",
   "metadata": {},
   "outputs": [],
   "source": [
    "#실습1\n",
    "data1 = ('A','B')\n",
    "data2 = ('C',)\n",
    "data3 = data1 + data2"
   ]
  },
  {
   "cell_type": "code",
   "execution_count": 18,
   "id": "3e3ea3f0-3f75-4f90-8f51-112c41166394",
   "metadata": {},
   "outputs": [
    {
     "name": "stdout",
     "output_type": "stream",
     "text": [
      "[[ 1.  2.  3.  4.  5.  6.]\n",
      " [ 7.  8.  9. 10. 11. 12.]\n",
      " [13. 14. 15. 16. 17. 18.]\n",
      " [19. 20. 21. 22. 23. 24.]\n",
      " [25. 26. 27. 28. 29. 30.]\n",
      " [31. 32. 33. 34. 35. 36.]]\n"
     ]
    }
   ],
   "source": [
    "import numpy as np\n",
    "\n",
    "n=6\n",
    "A= np.zeros((n,n))\n",
    "for j in range(n):\n",
    "    for i in range(n):\n",
    "        A[j,i] = j*n+i+1\n",
    "print(A)\n",
    "    "
   ]
  },
  {
   "cell_type": "code",
   "execution_count": 23,
   "id": "7f4b091d-6c9f-4218-ae33-0c957307d1f0",
   "metadata": {},
   "outputs": [
    {
     "name": "stdout",
     "output_type": "stream",
     "text": [
      "[ 1.  2.  3.  4.  5.  6.  7.  8.  9. 10. 11. 12. 13. 14. 15. 16. 17. 18.\n",
      " 19. 20. 21. 22. 23. 24. 25. 26. 27. 28. 29. 30. 31. 32. 33. 34. 35. 36.]\n"
     ]
    }
   ],
   "source": [
    "print(A.reshape(-1))"
   ]
  },
  {
   "cell_type": "code",
   "execution_count": 32,
   "id": "6a7bd02f-a860-4ef6-b6d1-512507ffd39f",
   "metadata": {},
   "outputs": [
    {
     "name": "stdout",
     "output_type": "stream",
     "text": [
      "(275, 183, 3)\n",
      "(1, 275, 183, 3)\n",
      "(1, 3, 275, 183)\n"
     ]
    }
   ],
   "source": [
    "import cv2\n",
    "\n",
    "img =cv2.imread('img.png')\n",
    "print(img.shape)\n",
    "img_expend = np.expand_dims(img,0)\n",
    "print(img_expend.shape)\n",
    "img_expend_T = img_expend.transpose((0,3,1, 2))\n",
    "print(img_expend_T.shape)\n"
   ]
  },
  {
   "cell_type": "code",
   "execution_count": 2,
   "id": "cd3748d5-68bb-4b55-9440-103ee0ee078a",
   "metadata": {},
   "outputs": [
    {
     "name": "stdout",
     "output_type": "stream",
     "text": [
      "[[ 1  1  1]\n",
      " [ 1 -8  1]\n",
      " [ 1  1  1]]\n"
     ]
    }
   ],
   "source": [
    "import cv2\n",
    "import numpy as np\n",
    "\n",
    "img= cv2.imread('img.png',cv2.IMREAD_GRAYSCALE)\n",
    "kernel = np.array([[1,1,1],[1,-8,1],[1,1,1]])\n",
    "print(kernel)\n",
    "output = cv2.filter2D(img,-1,kernel)\n",
    "cv2.imshow('edge',output)\n",
    "cv2.waitKey(0)\n",
    "cv2.destroyAllWindows()"
   ]
  },
  {
   "cell_type": "code",
   "execution_count": 1,
   "id": "165c43ec-9d8f-49f3-ab6d-bdc9eb9bb322",
   "metadata": {},
   "outputs": [
    {
     "name": "stdout",
     "output_type": "stream",
     "text": [
      "[[ 1  1  1]\n",
      " [ 1 -8  1]\n",
      " [ 1  1  1]]\n"
     ]
    }
   ],
   "source": [
    "import cv2 \n",
    "import numpy as np\n",
    "\n",
    "img = cv2.imread('img.png', cv2.IMREAD_GRAYSCALE)\n",
    "kernel = np.array([[1, 1, 1], [1, -8, 1], [1, 1, 1]])\n",
    "print(kernel)\n",
    "\n",
    "\n",
    "padded_img = np.pad(img, ((1, 1), (1, 1)), mode='constant')\n",
    "\n",
    "output = np.zeros_like(img)\n",
    "\n",
    "for i in range(img.shape[0]):\n",
    "    for j in range(img.shape[1]):\n",
    "        sum = 0\n",
    "        for a in range(kernel.shape[0]):\n",
    "            for b in range(kernel.shape[1]):\n",
    "                sum += padded_img[i+a, j+b] * kernel[a, b]\n",
    "        output[i, j] = np.clip(sum, 0, 255)\n",
    "\n",
    "cv2.imshow('edge', output)\n",
    "cv2.waitKey(0)\n",
    "cv2.destroyAllWindows()\n"
   ]
  },
  {
   "cell_type": "code",
   "execution_count": null,
   "id": "b19f03df-bf2d-40a4-aece-7ea76e325dd1",
   "metadata": {},
   "outputs": [],
   "source": []
  }
 ],
 "metadata": {
  "kernelspec": {
   "display_name": "Python 3 (ipykernel)",
   "language": "python",
   "name": "python3"
  },
  "language_info": {
   "codemirror_mode": {
    "name": "ipython",
    "version": 3
   },
   "file_extension": ".py",
   "mimetype": "text/x-python",
   "name": "python",
   "nbconvert_exporter": "python",
   "pygments_lexer": "ipython3",
   "version": "3.10.12"
  }
 },
 "nbformat": 4,
 "nbformat_minor": 5
}

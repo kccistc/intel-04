{
 "cells": [
  {
   "cell_type": "code",
   "execution_count": 8,
   "id": "7ed10312-d782-4852-bc80-e11697926d0d",
   "metadata": {},
   "outputs": [
    {
     "name": "stdout",
     "output_type": "stream",
     "text": [
      "[[ 1  1  1]\n",
      " [ 1 -8  1]\n",
      " [ 1  1  1]]\n"
     ]
    }
   ],
   "source": [
    "import cv2\n",
    "import numpy as np\n",
    "img = cv2.imread('spongebob.png', cv2.IMREAD_GRAYSCALE)\n",
    "kernel = np.array([[1, 1, 1],[1, -8, 1], [1, 1, 1]])\n",
    "print(kernel)\n",
    "output = cv2.filter2D(img, -1, kernel)\n",
    "cv2.imshow('edge', output)\n",
    "key = cv2.waitKey(0)\n",
    "if key & 0xFF == ord('q'):\n",
    "    cv2.destroyAllWindows()"
   ]
  },
  {
   "cell_type": "code",
   "execution_count": 10,
   "id": "62a78cc5-6fb3-4b3c-adf8-f100c7831291",
   "metadata": {},
   "outputs": [
    {
     "name": "stdout",
     "output_type": "stream",
     "text": [
      "[[0 0 0]\n",
      " [0 1 0]\n",
      " [0 0 0]]\n"
     ]
    }
   ],
   "source": [
    "img = cv2.imread('spongebob.png', cv2.IMREAD_GRAYSCALE)\n",
    "kernel = np.array([[0, 0, 0],[0, 1, 0], [0, 0, 0]])\n",
    "print(kernel)\n",
    "output = cv2.filter2D(img, -1, kernel)\n",
    "cv2.imshow('edge', output)\n",
    "key = cv2.waitKey(0)\n",
    "if key & 0xFF == ord('q'):\n",
    "    cv2.destroyAllWindows()"
   ]
  },
  {
   "cell_type": "code",
   "execution_count": 19,
   "id": "1ce2db84-a427-4f6a-8480-3c9ad902adc6",
   "metadata": {},
   "outputs": [
    {
     "name": "stdout",
     "output_type": "stream",
     "text": [
      "[[ 0 -1  0]\n",
      " [-1  4 -1]\n",
      " [ 0 -1  0]]\n"
     ]
    }
   ],
   "source": [
    "img = cv2.imread('spongebob.png', cv2.IMREAD_GRAYSCALE)\n",
    "kernel = np.array([[0, -1, 0],[-1, 4, -1], [0, -1, 0]])\n",
    "print(kernel)\n",
    "output = cv2.filter2D(img, -1, kernel)\n",
    "cv2.imshow('edge', output)\n",
    "key = cv2.waitKey(0)\n",
    "if key & 0xFF == ord('q'):\n",
    "    cv2.destroyAllWindows()"
   ]
  },
  {
   "cell_type": "code",
   "execution_count": 18,
   "id": "5cd8bd5c-079c-4fb2-9dea-95ccdeb57c1e",
   "metadata": {},
   "outputs": [
    {
     "name": "stdout",
     "output_type": "stream",
     "text": [
      "[[-1 -1 -1]\n",
      " [-1  8 -1]\n",
      " [-1 -1 -1]]\n"
     ]
    }
   ],
   "source": [
    "img = cv2.imread('spongebob.png', cv2.IMREAD_GRAYSCALE)\n",
    "kernel = np.array([[-1, -1, -1],[-1, 8, -1], [-1, -1, -1]])\n",
    "print(kernel)\n",
    "output = cv2.filter2D(img, -1, kernel)\n",
    "cv2.imshow('edge', output)\n",
    "key = cv2.waitKey(0)\n",
    "if key & 0xFF == ord('q'):\n",
    "    cv2.destroyAllWindows()"
   ]
  },
  {
   "cell_type": "code",
   "execution_count": 13,
   "id": "79e29fdb-36cf-4521-a06e-53d33014c4fa",
   "metadata": {},
   "outputs": [
    {
     "name": "stdout",
     "output_type": "stream",
     "text": [
      "[[ 0 -1  0]\n",
      " [-1  5 -1]\n",
      " [ 0 -1  0]]\n"
     ]
    }
   ],
   "source": [
    "img = cv2.imread('spongebob.png', cv2.IMREAD_GRAYSCALE)\n",
    "kernel = np.array([[0, -1, 0],[-1, 5, -1], [0, -1, 0]])\n",
    "print(kernel)\n",
    "output = cv2.filter2D(img, -1, kernel)\n",
    "cv2.imshow('edge', output)\n",
    "key = cv2.waitKey(0)\n",
    "if key & 0xFF == ord('q'):\n",
    "    cv2.destroyAllWindows()"
   ]
  },
  {
   "cell_type": "code",
   "execution_count": 14,
   "id": "970a9327-4499-4279-8cfa-744adee6d536",
   "metadata": {},
   "outputs": [
    {
     "name": "stdout",
     "output_type": "stream",
     "text": [
      "[[0.11111111 0.11111111 0.11111111]\n",
      " [0.11111111 0.11111111 0.11111111]\n",
      " [0.11111111 0.11111111 0.11111111]]\n"
     ]
    }
   ],
   "source": [
    "img = cv2.imread('spongebob.png', cv2.IMREAD_GRAYSCALE)\n",
    "kernel = np.array([[1/9, 1/9, 1/9],[1/9, 1/9, 1/9], [1/9, 1/9, 1/9]])\n",
    "print(kernel)\n",
    "output = cv2.filter2D(img, -1, kernel)\n",
    "cv2.imshow('edge', output)\n",
    "key = cv2.waitKey(0)\n",
    "if key & 0xFF == ord('q'):\n",
    "    cv2.destroyAllWindows()"
   ]
  },
  {
   "cell_type": "code",
   "execution_count": 15,
   "id": "a86c3063-5527-4cdf-a22f-2ca84adffa29",
   "metadata": {},
   "outputs": [
    {
     "name": "stdout",
     "output_type": "stream",
     "text": [
      "[[0.0625 0.125  0.0625]\n",
      " [0.125  0.25   0.125 ]\n",
      " [0.0625 0.125  0.0625]]\n"
     ]
    }
   ],
   "source": [
    "img = cv2.imread('spongebob.png', cv2.IMREAD_GRAYSCALE)\n",
    "kernel = np.array([[1/16, 1/8, 1/16],[1/8, 1/4, 1/8], [1/16, 1/8, 1/16]])\n",
    "print(kernel)\n",
    "output = cv2.filter2D(img, -1, kernel)\n",
    "cv2.imshow('edge', output)\n",
    "key = cv2.waitKey(0)\n",
    "if key & 0xFF == ord('q'):\n",
    "    cv2.destroyAllWindows()"
   ]
  },
  {
   "cell_type": "code",
   "execution_count": 17,
   "id": "8585a027-750b-4efa-8d5f-78da2fa12585",
   "metadata": {},
   "outputs": [
    {
     "name": "stdout",
     "output_type": "stream",
     "text": [
      "[[0.00390625 0.015625   0.0234375  0.015625   0.00390625]\n",
      " [0.015625   0.0625     0.09375    0.0625     0.015625  ]\n",
      " [0.0234375  0.09375    0.140625   0.09375    0.0234375 ]\n",
      " [0.015625   0.0625     0.09375    0.0625     0.015625  ]\n",
      " [0.00390625 0.015625   0.0234375  0.015625   0.00390625]]\n"
     ]
    }
   ],
   "source": [
    "img = cv2.imread('spongebob.png', cv2.IMREAD_GRAYSCALE)\n",
    "kernel = np.array([[1/256, 4/256, 6/256, 4/256, 1/256],[4/256, 16/256, 24/256, 16/256, 4/256], [6/256, 24/256, 36/256, 24/256, 6/256],[4/256, 16/256, 24/256, 16/256, 4/256],[1/256, 4/256, 6/256, 4/256, 1/256]])\n",
    "print(kernel)\n",
    "output = cv2.filter2D(img, -1, kernel)\n",
    "cv2.imshow('edge', output)\n",
    "key = cv2.waitKey(0)\n",
    "if key & 0xFF == ord('q'):\n",
    "    cv2.destroyAllWindows()"
   ]
  },
  {
   "cell_type": "code",
   "execution_count": null,
   "id": "4c5e6e15-3de6-4b88-b258-21b9109b8798",
   "metadata": {},
   "outputs": [],
   "source": []
  }
 ],
 "metadata": {
  "kernelspec": {
   "display_name": "Python 3 (ipykernel)",
   "language": "python",
   "name": "python3"
  },
  "language_info": {
   "codemirror_mode": {
    "name": "ipython",
    "version": 3
   },
   "file_extension": ".py",
   "mimetype": "text/x-python",
   "name": "python",
   "nbconvert_exporter": "python",
   "pygments_lexer": "ipython3",
   "version": "3.10.12"
  }
 },
 "nbformat": 4,
 "nbformat_minor": 5
}

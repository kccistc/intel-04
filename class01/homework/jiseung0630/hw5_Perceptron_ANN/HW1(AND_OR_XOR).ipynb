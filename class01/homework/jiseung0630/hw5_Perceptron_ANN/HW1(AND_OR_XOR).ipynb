{
 "cells": [
  {
   "cell_type": "markdown",
   "id": "14373fc0-981e-45d5-bbcf-0c93b1847dbf",
   "metadata": {},
   "source": [
    "## HomeWork 1"
   ]
  },
  {
   "cell_type": "code",
   "execution_count": null,
   "id": "4e444eb3-79f8-4e7c-85f4-a2f374cf8fa0",
   "metadata": {},
   "outputs": [],
   "source": [
    "# importing Python library\n",
    "import numpy as np\n",
    "# define Unit Step Function\n",
    "def sigmoid(x):\n",
    "    return 1/(1+np.exp(x))"
   ]
  },
  {
   "cell_type": "code",
   "execution_count": 10,
   "id": "a50b02b1-a0f7-49d5-9404-619de7a6f9e2",
   "metadata": {},
   "outputs": [],
   "source": [
    "def numerical_derivative(f, x):\n",
    "    dx = 1e-4\n",
    "    gradf = np.zeros_like(x)\n",
    "\n",
    "    it = np.nditer(x,flags = ['multi_index'], op_flags=['readwrite'])\n",
    "\n",
    "    while not it.finished:\n",
    "        idx = it.multi_index\n",
    "        tmp_val=x[idx]\n",
    "        x[idx] = float((tmp_val)+dx)\n",
    "        fx1 = f(x)\n",
    "        x[idx] = float((tmp_val)-dx)\n",
    "        fx2 = f(x)\n",
    "        gradf[idx] = (fx1-fx2)/(2*dx)\n",
    "        x[idx] = tmp_val\n",
    "        it.iternext()\n",
    "    return gradf"
   ]
  },
  {
   "cell_type": "code",
   "execution_count": 16,
   "id": "c02f797e-85cb-448a-ab23-a367103a485f",
   "metadata": {},
   "outputs": [],
   "source": [
    "class logicGate:\n",
    "    def __init__(self, gate_name, xdata, tdata, learning_rate=0.01, threshold=0.5):\n",
    "        self.name = gate_name\n",
    "        self.__xdata=xdata.reshape(4,2)\n",
    "        self.__tdata=tdata.reshape(4,1)\n",
    "        self.__w=np.random.rand(2,1)\n",
    "        self.__b=np.random.rand(1)\n",
    "        self.__learning_rate = learning_rate\n",
    "        self.__threshold = threshold\n",
    "    def __loss_func(self):\n",
    "        delta = 1e-7\n",
    "        z = np.dot(self.__xdata, self.__w) + self.__b\n",
    "        y = sigmoid(z)\n",
    "        return -np.sum(self.__tdata*np.log(y+delta) + (1-self.__tdata)*np.log((1-y)+delta))\n",
    "    def err_val(self):\n",
    "        delta = 1e-7\n",
    "        z = np.dot(self.__xdata, self.__w)+self.__b\n",
    "        y = sigmoid(z)\n",
    "        return -np.sum(self.__tdata + np.log(y+delta) + (1-self.__tdata)*np.log((1-y)+delta))\n",
    "    def train(self):\n",
    "        f = lambda x : self.__loss_func()\n",
    "        print(\"init error : \", self.err_val())\n",
    "        for stp in range(20000):\n",
    "            self.__w -= self.__learning_rate * numerical_derivative(f, self.__w)\n",
    "            self.__b -= self.__learning_rate * numerical_derivative(f, self.__b)\n",
    "            if (stp % 2000 == 0):\n",
    "                print(\"step : \", stp, \"error : \", self.err_val(), f)\n",
    "    def predict(self, input_data):\n",
    "        z = np.dot(input_data, self.__w) + self.__b\n",
    "        y = sigmoid(z)\n",
    "        if y[0] > self.__threshold:\n",
    "            result = 1\n",
    "        else:\n",
    "            result = 0\n",
    "        return y, result"
   ]
  },
  {
   "cell_type": "code",
   "execution_count": 19,
   "id": "6867e941-1cdf-4cfe-a65a-fc7b0f9bf99d",
   "metadata": {},
   "outputs": [
    {
     "name": "stdout",
     "output_type": "stream",
     "text": [
      "init error :  5.497776524744415\n",
      "step :  0 error :  5.485638891404134 <function logicGate.train.<locals>.<lambda> at 0x7fe400f1e950>\n",
      "step :  2000 error :  7.429884829385865 <function logicGate.train.<locals>.<lambda> at 0x7fe400f1e950>\n",
      "step :  4000 error :  9.773997986701492 <function logicGate.train.<locals>.<lambda> at 0x7fe400f1e950>\n",
      "step :  6000 error :  11.427688232576912 <function logicGate.train.<locals>.<lambda> at 0x7fe400f1e950>\n",
      "step :  8000 error :  12.695317590696426 <function logicGate.train.<locals>.<lambda> at 0x7fe400f1e950>\n",
      "step :  10000 error :  13.719472643481703 <function logicGate.train.<locals>.<lambda> at 0x7fe400f1e950>\n",
      "step :  12000 error :  14.576919834786109 <function logicGate.train.<locals>.<lambda> at 0x7fe400f1e950>\n",
      "step :  14000 error :  15.313396306768693 <function logicGate.train.<locals>.<lambda> at 0x7fe400f1e950>\n",
      "step :  16000 error :  15.958230569502845 <function logicGate.train.<locals>.<lambda> at 0x7fe400f1e950>\n",
      "step :  18000 error :  16.531301620464422 <function logicGate.train.<locals>.<lambda> at 0x7fe400f1e950>\n",
      "[0 0]  :  0\n",
      "[0 1]  :  0\n",
      "[1 0]  :  0\n",
      "[1 1]  :  1\n",
      "init error :  2.99633585008869\n",
      "step :  0 error :  2.894637682555977 <function logicGate.train.<locals>.<lambda> at 0x7fe400f1e950>\n",
      "step :  2000 error :  -1.0608033624041224 <function logicGate.train.<locals>.<lambda> at 0x7fe400f1e950>\n",
      "step :  4000 error :  -0.6763973971434369 <function logicGate.train.<locals>.<lambda> at 0x7fe400f1e950>\n",
      "step :  6000 error :  -0.37356431914124366 <function logicGate.train.<locals>.<lambda> at 0x7fe400f1e950>\n",
      "step :  8000 error :  -0.13410956680630737 <function logicGate.train.<locals>.<lambda> at 0x7fe400f1e950>\n",
      "step :  10000 error :  0.06200778327138712 <function logicGate.train.<locals>.<lambda> at 0x7fe400f1e950>\n",
      "step :  12000 error :  0.2274634032776619 <function logicGate.train.<locals>.<lambda> at 0x7fe400f1e950>\n",
      "step :  14000 error :  0.37029484454870143 <function logicGate.train.<locals>.<lambda> at 0x7fe400f1e950>\n",
      "step :  16000 error :  0.49582039506008135 <function logicGate.train.<locals>.<lambda> at 0x7fe400f1e950>\n",
      "step :  18000 error :  0.607712156390356 <function logicGate.train.<locals>.<lambda> at 0x7fe400f1e950>\n",
      "[0 0]  :  0\n",
      "[0 1]  :  1\n",
      "[1 0]  :  1\n",
      "[1 1]  :  1\n",
      "init error :  2.705886264095276\n",
      "step :  0 error :  2.6952645975723657 <function logicGate.train.<locals>.<lambda> at 0x7fe419722200>\n",
      "step :  2000 error :  2.15877789329778 <function logicGate.train.<locals>.<lambda> at 0x7fe419722200>\n",
      "step :  4000 error :  2.158877429430389 <function logicGate.train.<locals>.<lambda> at 0x7fe419722200>\n",
      "step :  6000 error :  2.1588816928767347 <function logicGate.train.<locals>.<lambda> at 0x7fe419722200>\n",
      "step :  8000 error :  2.158881875213632 <function logicGate.train.<locals>.<lambda> at 0x7fe419722200>\n",
      "step :  10000 error :  2.158881883011337 <function logicGate.train.<locals>.<lambda> at 0x7fe419722200>\n",
      "step :  12000 error :  2.1588818833443923 <function logicGate.train.<locals>.<lambda> at 0x7fe419722200>\n",
      "step :  14000 error :  2.158881883358015 <function logicGate.train.<locals>.<lambda> at 0x7fe419722200>\n",
      "step :  16000 error :  2.158881883358015 <function logicGate.train.<locals>.<lambda> at 0x7fe419722200>\n",
      "step :  18000 error :  2.158881883358015 <function logicGate.train.<locals>.<lambda> at 0x7fe419722200>\n",
      "[0 0]  :  1\n",
      "[0 1]  :  1\n",
      "[1 0]  :  1\n",
      "[1 1]  :  0\n"
     ]
    }
   ],
   "source": [
    "xdata = np.array([[0,0],[0,1],[1,0],[1,1]])\n",
    "tdata = np.array([[0,0,0,1]])\n",
    "AND = logicGate(\"AND\", xdata, tdata)\n",
    "AND.train()\n",
    "for in_data in xdata:\n",
    "    (sig_val, logic_val) = AND.predict(in_data)\n",
    "    print(in_data , \" : \", logic_val)\n",
    "xdata = np.array([[0,0],[0,1],[1,0],[1,1]])\n",
    "tdata = np.array([[0,1,1,1]])\n",
    "OR = logicGate(\"OR\", xdata, tdata)\n",
    "OR.train()\n",
    "for in_data in xdata:\n",
    "    (sig_val, logic_val) = OR.predict(in_data)\n",
    "    print(in_data , \" : \", logic_val)\n",
    "xdata = np.array([[0,0],[0,1],[1,0],[1,1]])\n",
    "tdata = np.array([[0,1,1,0]])\n",
    "OR = logicGate(\"XOR\", xdata, tdata)\n",
    "OR.train()\n",
    "for in_data in xdata:\n",
    "    (sig_val, logic_val) = OR.predict(in_data)\n",
    "    print(in_data , \" : \", logic_val)"
   ]
  },
  {
   "cell_type": "code",
   "execution_count": null,
   "id": "6c57f970-8a27-4323-b551-6e42ac426ada",
   "metadata": {},
   "outputs": [],
   "source": []
  }
 ],
 "metadata": {
  "kernelspec": {
   "display_name": "Python 3 (ipykernel)",
   "language": "python",
   "name": "python3"
  },
  "language_info": {
   "codemirror_mode": {
    "name": "ipython",
    "version": 3
   },
   "file_extension": ".py",
   "mimetype": "text/x-python",
   "name": "python",
   "nbconvert_exporter": "python",
   "pygments_lexer": "ipython3",
   "version": "3.10.12"
  }
 },
 "nbformat": 4,
 "nbformat_minor": 5
}

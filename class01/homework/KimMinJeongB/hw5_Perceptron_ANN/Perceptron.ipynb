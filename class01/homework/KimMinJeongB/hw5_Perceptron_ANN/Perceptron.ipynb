{
 "cells": [
  {
   "cell_type": "code",
   "execution_count": 1,
   "id": "e10e8d5c-9eee-4276-8202-b00674237697",
   "metadata": {},
   "outputs": [],
   "source": [
    "import numpy as np"
   ]
  },
  {
   "cell_type": "code",
   "execution_count": 2,
   "id": "95ecf124-f900-45cb-af5e-1ce9f430b6ae",
   "metadata": {},
   "outputs": [],
   "source": [
    "def sigmoid(x):\n",
    "    return 1/(1+np.exp(x))"
   ]
  },
  {
   "cell_type": "code",
   "execution_count": 3,
   "id": "2a22ec93-739f-476f-9e79-d4cdbe9cbe86",
   "metadata": {},
   "outputs": [],
   "source": [
    "def numerical_derivative(f, x):\n",
    "    dx = 1e-4\n",
    "    gradf = np.zeros_like(x)\n",
    "\n",
    "    it = np.nditer(x, flags = ['multi_index'],op_flags = ['readwrite'])\n",
    "\n",
    "    while not it.finished:\n",
    "        idx = it.multi_index\n",
    "        tmp_val = x[idx]\n",
    "        x[idx] = float((tmp_val)+dx)\n",
    "        fx1 = f(x)\n",
    "\n",
    "        x[idx] = float((tmp_val)-dx)\n",
    "        fx2 = f(x)\n",
    "        gradf[idx] = (fx1-fx2)/(2*dx)\n",
    "\n",
    "        x[idx] = tmp_val\n",
    "        it.iternext()\n",
    "    return gradf"
   ]
  },
  {
   "cell_type": "code",
   "execution_count": 6,
   "id": "830167fb-d57e-4b5c-8295-cff013b0401d",
   "metadata": {},
   "outputs": [],
   "source": [
    "class logicGate:\n",
    "    def __init__(self, gate_name, xdata, tdata, learning_rate=0.01, threshold=0.5):\n",
    "        self.__xdata = xdata.reshape(4,2)\n",
    "        self.__tdata = tdata.reshape(4,1)\n",
    "\n",
    "        self.__w = np.random.rand(2,1)\n",
    "        self.__b = np.random.rand(1)\n",
    "\n",
    "        self.__learning_rate=learning_rate\n",
    "        self.__threshold=threshold\n",
    "\n",
    "    \n",
    "    def __loss_func(self):\n",
    "        delta = 1e-7\n",
    "\n",
    "        z = np.dot(self.__xdata, self.__w) + self.__b\n",
    "        y = sigmoid(z)\n",
    "        return -np.sum(self.__tdata*np.log(y+delta) + (1-self.__tdata)*np.log(1-y)+delta)\n",
    "\n",
    "    \n",
    "    def err_val(self):\n",
    "        delta = 1e-7\n",
    "\n",
    "        z = np.dot(self.__xdata, self.__w) + self.__b\n",
    "        y = sigmoid(z)\n",
    "        return -np.sum(self.__tdata + np.log(y+delta) + (1-self.__tdata)*np.log(1-y)+delta)\n",
    "\n",
    "    \n",
    "    def train(self):\n",
    "        f = lambda x : self.__loss_func()\n",
    "        print(\"init error : \", self.err_val())\n",
    "\n",
    "        for stp in range(20000):\n",
    "            self.__w -= self.__learning_rate * numerical_derivative(f, self.__w)\n",
    "            self.__b -= self.__learning_rate * numerical_derivative(f, self.__b)\n",
    "            if (stp % 2000 ==0):\n",
    "                print(\"step : \", stp, \"error : \", self.err_val(), f)\n",
    "\n",
    "    \n",
    "    def predict(self, input_data):\n",
    "        z = np.dot(input_data, self.__w) + self.__b\n",
    "        y = sigmoid(z)\n",
    "        \n",
    "        if y[0] > self.__threshold:\n",
    "            result = 1\n",
    "        else:\n",
    "            result = 0\n",
    "        return y, result"
   ]
  },
  {
   "cell_type": "code",
   "execution_count": 7,
   "id": "b015c674-d2bb-45c2-b08b-24a8a9642bd6",
   "metadata": {},
   "outputs": [
    {
     "name": "stdout",
     "output_type": "stream",
     "text": [
      "init error :  5.068585831525508\n",
      "step :  0 error :  5.06244247053184 <function logicGate.train.<locals>.<lambda> at 0x7eff85212b00>\n",
      "step :  2000 error :  7.435281829590184 <function logicGate.train.<locals>.<lambda> at 0x7eff85212b00>\n",
      "step :  4000 error :  9.777606293836838 <function logicGate.train.<locals>.<lambda> at 0x7eff85212b00>\n",
      "step :  6000 error :  11.430364825524022 <function logicGate.train.<locals>.<lambda> at 0x7eff85212b00>\n",
      "step :  8000 error :  12.697433986890166 <function logicGate.train.<locals>.<lambda> at 0x7eff85212b00>\n",
      "step :  10000 error :  13.721218008917402 <function logicGate.train.<locals>.<lambda> at 0x7eff85212b00>\n",
      "step :  12000 error :  14.578402418901462 <function logicGate.train.<locals>.<lambda> at 0x7eff85212b00>\n",
      "step :  14000 error :  15.314683458150629 <function logicGate.train.<locals>.<lambda> at 0x7eff85212b00>\n",
      "step :  16000 error :  15.959366882124812 <function logicGate.train.<locals>.<lambda> at 0x7eff85212b00>\n",
      "step :  18000 error :  16.53231807411926 <function logicGate.train.<locals>.<lambda> at 0x7eff85212b00>\n",
      "[0 0]  :  0\n",
      "[0 1]  :  0\n",
      "[1 0]  :  0\n",
      "[1 1]  :  1\n",
      "init error :  3.093992979430314\n",
      "step :  0 error :  2.9901233062476607 <function logicGate.train.<locals>.<lambda> at 0x7effcbd784c0>\n",
      "step :  2000 error :  -1.0637268273355978 <function logicGate.train.<locals>.<lambda> at 0x7effcbd784c0>\n",
      "step :  4000 error :  -0.6788862786919438 <function logicGate.train.<locals>.<lambda> at 0x7effcbd784c0>\n",
      "step :  6000 error :  -0.3755061982633565 <function logicGate.train.<locals>.<lambda> at 0x7effcbd784c0>\n",
      "step :  8000 error :  -0.13567460792703634 <function logicGate.train.<locals>.<lambda> at 0x7effcbd784c0>\n",
      "step :  10000 error :  0.06070451377970676 <function logicGate.train.<locals>.<lambda> at 0x7effcbd784c0>\n",
      "step :  12000 error :  0.22634972389736896 <function logicGate.train.<locals>.<lambda> at 0x7effcbd784c0>\n",
      "step :  14000 error :  0.3693239121509386 <function logicGate.train.<locals>.<lambda> at 0x7effcbd784c0>\n",
      "step :  16000 error :  0.4949604604643275 <function logicGate.train.<locals>.<lambda> at 0x7effcbd784c0>\n",
      "step :  18000 error :  0.606940837529278 <function logicGate.train.<locals>.<lambda> at 0x7effcbd784c0>\n",
      "[0 0]  :  0\n",
      "[0 1]  :  1\n",
      "[1 0]  :  1\n",
      "[1 1]  :  1\n"
     ]
    }
   ],
   "source": [
    "xdata = np.array([[0,0],[0,1],[1,0],[1,1]])\n",
    "tdata = np.array([[0,0,0,1]])\n",
    "\n",
    "AND = logicGate(\"AND\", xdata, tdata)\n",
    "AND.train()\n",
    "for in_data in xdata:\n",
    "    (sig_val, logic_val) = AND.predict(in_data)\n",
    "    print(in_data , \" : \", logic_val)\n",
    "\n",
    "\n",
    "xdata = np.array([[0,0],[0,1],[1,0],[1,1]])\n",
    "tdata = np.array([[0,1,1,1]])\n",
    "\n",
    "OR = logicGate(\"OR\", xdata, tdata)\n",
    "OR.train()\n",
    "for in_data in xdata:\n",
    "    (sig_val, logic_val) = OR.predict(in_data)\n",
    "    print(in_data , \" : \", logic_val)"
   ]
  },
  {
   "cell_type": "code",
   "execution_count": 8,
   "id": "556f62c0-dc78-43d4-a4f8-3930e4127787",
   "metadata": {},
   "outputs": [
    {
     "name": "stdout",
     "output_type": "stream",
     "text": [
      "init error :  4.101078329019778\n",
      "step :  0 error :  4.11690489679829 <function logicGate.train.<locals>.<lambda> at 0x7eff85212cb0>\n",
      "step :  2000 error :  10.44266690437659 <function logicGate.train.<locals>.<lambda> at 0x7eff85212cb0>\n",
      "step :  4000 error :  13.221256954398248 <function logicGate.train.<locals>.<lambda> at 0x7eff85212cb0>\n",
      "step :  6000 error :  15.07350481960045 <function logicGate.train.<locals>.<lambda> at 0x7eff85212cb0>\n",
      "step :  8000 error :  16.447271146790758 <function logicGate.train.<locals>.<lambda> at 0x7eff85212cb0>\n",
      "step :  10000 error :  17.534412149749855 <function logicGate.train.<locals>.<lambda> at 0x7eff85212cb0>\n",
      "step :  12000 error :  18.43154609347988 <function logicGate.train.<locals>.<lambda> at 0x7eff85212cb0>\n",
      "step :  14000 error :  19.193595109103377 <function logicGate.train.<locals>.<lambda> at 0x7eff85212cb0>\n",
      "step :  16000 error :  19.85458643101779 <function logicGate.train.<locals>.<lambda> at 0x7eff85212cb0>\n",
      "step :  18000 error :  20.436984191887575 <function logicGate.train.<locals>.<lambda> at 0x7eff85212cb0>\n",
      "[0 0]  :  1\n",
      "[0 1]  :  0\n",
      "[1 0]  :  0\n",
      "[1 1]  :  0\n"
     ]
    }
   ],
   "source": [
    "xdata = np.array([[0,0],[0,1],[1,0],[1,1]])\n",
    "tdata = np.array([[1,0,0,0]])\n",
    "\n",
    "XOR = logicGate(\"XOR\", xdata, tdata)\n",
    "XOR.train()\n",
    "for in_data in xdata:\n",
    "    (sig_val, logic_val) = XOR.predict(in_data)\n",
    "    print(in_data , \" : \", logic_val)"
   ]
  },
  {
   "cell_type": "code",
   "execution_count": null,
   "id": "7d4b51d1-12c6-42b0-8300-70604e040f27",
   "metadata": {},
   "outputs": [],
   "source": []
  }
 ],
 "metadata": {
  "kernelspec": {
   "display_name": "Python 3 (ipykernel)",
   "language": "python",
   "name": "python3"
  },
  "language_info": {
   "codemirror_mode": {
    "name": "ipython",
    "version": 3
   },
   "file_extension": ".py",
   "mimetype": "text/x-python",
   "name": "python",
   "nbconvert_exporter": "python",
   "pygments_lexer": "ipython3",
   "version": "3.10.12"
  }
 },
 "nbformat": 4,
 "nbformat_minor": 5
}

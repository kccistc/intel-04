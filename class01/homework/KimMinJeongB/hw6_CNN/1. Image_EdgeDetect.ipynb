{
 "cells": [
  {
   "cell_type": "code",
   "execution_count": 1,
   "id": "8b91a761-9cf4-4726-92f8-679c715aec99",
   "metadata": {},
   "outputs": [
    {
     "name": "stdout",
     "output_type": "stream",
     "text": [
      "Requirement already satisfied: opencv-python in /home/ubuntu/workdir/.venv/lib/python3.10/site-packages (4.9.0.80)\n",
      "Requirement already satisfied: numpy>=1.17.0 in /home/ubuntu/workdir/.venv/lib/python3.10/site-packages (from opencv-python) (1.26.4)\n"
     ]
    }
   ],
   "source": [
    "!pip install opencv-python"
   ]
  },
  {
   "cell_type": "code",
   "execution_count": 4,
   "id": "25f97406-63b8-417d-805f-e09bec0ff0ff",
   "metadata": {},
   "outputs": [],
   "source": [
    "import cv2\n",
    "import numpy as np"
   ]
  },
  {
   "cell_type": "code",
   "execution_count": 5,
   "id": "ccfc78bc-67c1-41fc-b726-cc2d663a6596",
   "metadata": {},
   "outputs": [
    {
     "name": "stdout",
     "output_type": "stream",
     "text": [
      "[[0.0625 0.125  0.0625]\n",
      " [0.125  0.25   0.125 ]\n",
      " [0.0625 0.125  0.0625]]\n"
     ]
    },
    {
     "data": {
      "text/plain": [
       "113"
      ]
     },
     "execution_count": 5,
     "metadata": {},
     "output_type": "execute_result"
    }
   ],
   "source": [
    "img = cv2.imread('my_input.jpeg', cv2.IMREAD_GRAYSCALE)\n",
    "#kernel = np.array([[-1,-1,-1], [0,0,0], [1,1,1]])\n",
    "#kernel = np.array([[-1,-1,-1], [-1,8,-1], [-1,-1,-1]])\n",
    "kernel = np.array([[1/16,2/16,1/16], [2/16,4/16,2/16], [1/16,2/16,1/16]])\n",
    "print(kernel)\n",
    "output = cv2.filter2D(img, -1, kernel)\n",
    "cv2.imshow('edge', output)\n",
    "cv2.waitKey(0)"
   ]
  },
  {
   "cell_type": "code",
   "execution_count": null,
   "id": "750ae1b4-e408-4a2b-b855-51acd76575f6",
   "metadata": {},
   "outputs": [],
   "source": []
  }
 ],
 "metadata": {
  "kernelspec": {
   "display_name": "Python 3 (ipykernel)",
   "language": "python",
   "name": "python3"
  },
  "language_info": {
   "codemirror_mode": {
    "name": "ipython",
    "version": 3
   },
   "file_extension": ".py",
   "mimetype": "text/x-python",
   "name": "python",
   "nbconvert_exporter": "python",
   "pygments_lexer": "ipython3",
   "version": "3.10.12"
  }
 },
 "nbformat": 4,
 "nbformat_minor": 5
}

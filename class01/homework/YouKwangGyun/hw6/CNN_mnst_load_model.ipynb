{
 "cells": [
  {
   "cell_type": "code",
   "execution_count": 3,
   "id": "e418b22e-78a9-4bdb-966f-3bbfa97837e9",
   "metadata": {},
   "outputs": [],
   "source": [
    "import tensorflow as tf\n",
    "import numpy as np\n",
    "import matplotlib.pyplot as plt\n",
    "import cv2"
   ]
  },
  {
   "cell_type": "code",
   "execution_count": 5,
   "id": "3eebc828-29c6-4f5c-8a70-69f05fec655e",
   "metadata": {},
   "outputs": [
    {
     "name": "stderr",
     "output_type": "stream",
     "text": [
      "WARNING:absl:Compiled the loaded model, but the compiled metrics have yet to be built. `model.compile_metrics` will be empty until you train or evaluate the model.\n"
     ]
    }
   ],
   "source": [
    "model = tf.keras.models.load_model('./fashion_mnist.h5')\n",
    "fashion_mnist = tf.keras.datasets.fashion_mnist"
   ]
  },
  {
   "cell_type": "code",
   "execution_count": 6,
   "id": "a8a74c11-5989-4258-91eb-675f4d5f4465",
   "metadata": {},
   "outputs": [],
   "source": [
    "(f_image_train, f_label_train), (f_image_test, f_label_test) = fashion_mnist.load_data()\n",
    "f_image_train, f_image_test = f_image_train / 255.0, f_image_test / 255.0\n",
    "num = 10"
   ]
  },
  {
   "cell_type": "code",
   "execution_count": 7,
   "id": "c5c01933-4d24-435e-9881-b3e7f2726f37",
   "metadata": {},
   "outputs": [
    {
     "name": "stdout",
     "output_type": "stream",
     "text": [
      "\u001b[1m1/1\u001b[0m \u001b[32m━━━━━━━━━━━━━━━━━━━━\u001b[0m\u001b[37m\u001b[0m \u001b[1m0s\u001b[0m 61ms/step\n",
      "[9 0 0 3 0 2 7 2 5 5]\n",
      " * Prediction,  [9 2 1 1 6 1 4 6 5 7]\n"
     ]
    }
   ],
   "source": [
    "predict = model.predict(f_image_test[:num])\n",
    "print(f_label_train[:num])\n",
    "print(\" * Prediction, \", np.argmax(predict, axis = 1))"
   ]
  },
  {
   "cell_type": "code",
   "execution_count": null,
   "id": "eec96ea9-81e8-40f2-b87f-21fe44b54a9f",
   "metadata": {},
   "outputs": [],
   "source": []
  }
 ],
 "metadata": {
  "kernelspec": {
   "display_name": "Python 3 (ipykernel)",
   "language": "python",
   "name": "python3"
  },
  "language_info": {
   "codemirror_mode": {
    "name": "ipython",
    "version": 3
   },
   "file_extension": ".py",
   "mimetype": "text/x-python",
   "name": "python",
   "nbconvert_exporter": "python",
   "pygments_lexer": "ipython3",
   "version": "3.10.12"
  }
 },
 "nbformat": 4,
 "nbformat_minor": 5
}

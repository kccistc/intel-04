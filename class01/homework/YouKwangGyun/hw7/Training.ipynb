{
 "cells": [
  {
   "cell_type": "code",
   "execution_count": 1,
   "id": "0d4ae2a6-edf3-4760-a1d3-817b747adb80",
   "metadata": {},
   "outputs": [
    {
     "name": "stdout",
     "output_type": "stream",
     "text": [
      "('A', 'B', 'C')\n",
      "<class 'tuple'>\n"
     ]
    }
   ],
   "source": [
    "import numpy as np\n",
    "import cv2\n",
    "import copy\n",
    "\n",
    "A = ('A', 'B')\n",
    "C = A + ('C', )\n",
    "print(C)\n",
    "print(type(C))"
   ]
  },
  {
   "cell_type": "code",
   "execution_count": 2,
   "id": "68413677-cada-4f01-8ca1-47903d833f86",
   "metadata": {},
   "outputs": [
    {
     "name": "stdout",
     "output_type": "stream",
     "text": [
      "[[ 0.  1.  2.  3.]\n",
      " [ 4.  5.  6.  7.]\n",
      " [ 8.  9. 10. 11.]\n",
      " [12. 13. 14. 15.]]\n"
     ]
    }
   ],
   "source": [
    "n = 4\n",
    "A = np.zeros((n, n))\n",
    "\n",
    "for j in range(n):\n",
    "    for i in range(n):\n",
    "        A[j, i] = j*n+i\n",
    "print(A)"
   ]
  },
  {
   "cell_type": "code",
   "execution_count": 3,
   "id": "1eacb7f4-b37a-47d9-9af1-ff2ee639451f",
   "metadata": {},
   "outputs": [
    {
     "name": "stdout",
     "output_type": "stream",
     "text": [
      "[ 0.  1.  2.  3.  4.  5.  6.  7.  8.  9. 10. 11. 12. 13. 14. 15.]\n"
     ]
    }
   ],
   "source": [
    "print(A.reshape(-1,))"
   ]
  },
  {
   "cell_type": "code",
   "execution_count": 4,
   "id": "669a3c2f-0bdd-45ec-98e4-87651359087c",
   "metadata": {},
   "outputs": [
    {
     "name": "stdout",
     "output_type": "stream",
     "text": [
      "(534, 532, 3)\n",
      "(1, 534, 532, 3)\n",
      "(1, 3, 534, 532)\n"
     ]
    }
   ],
   "source": [
    "image_path = \"apple.jpg\"\n",
    "image = cv2.imread(image_path)\n",
    "\n",
    "expanded_image = np.expand_dims(image, axis=0)\n",
    "\n",
    "transposed_image = np.transpose(expanded_image, (0, 3, 1, 2))\n",
    "\n",
    "print(image.shape)\n",
    "print(expanded_image.shape)\n",
    "print(transposed_image.shape)"
   ]
  },
  {
   "cell_type": "code",
   "execution_count": 5,
   "id": "cdd86c82-cd62-497e-a952-bb11943cc517",
   "metadata": {},
   "outputs": [
    {
     "name": "stdout",
     "output_type": "stream",
     "text": [
      "[[ 1  1  1]\n",
      " [ 1 -8  1]\n",
      " [ 1  1  1]]\n"
     ]
    },
    {
     "data": {
      "text/plain": [
       "113"
      ]
     },
     "execution_count": 5,
     "metadata": {},
     "output_type": "execute_result"
    }
   ],
   "source": [
    "img = cv2.imread(\"apple.jpg\")\n",
    "img = cv2.cvtColor(img, cv2.COLOR_BGR2RGB)\n",
    "kernel = np.array([[1,1,1],[1,-8,1],[1,1,1]])\n",
    "print(kernel)\n",
    "\n",
    "imgcpy = copy.deepcopy(img)\n",
    "imgcpy2 = np.zeros((imgcpy.shape[0],imgcpy.shape[1],imgcpy.shape[2]))\n",
    "\n",
    "for h in range(2, img.shape[0]-1):\n",
    "    for w in range(2, img.shape[1]-1):\n",
    "        for c in range(1, img.shape[2]):\n",
    "            img_tmp = np.dot(\n",
    "                img[h-1:h-1+kernel.shape[0], w-1:w-1+kernel.shape[1], c],\n",
    "                kernel)\n",
    "            imgcpy2[h,w,c] = np.sum(img_tmp)\n",
    "        \n",
    "# output = cv2.filter2D(img, -1, kernel)\n",
    "cv2.imshow('edge', imgcpy2/255)\n",
    "cv2.waitKey(0)"
   ]
  },
  {
   "cell_type": "code",
   "execution_count": null,
   "id": "9764aa3f-5b78-453a-93ef-d72e046a8151",
   "metadata": {},
   "outputs": [],
   "source": []
  }
 ],
 "metadata": {
  "kernelspec": {
   "display_name": "Python 3 (ipykernel)",
   "language": "python",
   "name": "python3"
  },
  "language_info": {
   "codemirror_mode": {
    "name": "ipython",
    "version": 3
   },
   "file_extension": ".py",
   "mimetype": "text/x-python",
   "name": "python",
   "nbconvert_exporter": "python",
   "pygments_lexer": "ipython3",
   "version": "3.10.12"
  }
 },
 "nbformat": 4,
 "nbformat_minor": 5
}

{
 "cells": [
  {
   "cell_type": "code",
   "execution_count": 16,
   "id": "7e34c3c0-6888-4045-ad85-dd3b741fac10",
   "metadata": {},
   "outputs": [
    {
     "name": "stdout",
     "output_type": "stream",
     "text": [
      "Requirement already satisfied: numpy in ./.venv/lib/python3.10/site-packages (1.26.4)\n"
     ]
    }
   ],
   "source": [
    "# importing Python library\n",
    "!pip install numpy\n",
    "import numpy as np\n",
    "\n",
    "# define Unit Step Function\n",
    "def sigmoid(x):\n",
    "    return 1/(1+np.exp(x))"
   ]
  },
  {
   "cell_type": "code",
   "execution_count": 17,
   "id": "7bd36172-2816-4ad6-b5cb-7532f6fc9d44",
   "metadata": {},
   "outputs": [],
   "source": [
    "def numerical_derivative(f, x):\n",
    "    dx = 1e-4\n",
    "    gradf = np.zeros_like(x)\n",
    "    \n",
    "    it = np.nditer(x, flags = ['multi_index'], op_flags=['readwrite'])\n",
    "                               \n",
    "    while not it.finished:\n",
    "        idx = it.multi_index\n",
    "        tmp_val = x[idx]\n",
    "        x[idx] = float((tmp_val)+dx)\n",
    "        fx1 = f(x)\n",
    "\n",
    "        x[idx] = float((tmp_val)-dx)\n",
    "        fx2 = f(x)\n",
    "        gradf[idx] = (fx1-fx2)/(2*dx)\n",
    "\n",
    "        x[idx] = tmp_val\n",
    "        it.iternext()\n",
    "    return gradf"
   ]
  },
  {
   "cell_type": "code",
   "execution_count": 18,
   "id": "bdd5fae7-d042-406d-b85e-270de6e71854",
   "metadata": {},
   "outputs": [],
   "source": [
    "class logicGate:\n",
    "    def __init__(self, gate_name, xdata, tdata, learning_rate=0.01, threshold=0.5):\n",
    "        self.name = gate_name\n",
    "        \n",
    "        self.__xdata=xdata.reshape(4,2)\n",
    "        self.__tdata=tdata.reshape(4,1)\n",
    "        \n",
    "        self.__w=np.random.rand(2,1)\n",
    "        self.__b=np.random.rand(1)\n",
    "        \n",
    "        self.__learning_rate = learning_rate\n",
    "        self.__threshold = threshold\n",
    "        \n",
    "    def __loss_func(self):\n",
    "        delta = 1e-7\n",
    "        \n",
    "        z = np.dot(self.__xdata, self.__w) + self.__b\n",
    "        y = sigmoid(z)\n",
    "        \n",
    "        return -np.sum(self.__tdata*np.log(y+delta) + (1-self.__tdata)*np.log((1-y)+delta))\n",
    "    def err_val(self):\n",
    "        delta = 1e-7\n",
    "        \n",
    "        z = np.dot(self.__xdata, self.__w)+self.__b\n",
    "        y = sigmoid(z)\n",
    "        return -np.sum(self.__tdata + np.log(y+delta) + (1-self.__tdata)*np.log((1-y)+delta))\n",
    "        \n",
    "    def train(self):\n",
    "        f = lambda x : self.__loss_func()\n",
    "        print(\"init error : \", self.err_val())\n",
    "        \n",
    "        for stp in range(20000):\n",
    "            self.__w -= self.__learning_rate * numerical_derivative(f, self.__w)\n",
    "            self.__b -= self.__learning_rate * numerical_derivative(f, self.__b)\n",
    "            if (stp % 2000 == 0):\n",
    "                print(\"step : \", stp, \"error : \", self.err_val(), f)\n",
    "    def predict(self, input_data):\n",
    "        z = np.dot(input_data, self.__w) + self.__b\n",
    "        y = sigmoid(z)\n",
    "        \n",
    "        if y[0] > self.__threshold:\n",
    "            result = 1\n",
    "        else:\n",
    "            result = 0\n",
    "        return y, result"
   ]
  },
  {
   "cell_type": "code",
   "execution_count": 19,
   "id": "481504cd-efc6-4161-8a53-7a862b985a7e",
   "metadata": {},
   "outputs": [
    {
     "name": "stdout",
     "output_type": "stream",
     "text": [
      "init error :  4.052382422762214\n",
      "step :  0 error :  4.057227878576938 <function logicGate.train.<locals>.<lambda> at 0x7fb747f3ec20>\n",
      "step :  2000 error :  7.474114172081853 <function logicGate.train.<locals>.<lambda> at 0x7fb747f3ec20>\n",
      "step :  4000 error :  9.803699036997651 <function logicGate.train.<locals>.<lambda> at 0x7fb747f3ec20>\n",
      "step :  6000 error :  11.44973228812096 <function logicGate.train.<locals>.<lambda> at 0x7fb747f3ec20>\n",
      "step :  8000 error :  12.712753404133744 <function logicGate.train.<locals>.<lambda> at 0x7fb747f3ec20>\n",
      "step :  10000 error :  13.733854656009616 <function logicGate.train.<locals>.<lambda> at 0x7fb747f3ec20>\n",
      "step :  12000 error :  14.589138177974336 <function logicGate.train.<locals>.<lambda> at 0x7fb747f3ec20>\n",
      "step :  14000 error :  15.324005054235908 <function logicGate.train.<locals>.<lambda> at 0x7fb747f3ec20>\n",
      "step :  16000 error :  15.967596728130914 <function logicGate.train.<locals>.<lambda> at 0x7fb747f3ec20>\n",
      "step :  18000 error :  16.53968022599017 <function logicGate.train.<locals>.<lambda> at 0x7fb747f3ec20>\n",
      "[0 0]  :  0\n",
      "[0 1]  :  0\n",
      "[1 0]  :  0\n",
      "[1 1]  :  1\n"
     ]
    }
   ],
   "source": [
    "xdata = np.array([[0,0],[0,1],[1,0],[1,1]])\n",
    "tdata = np.array([[0,0,0,1]])\n",
    "\n",
    "AND = logicGate(\"AND\", xdata, tdata)\n",
    "AND.train()\n",
    "for in_data in xdata:\n",
    "    (sig_val, logic_val) = AND.predict(in_data)\n",
    "    print(in_data , \" : \", logic_val)"
   ]
  },
  {
   "cell_type": "code",
   "execution_count": 20,
   "id": "7569b315-4005-4cda-ac7c-4077b3941b47",
   "metadata": {},
   "outputs": [
    {
     "name": "stdout",
     "output_type": "stream",
     "text": [
      "init error :  2.285536185316473\n",
      "step :  0 error :  2.199715768749014 <function logicGate.train.<locals>.<lambda> at 0x7fb747f3ee60>\n",
      "step :  2000 error :  -1.0600818442869768 <function logicGate.train.<locals>.<lambda> at 0x7fb747f3ee60>\n",
      "step :  4000 error :  -0.6758437466249644 <function logicGate.train.<locals>.<lambda> at 0x7fb747f3ee60>\n",
      "step :  6000 error :  -0.3731387840446999 <function logicGate.train.<locals>.<lambda> at 0x7fb747f3ee60>\n",
      "step :  8000 error :  -0.1337679295528631 <function logicGate.train.<locals>.<lambda> at 0x7fb747f3ee60>\n",
      "step :  10000 error :  0.06229189348222974 <function logicGate.train.<locals>.<lambda> at 0x7fb747f3ee60>\n",
      "step :  12000 error :  0.22770604409671424 <function logicGate.train.<locals>.<lambda> at 0x7fb747f3ee60>\n",
      "step :  14000 error :  0.3705063259959197 <function logicGate.train.<locals>.<lambda> at 0x7fb747f3ee60>\n",
      "step :  16000 error :  0.49600767195909046 <function logicGate.train.<locals>.<lambda> at 0x7fb747f3ee60>\n",
      "step :  18000 error :  0.6078801199026784 <function logicGate.train.<locals>.<lambda> at 0x7fb747f3ee60>\n",
      "[0 0]  :  0\n",
      "[0 1]  :  1\n",
      "[1 0]  :  1\n",
      "[1 1]  :  1\n"
     ]
    }
   ],
   "source": [
    "xdata = np.array([[0,0],[0,1],[1,0],[1,1]])\n",
    "tdata = np.array([[0,1,1,1]])\n",
    "\n",
    "OR = logicGate(\"OR\", xdata, tdata)\n",
    "OR.train()\n",
    "for in_data in xdata:\n",
    "    (sig_val, logic_val) = OR.predict(in_data)\n",
    "    print(in_data , \" : \", logic_val)"
   ]
  },
  {
   "cell_type": "code",
   "execution_count": null,
   "id": "8ea441b3-ca85-4e79-b17a-51ddeef76d20",
   "metadata": {},
   "outputs": [],
   "source": []
  }
 ],
 "metadata": {
  "kernelspec": {
   "display_name": "Python 3 (ipykernel)",
   "language": "python",
   "name": "python3"
  },
  "language_info": {
   "codemirror_mode": {
    "name": "ipython",
    "version": 3
   },
   "file_extension": ".py",
   "mimetype": "text/x-python",
   "name": "python",
   "nbconvert_exporter": "python",
   "pygments_lexer": "ipython3",
   "version": "3.10.12"
  }
 },
 "nbformat": 4,
 "nbformat_minor": 5
}

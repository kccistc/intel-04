{
 "cells": [
  {
   "cell_type": "code",
   "execution_count": 7,
   "id": "08aa6687-e444-41d5-9a24-be07508bf166",
   "metadata": {},
   "outputs": [
    {
     "name": "stdout",
     "output_type": "stream",
     "text": [
      "Collecting numpy\n",
      "  Downloading numpy-1.26.4-cp310-cp310-manylinux_2_17_x86_64.manylinux2014_x86_64.whl (18.2 MB)\n",
      "\u001b[2K     \u001b[38;2;114;156;31m━━━━━━━━━━━━━━━━━━━━━━━━━━━━━━━━━━━━━━━━\u001b[0m \u001b[32m18.2/18.2 MB\u001b[0m \u001b[31m18.3 MB/s\u001b[0m eta \u001b[36m0:00:00\u001b[0mm eta \u001b[36m0:00:01\u001b[0m0:01\u001b[0m:01\u001b[0m\n",
      "\u001b[?25hInstalling collected packages: numpy\n",
      "Successfully installed numpy-1.26.4\n",
      "Note: you may need to restart the kernel to use updated packages.\n"
     ]
    }
   ],
   "source": [
    "pip install numpy"
   ]
  },
  {
   "cell_type": "code",
   "execution_count": 7,
   "id": "3c9f3f61-9d92-4c4d-94a4-ad7712e579e1",
   "metadata": {
    "editable": true,
    "slideshow": {
     "slide_type": ""
    },
    "tags": []
   },
   "outputs": [],
   "source": [
    "import numpy as np\n",
    "\n",
    "def sigmoid(x):\n",
    "    return 1/(1+np.exp(x))\n",
    "\n",
    "def numerical_derivative(f, x):\n",
    "    dx = 1e-4\n",
    "    gradf = np.zeros_like(x)\n",
    "    it = np.nditer(x, flags = ['multi_index'],op_flags=['readwrite'])\n",
    "    while not it.finished:\n",
    "        idx = it.multi_index\n",
    "        tmp_val = x[idx]\n",
    "        x[idx] = float((tmp_val)+dx)\n",
    "        fx1 = f(x)\n",
    "        \n",
    "        x[idx] = float((tmp_val)-dx)\n",
    "        fx2 = f(x)\n",
    "        gradf[idx] = (fx1-fx2)/(2*dx)\n",
    "        \n",
    "        x[idx] = tmp_val\n",
    "        it.iternext()\n",
    "    return gradf\n",
    "\n",
    "class logicGate:\n",
    "    def __init__(self, gate_name, xdata, tdata, learning_rate=0.01, threshold=0.5):\n",
    "        self.name = gate_name\n",
    "        self.__xdata=xdata.reshape(4,2)\n",
    "        self.__tdata=tdata.reshape(4,1)\n",
    "        self.__w=np.random.rand(2,1)\n",
    "        self.__b=np.random.rand(1)\n",
    "        self.__learning_rate = learning_rate\n",
    "        self.__threshold = threshold\n",
    "        \n",
    "    def __loss_func(self):\n",
    "        delta = 1e-7\n",
    "        z = np.dot(self.__xdata, self.__w) + self.__b\n",
    "        y = sigmoid(z)\n",
    "        return -np.sum(self.__tdata*np.log(y+delta) + (1-self.__tdata)*np.log((1-y)+delta))\n",
    "\n",
    "    def err_val(self):\n",
    "        delta = 1e-7\n",
    "        z = np.dot(self.__xdata, self.__w)+self.__b\n",
    "        y = sigmoid(z)\n",
    "        return -np.sum(self.__tdata + np.log(y+delta) + (1-self.__tdata)*np.log((1-y)+delta))\n",
    "    \n",
    "    def train(self):\n",
    "        f = lambda x : self.__loss_func()\n",
    "        print(\"init error : \", self.err_val())\n",
    "    \n",
    "        for stp in range(20000):\n",
    "            self.__w -= self.__learning_rate * numerical_derivative(f, self.__w)\n",
    "            self.__b -= self.__learning_rate * numerical_derivative(f, self.__b)\n",
    "            if (stp % 2000 == 0):\n",
    "                print(\"step : \", stp, \"error : \", self.err_val(), f)\n",
    "\n",
    "    def predict(self, input_data):\n",
    "        z = np.dot(input_data, self.__w) + self.__b\n",
    "        y = sigmoid(z)\n",
    "        if y[0] > self.__threshold:\n",
    "            result = 1\n",
    "        else:\n",
    "            result = 0\n",
    "        return y, result"
   ]
  },
  {
   "cell_type": "markdown",
   "id": "80be2be9-a91a-424c-9915-2a8a38bb5399",
   "metadata": {
    "editable": true,
    "slideshow": {
     "slide_type": ""
    },
    "tags": []
   },
   "source": [
    "01. Logic Gate (AND)"
   ]
  },
  {
   "cell_type": "code",
   "execution_count": 8,
   "id": "e973a726-a6b6-415f-96e1-085002a5b579",
   "metadata": {
    "editable": true,
    "slideshow": {
     "slide_type": ""
    },
    "tags": []
   },
   "outputs": [
    {
     "name": "stdout",
     "output_type": "stream",
     "text": [
      "init error :  5.524928044675224\n",
      "step :  0 error :  5.510591923047071 <function logicGate.train.<locals>.<lambda> at 0x7f9c784f4790>\n",
      "step :  2000 error :  7.600321839079984 <function logicGate.train.<locals>.<lambda> at 0x7f9c784f4790>\n",
      "step :  4000 error :  9.888646516709656 <function logicGate.train.<locals>.<lambda> at 0x7f9c784f4790>\n",
      "step :  6000 error :  11.512928544219855 <function logicGate.train.<locals>.<lambda> at 0x7f9c784f4790>\n",
      "step :  8000 error :  12.762814280725369 <function logicGate.train.<locals>.<lambda> at 0x7f9c784f4790>\n",
      "step :  10000 error :  13.775190401405291 <function logicGate.train.<locals>.<lambda> at 0x7f9c784f4790>\n",
      "step :  12000 error :  14.624281596543373 <function logicGate.train.<locals>.<lambda> at 0x7f9c784f4790>\n",
      "step :  14000 error :  15.354536079678462 <function logicGate.train.<locals>.<lambda> at 0x7f9c784f4790>\n",
      "step :  16000 error :  15.994563570202923 <function logicGate.train.<locals>.<lambda> at 0x7f9c784f4790>\n",
      "step :  18000 error :  16.563812217828062 <function logicGate.train.<locals>.<lambda> at 0x7f9c784f4790>\n",
      "[0 0]  :  0\n",
      "[0 1]  :  0\n",
      "[1 0]  :  0\n",
      "[1 1]  :  1\n"
     ]
    }
   ],
   "source": [
    "xdata = np.array([[0,0],[0,1],[1,0],[1,1]])\n",
    "tdata = np.array([[0,0,0,1]])\n",
    "\n",
    "AND = logicGate(\"AND\", xdata, tdata)\n",
    "AND.train()\n",
    "for in_data in xdata:\n",
    "    (sig_val, logic_val) = AND.predict(in_data)\n",
    "    print(in_data , \" : \", logic_val)"
   ]
  },
  {
   "cell_type": "markdown",
   "id": "a6476c46-a367-4ebb-9f9a-cf39dbdcf0be",
   "metadata": {
    "editable": true,
    "slideshow": {
     "slide_type": ""
    },
    "tags": []
   },
   "source": [
    "2. Logic Gate (OR)"
   ]
  },
  {
   "cell_type": "code",
   "execution_count": 9,
   "id": "e94d5b67-ab7d-40fa-8e45-a72f8f72c509",
   "metadata": {},
   "outputs": [
    {
     "name": "stdout",
     "output_type": "stream",
     "text": [
      "init error :  2.945985016559362\n",
      "step :  0 error :  2.8457651513091617 <function logicGate.train.<locals>.<lambda> at 0x7f9c83e58ca0>\n",
      "step :  2000 error :  -1.0639884367691037 <function logicGate.train.<locals>.<lambda> at 0x7f9c83e58ca0>\n",
      "step :  4000 error :  -0.679059474868537 <function logicGate.train.<locals>.<lambda> at 0x7f9c83e58ca0>\n",
      "step :  6000 error :  -0.3756359802032426 <function logicGate.train.<locals>.<lambda> at 0x7f9c83e58ca0>\n",
      "step :  8000 error :  -0.13577803712732162 <function logicGate.train.<locals>.<lambda> at 0x7f9c83e58ca0>\n",
      "step :  10000 error :  0.060618765423591014 <function logicGate.train.<locals>.<lambda> at 0x7f9c83e58ca0>\n",
      "step :  12000 error :  0.22627661400859034 <function logicGate.train.<locals>.<lambda> at 0x7f9c83e58ca0>\n",
      "step :  14000 error :  0.3692602608741127 <function logicGate.train.<locals>.<lambda> at 0x7f9c83e58ca0>\n",
      "step :  16000 error :  0.4949041408650081 <function logicGate.train.<locals>.<lambda> at 0x7f9c83e58ca0>\n",
      "step :  18000 error :  0.606890360581273 <function logicGate.train.<locals>.<lambda> at 0x7f9c83e58ca0>\n",
      "[0 0]  :  0\n",
      "[0 1]  :  1\n",
      "[1 0]  :  1\n",
      "[1 1]  :  1\n"
     ]
    }
   ],
   "source": [
    "xdata = np.array([[0,0],[0,1],[1,0],[1,1]])\n",
    "tdata = np.array([[0,1,1,1]])\n",
    "\n",
    "OR = logicGate(\"OR\", xdata, tdata)\n",
    "OR.train()\n",
    "for in_data in xdata:\n",
    "    (sig_val, logic_val) = OR.predict(in_data)\n",
    "    print(in_data , \" : \", logic_val)"
   ]
  },
  {
   "cell_type": "markdown",
   "id": "37b81367-cb91-4045-b9fe-368afa74ce53",
   "metadata": {
    "editable": true,
    "slideshow": {
     "slide_type": ""
    },
    "tags": []
   },
   "source": [
    "3. Logic Gate (XOR)"
   ]
  },
  {
   "cell_type": "code",
   "execution_count": 10,
   "id": "4a7b8554-675f-48c3-8282-ecd8f1b5f77c",
   "metadata": {},
   "outputs": [
    {
     "name": "stdout",
     "output_type": "stream",
     "text": [
      "init error :  4.368254557033884\n",
      "step :  0 error :  4.325930319686986 <function logicGate.train.<locals>.<lambda> at 0x7f9c784f45e0>\n",
      "step :  2000 error :  2.158143009023086 <function logicGate.train.<locals>.<lambda> at 0x7f9c784f45e0>\n",
      "step :  4000 error :  2.1588499016148477 <function logicGate.train.<locals>.<lambda> at 0x7f9c784f45e0>\n",
      "step :  6000 error :  2.158880515027753 <function logicGate.train.<locals>.<lambda> at 0x7f9c784f45e0>\n",
      "step :  8000 error :  2.1588818248427293 <function logicGate.train.<locals>.<lambda> at 0x7f9c784f45e0>\n",
      "step :  10000 error :  2.1588818808574697 <function logicGate.train.<locals>.<lambda> at 0x7f9c784f45e0>\n",
      "step :  12000 error :  2.158881883252631 <function logicGate.train.<locals>.<lambda> at 0x7f9c784f45e0>\n",
      "step :  14000 error :  2.158881883355382 <function logicGate.train.<locals>.<lambda> at 0x7f9c784f45e0>\n",
      "step :  16000 error :  2.158881883357158 <function logicGate.train.<locals>.<lambda> at 0x7f9c784f45e0>\n",
      "step :  18000 error :  2.158881883357158 <function logicGate.train.<locals>.<lambda> at 0x7f9c784f45e0>\n",
      "[0 0]  :  1\n",
      "[0 1]  :  1\n",
      "[1 0]  :  1\n",
      "[1 1]  :  0\n"
     ]
    }
   ],
   "source": [
    "xdata = np.array([[0,0],[0,1],[1,0],[1,1]])\n",
    "tdata = np.array([[0,1,1,0]])\n",
    "\n",
    "XOR = logicGate(\"XOR\", xdata, tdata)\n",
    "XOR.train()\n",
    "for in_data in xdata:\n",
    "    (sig_val, logic_val) = XOR.predict(in_data)\n",
    "    print(in_data , \" : \", logic_val)"
   ]
  },
  {
   "cell_type": "code",
   "execution_count": null,
   "id": "04115957-391b-417d-a70f-c924a7dba4cc",
   "metadata": {},
   "outputs": [],
   "source": []
  }
 ],
 "metadata": {
  "kernelspec": {
   "display_name": "Python 3 (ipykernel)",
   "language": "python",
   "name": "python3"
  },
  "language_info": {
   "codemirror_mode": {
    "name": "ipython",
    "version": 3
   },
   "file_extension": ".py",
   "mimetype": "text/x-python",
   "name": "python",
   "nbconvert_exporter": "python",
   "pygments_lexer": "ipython3",
   "version": "3.10.12"
  }
 },
 "nbformat": 4,
 "nbformat_minor": 5
}

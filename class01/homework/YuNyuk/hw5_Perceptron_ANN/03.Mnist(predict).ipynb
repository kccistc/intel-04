{
 "cells": [
  {
   "cell_type": "code",
   "execution_count": null,
   "id": "1dba6aae-0cf0-41e4-bc43-b613c1f1ddf7",
   "metadata": {},
   "outputs": [],
   "source": [
    "import tensorflow as tf\n",
    "import numpy as np\n",
    "import matplotlib.pyplot as plt\n",
    "import cv2\n",
    "\n",
    "model = tf.keras.models.load_model('./mnist.h5')\n",
    "mnist = tf.keras.datasets.mnist\n",
    "(image_train, label_train), (image_test, label_test) = mnist.load_data()\n",
    "\n",
    "image_train, image_test = image_train / 255.0, image_test / 255.0\n",
    "\n",
    "num = 10\n",
    "predict = model.predict(image_test[:num])\n",
    "print(label_test[:num])\n",
    "print(\" * Prediction, \", np.argmax(predict, axis = 1))"
   ]
  },
  {
   "cell_type": "code",
   "execution_count": null,
   "id": "56521931-0f6c-4a6e-8e88-253526516bc5",
   "metadata": {},
   "outputs": [],
   "source": [
    "# 모델 컴파일 및 평가\n",
    "model.compile(optimizer='adam', loss='sparse_categorical_crossentropy', metrics=['accuracy'])\n",
    "loss, accuracy = model.evaluate(image_test, label_test)\n",
    "print(f\"Test accuracy: {accuracy}\")"
   ]
  }
 ],
 "metadata": {
  "kernelspec": {
   "display_name": "Python 3 (ipykernel)",
   "language": "python",
   "name": "python3"
  },
  "language_info": {
   "codemirror_mode": {
    "name": "ipython",
    "version": 3
   },
   "file_extension": ".py",
   "mimetype": "text/x-python",
   "name": "python",
   "nbconvert_exporter": "python",
   "pygments_lexer": "ipython3",
   "version": "3.10.12"
  }
 },
 "nbformat": 4,
 "nbformat_minor": 5
}

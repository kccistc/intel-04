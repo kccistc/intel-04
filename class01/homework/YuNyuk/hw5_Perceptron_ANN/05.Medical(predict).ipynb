{
 "cells": [
  {
   "cell_type": "code",
   "execution_count": null,
   "id": "488b7965-8667-4903-af27-e81e50782e3c",
   "metadata": {},
   "outputs": [],
   "source": [
    "print('The testing accuracy is :',test_accu[1]*100, '%')\n",
    "Y_pred = model_fin.predict(test_set, 100)\n",
    "y_pred = np.argmax(Y_pred, axis=1)\n",
    "max(y_pred)"
   ]
  },
  {
   "cell_type": "code",
   "execution_count": null,
   "id": "d0fa6112-47b4-46bb-9b04-272b8fb7198f",
   "metadata": {},
   "outputs": [],
   "source": [
    "# label 얻기 \n",
    "labels = test_set.labels\n",
    "\n",
    "Y_pred = model_fin.predict(test_set)\n",
    "#y_pred = np.argmax(Y_pred)\n",
    "y_pred = []\n",
    "for yy in Y_pred:\n",
    "    if yy >= 0.5:\n",
    "        y_pred.append(1)\n",
    "    else:\n",
    "        y_pred.append(0)\n",
    "class_name = [\"NORMAL\", \"PNEUMONIA\"]\n",
    "print(\"actual || predict\")\n",
    "for i in range(624):\n",
    "    if i%10 == 0:\n",
    "        print(class_name[labels[i]], end=\" || \")\n",
    "        print(class_name[y_pred[i]], end='\\n')"
   ]
  },
  {
   "cell_type": "code",
   "execution_count": null,
   "id": "65a9ea09-bdc6-4bb8-9ab4-eb113182937a",
   "metadata": {},
   "outputs": [],
   "source": [
    " 예측\n",
    "Y_pred = model_fin.predict(test_set, steps=624)\n",
    "y_pred = np.argmax(Y_pred, axis=1)\n",
    "\n",
    "# 성능 평가\n",
    "true_classes = test_set.classes\n",
    "class_labels = list(test_set.class_indices.keys())\n",
    "\n",
    "print(classification_report(true_classes, y_pred, target_names=class_labels))\n",
    "print(confusion_matrix(true_classes, y_pred))\n",
    "\n",
    "# 저장된 모델을 로드하여 예측\n",
    "loaded_model = tf.keras.models.load_model('medical_ann.h5')\n",
    "\n",
    "# 새로운 데이터셋에 대한 예측\n",
    "new_predictions = loaded_model.predict(test_set, steps=624)\n",
    "new_y_pred = np.argmax(new_predictions, axis=1)\n",
    "\n",
    "# 새로운 예측 결과 출력\n",
    "print(classification_report(true_classes, new_y_pred, target_names=class_labels))\n",
    "print(confusion_matrix(true_classes, new_y_pred))"
   ]
  },
  {
   "cell_type": "code",
   "execution_count": null,
   "id": "aba7db35-dce7-443c-bea1-3fcc624e3464",
   "metadata": {},
   "outputs": [],
   "source": [
    "#Accuracy\n",
    "plt.plot(cnn_model.history['accuracy'])\n",
    "plt.plot(cnn_model.history['val_accuracy'])\n",
    "plt.title('Model Accuracy')\n",
    "plt.ylabel('Accuracy')\n",
    "plt.xlabel('Epoch')\n",
    "plt.legend(['Training set', 'Validation set'], loc='upper left')\n",
    "plt.savefig('train_accuracy.png')\n",
    "plt.show(block=False)\n",
    "plt.clf()\n",
    "\n",
    "# Loss\n",
    "plt.plot(cnn_model.history['val_loss'])\n",
    "plt.plot(cnn_model.history['loss'])\n",
    "plt.title('Model Loss')\n",
    "plt.ylabel('Loss')\n",
    "plt.xlabel('Epoch')\n",
    "plt.legend(['Training set', 'Test set'], loc='upper left')\n",
    "plt.savefig('train_loss.png')\n",
    "plt.show(block=False)\n",
    "plt.clf()"
   ]
  }
 ],
 "metadata": {
  "kernelspec": {
   "display_name": "Python 3 (ipykernel)",
   "language": "python",
   "name": "python3"
  },
  "language_info": {
   "codemirror_mode": {
    "name": "ipython",
    "version": 3
   },
   "file_extension": ".py",
   "mimetype": "text/x-python",
   "name": "python",
   "nbconvert_exporter": "python",
   "pygments_lexer": "ipython3",
   "version": "3.10.12"
  }
 },
 "nbformat": 4,
 "nbformat_minor": 5
}

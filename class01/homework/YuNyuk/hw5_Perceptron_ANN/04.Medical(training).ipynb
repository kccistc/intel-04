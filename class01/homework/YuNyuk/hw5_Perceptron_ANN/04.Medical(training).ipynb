{
 "cells": [
  {
   "cell_type": "code",
   "execution_count": null,
   "id": "3d9cb337-720f-4f73-a560-de11b315fac6",
   "metadata": {},
   "outputs": [],
   "source": [
    "import numpy as np\n",
    "import matplotlib.pyplot as plt\n",
    "import os\n",
    "from PIL import Image\n",
    "import tensorflow as tf\n",
    "from tensorflow.keras import datasets, layers, models, Model, Sequential\n",
    "from tensorflow.keras.layers import Conv2D, MaxPooling2D, AveragePooling2D, Flatten, Dense, Input, BatchNormalization, Concatenate, Dropout\n",
    "from tensorflow.keras.preprocessing.image import ImageDataGenerator, load_img\n",
    "from sklearn.metrics import classification_report, confusion_matrix"
   ]
  },
  {
   "cell_type": "code",
   "execution_count": null,
   "id": "14430933-62a8-4d61-a29d-75ca0bbead04",
   "metadata": {},
   "outputs": [],
   "source": [
    "mainDIR = os.listdir('./chest_xray')\n",
    "print(mainDIR)\n",
    "train_folder= './chest_xray/train/'\n",
    "val_folder = './chest_xray/val/'\n",
    "test_folder = './chest_xray/test/'\n",
    "# train\n",
    "os.listdir(train_folder)\n",
    "train_n = train_folder+'NORMAL/'\n",
    "train_p = train_folder+'PNEUMONIA/'\n",
    "#Normal pic\n",
    "print(len(os.listdir(train_n)))\n",
    "rand_norm= np.random.randint(0,len(os.listdir(train_n)))\n",
    "norm_pic = os.listdir(train_n)[rand_norm]\n",
    "print('normal picture title: ',norm_pic)\n",
    "norm_pic_address = train_n+norm_pic\n",
    "#Pneumonia\n",
    "rand_p = np.random.randint(0,len(os.listdir(train_p)))\n",
    "sic_pic = os.listdir(train_p)[rand_norm]\n",
    "sic_address = train_p+sic_pic\n",
    "print('pneumonia picture title:', sic_pic)"
   ]
  },
  {
   "cell_type": "code",
   "execution_count": null,
   "id": "cde6b851-1e52-4c94-b7f7-d1c6bcf4512d",
   "metadata": {},
   "outputs": [],
   "source": [
    "# Load the images\n",
    "norm_load = Image.open(norm_pic_address)\n",
    "sic_load = Image.open(sic_address)\n",
    "\n",
    "#Let's plt these images\n",
    "f = plt.figure(figsize= (10,6))\n",
    "a1 = f.add_subplot(1,2,1)\n",
    "img_plot = plt.imshow(norm_load)\n",
    "a1.set_title('Normal')\n",
    "\n",
    "a2 = f.add_subplot(1, 2, 2)\n",
    "img_plot = plt.imshow(sic_load)\n",
    "a2.set_title('Pneumonia')\n",
    "plt.show()\n",
    "# let's build the CNN model"
   ]
  },
  {
   "cell_type": "code",
   "execution_count": null,
   "id": "fbbf5375-fee0-48c9-bd98-b96b661a2be6",
   "metadata": {},
   "outputs": [],
   "source": [
    "#cnn = Sequential()\n",
    "#Convolution\n",
    "model_in = Input(shape = (64, 64, 3))\n",
    "model = Flatten()(model_in)\n",
    "\n",
    "# Fully Connected Layers\n",
    "model = Dense(activation = 'relu', units = 128) (model)\n",
    "model = Dense(activation = 'sigmoid', units = 1)(model)\n",
    "\n",
    "# Compile the Neural network\n",
    "model_fin = Model(inputs=model_in, outputs=model)\n",
    "model_fin.compile(optimizer = 'adam', loss = 'binary_crossentropy', metrics = ['accuracy'])"
   ]
  },
  {
   "cell_type": "code",
   "execution_count": null,
   "id": "d1878048-1daa-4aab-8b0b-67553804eb00",
   "metadata": {},
   "outputs": [],
   "source": [
    "num_of_test_samples = 600\n",
    "batch_size = 32\n",
    "\n",
    "# Fitting the CNN to the images\n",
    "# The function ImageDataGenerator augments your image by iterating through image as your CNN is getting ready to process that image\n",
    "\n",
    "train_datagen = ImageDataGenerator(rescale = 1./255,\n",
    "                                    shear_range = 0.2,\n",
    "                                    zoom_range = 0.2,\n",
    "                                    horizontal_flip = True)\n",
    "test_datagen = ImageDataGenerator(rescale = 1./255)\n",
    "\n",
    "#Image normalization.\n",
    "training_set = train_datagen.flow_from_directory('./chest_xray/train', target_size = (64, 64), \n",
    "                                                 batch_size = 32,\n",
    "                                                 class_mode = 'binary')"
   ]
  },
  {
   "cell_type": "code",
   "execution_count": null,
   "id": "8803e912-16cf-4f30-a90a-4785e210082b",
   "metadata": {},
   "outputs": [],
   "source": [
    "validation_generator = test_datagen.flow_from_directory('./chest_xray/val/', \n",
    "                                                        target_size=(64, 64), \n",
    "                                                        batch_size=32,\n",
    "                                                        class_mode='binary')\n",
    "test_set = test_datagen.flow_from_directory('./chest_xray/test', \n",
    "                                            target_size = (64, 64),\n",
    "                                            batch_size = 32,\n",
    "                                            class_mode = 'binary')\n",
    "model_fin.summary()"
   ]
  },
  {
   "cell_type": "code",
   "execution_count": null,
   "id": "740955b9-7ef3-4ade-b2f7-5ce802227ca3",
   "metadata": {},
   "outputs": [],
   "source": [
    "cnn_model = model_fin.fit(training_set,\n",
    "                          steps_per_epoch = 163,\n",
    "                          epochs = 10,\n",
    "                          validation_data = validation_generator,\n",
    "                          validation_steps = 624)\n",
    "\n",
    "test_accu = model_fin.evaluate(test_set,steps=624)\n",
    "\n",
    "model_fin.save('medical_ann.h5')"
   ]
  }
 ],
 "metadata": {
  "kernelspec": {
   "display_name": "Python 3 (ipykernel)",
   "language": "python",
   "name": "python3"
  },
  "language_info": {
   "codemirror_mode": {
    "name": "ipython",
    "version": 3
   },
   "file_extension": ".py",
   "mimetype": "text/x-python",
   "name": "python",
   "nbconvert_exporter": "python",
   "pygments_lexer": "ipython3",
   "version": "3.10.12"
  }
 },
 "nbformat": 4,
 "nbformat_minor": 5
}

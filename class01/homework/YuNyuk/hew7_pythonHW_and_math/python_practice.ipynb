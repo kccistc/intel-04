{
 "cells": [
  {
   "cell_type": "code",
   "execution_count": 1,
   "id": "98da5d5f-e6b1-4edd-b144-5b0b24b839cc",
   "metadata": {},
   "outputs": [
    {
     "name": "stdout",
     "output_type": "stream",
     "text": [
      "('A', 'B', 'C')\n",
      "<class 'tuple'>\n"
     ]
    }
   ],
   "source": [
    "# 실습1 \n",
    "\n",
    "data1 = ('A','B')\n",
    "data2 = ('C',)\n",
    "data3 = data1 + data2\n",
    "print(data3)\n",
    "print(type(data3))"
   ]
  },
  {
   "cell_type": "code",
   "execution_count": 2,
   "id": "a786947f-00ed-4e93-a9db-faa28be4fd35",
   "metadata": {},
   "outputs": [
    {
     "name": "stdout",
     "output_type": "stream",
     "text": [
      "('A', 'B', 'C')\n",
      "<class 'tuple'>\n"
     ]
    }
   ],
   "source": [
    "# list로 바꿨다가 tuple로\n",
    "\n",
    "data1 = ('A','B')\n",
    "data1_list = list(data1)\n",
    "data1_list.append('C')\n",
    "data1_list = tuple(data1_list)\n",
    "print(data1_list)\n",
    "print(type(data1_list))"
   ]
  },
  {
   "cell_type": "code",
   "execution_count": 2,
   "id": "80ba516f-d635-40a6-a216-5fdcedd5a7d8",
   "metadata": {},
   "outputs": [
    {
     "name": "stdout",
     "output_type": "stream",
     "text": [
      "[[ 1.  1.  1.  1.  1.  1.]\n",
      " [ 7.  7.  7.  7.  7.  7.]\n",
      " [13. 13. 13. 13. 13. 13.]\n",
      " [19. 19. 19. 19. 19. 19.]\n",
      " [25. 25. 25. 25. 25. 25.]\n",
      " [31. 31. 31. 31. 31. 31.]]\n"
     ]
    }
   ],
   "source": [
    "import numpy as np\n",
    "\n",
    "# 실습2 정수 n을 입력받아 n*n크기의 숫자 사각형 출력\n",
    "\n",
    "n = 6\n",
    "A = np.zeros((n,n))\n",
    "for j in range(n):\n",
    "    for i in range(n):\n",
    "        A[j,i] = j*n+1\n",
    "print(A)"
   ]
  },
  {
   "cell_type": "code",
   "execution_count": 3,
   "id": "b3f26912-e3e7-4aba-90f8-907371033879",
   "metadata": {},
   "outputs": [
    {
     "ename": "NameError",
     "evalue": "name 'A' is not defined",
     "output_type": "error",
     "traceback": [
      "\u001b[0;31m---------------------------------------------------------------------------\u001b[0m",
      "\u001b[0;31mNameError\u001b[0m                                 Traceback (most recent call last)",
      "Cell \u001b[0;32mIn[3], line 3\u001b[0m\n\u001b[1;32m      1\u001b[0m \u001b[38;5;66;03m# 실습 3 실습 1에서 수행한 결과를 reshape를 이용해서 1차원 형태로 변환한다\u001b[39;00m\n\u001b[0;32m----> 3\u001b[0m \u001b[38;5;28mprint\u001b[39m(\u001b[43mA\u001b[49m\u001b[38;5;241m.\u001b[39mreshape(\u001b[38;5;241m-\u001b[39m\u001b[38;5;241m1\u001b[39m,))\n",
      "\u001b[0;31mNameError\u001b[0m: name 'A' is not defined"
     ]
    }
   ],
   "source": [
    "# 실습 3 실습 1에서 수행한 결과를 reshape를 이용해서 1차원 형태로 변환한다\n",
    "\n",
    "print(A.reshape(-1,))\n"
   ]
  },
  {
   "cell_type": "code",
   "execution_count": 1,
   "id": "e8b67365-b38c-409a-8c61-41a341992f88",
   "metadata": {},
   "outputs": [
    {
     "name": "stdout",
     "output_type": "stream",
     "text": [
      "Final transposed image shape: (1, 3, 800, 533)\n"
     ]
    }
   ],
   "source": [
    "import numpy as np\n",
    "from PIL import Image\n",
    "\n",
    "# 이미지 파일 불러오기\n",
    "image_path = 'joyul.jpeg'  # 이미지 파일 경로를 여기에 입력하세요\n",
    "image = Image.open(image_path)\n",
    "image_np = np.array(image)\n",
    "\n",
    "# 차원 확장: (Height, Width, Channel) -> (Batch, Height, Width, Channel)\n",
    "image_expanded = np.expand_dims(image_np, axis=0)\n",
    "\n",
    "# 차원 변경: (Batch, Height, Width, Channel) -> (Batch, Channel, Width, Height)\n",
    "image_transposed = np.transpose(image_expanded, (0, 3, 2, 1))\n",
    "\n",
    "# 최종 결과의 shape 확인\n",
    "print(\"Final transposed image shape:\", image_transposed.shape)  # (Batch, Channel, Width, Height)\n"
   ]
  },
  {
   "cell_type": "code",
   "execution_count": 2,
   "id": "9d90142f-05b3-4448-94b8-ce04a5eee38d",
   "metadata": {},
   "outputs": [
    {
     "name": "stdout",
     "output_type": "stream",
     "text": [
      "(533, 800, 3)\n",
      "(1, 533, 800, 3)\n",
      "(1, 3, 533, 800)\n"
     ]
    }
   ],
   "source": [
    "# 실습 4\n",
    "\n",
    "import cv2\n",
    "img = cv2.imread('./joyul.jpeg')\n",
    "print(img.shape)\n",
    "img_expend = np.expand_dims(img, 0)\n",
    "print(img_expend.shape)\n",
    "img_expend_T = img_expend.transpose((0, 3, 1, 2))\n",
    "print(img_expend_T.shape)"
   ]
  },
  {
   "cell_type": "code",
   "execution_count": 3,
   "id": "3d1e300e-2c8d-426e-a6b7-64594b70384e",
   "metadata": {},
   "outputs": [
    {
     "name": "stdout",
     "output_type": "stream",
     "text": [
      "[[ 1  1  1]\n",
      " [ 1 -8  1]\n",
      " [ 1  1  1]]\n"
     ]
    },
    {
     "name": "stderr",
     "output_type": "stream",
     "text": [
      "[ WARN:0@4002.299] global loadsave.cpp:248 findDecoder imread_('lena.png'): can't open/read file: check file path/integrity\n"
     ]
    },
    {
     "ename": "error",
     "evalue": "OpenCV(4.9.0) /io/opencv/modules/imgproc/src/filter.dispatch.cpp:1528: error: (-215:Assertion failed) !_src.empty() in function 'filter2D'\n",
     "output_type": "error",
     "traceback": [
      "\u001b[0;31m---------------------------------------------------------------------------\u001b[0m",
      "\u001b[0;31merror\u001b[0m                                     Traceback (most recent call last)",
      "Cell \u001b[0;32mIn[3], line 9\u001b[0m\n\u001b[1;32m      7\u001b[0m kernel \u001b[38;5;241m=\u001b[39m np\u001b[38;5;241m.\u001b[39marray([[\u001b[38;5;241m1\u001b[39m, \u001b[38;5;241m1\u001b[39m, \u001b[38;5;241m1\u001b[39m],[\u001b[38;5;241m1\u001b[39m, \u001b[38;5;241m-\u001b[39m\u001b[38;5;241m8\u001b[39m, \u001b[38;5;241m1\u001b[39m], [\u001b[38;5;241m1\u001b[39m, \u001b[38;5;241m1\u001b[39m, \u001b[38;5;241m1\u001b[39m,]])\n\u001b[1;32m      8\u001b[0m \u001b[38;5;28mprint\u001b[39m(kernel)\n\u001b[0;32m----> 9\u001b[0m output \u001b[38;5;241m=\u001b[39m \u001b[43mcv2\u001b[49m\u001b[38;5;241;43m.\u001b[39;49m\u001b[43mfilter2D\u001b[49m\u001b[43m(\u001b[49m\u001b[43mimg\u001b[49m\u001b[43m,\u001b[49m\u001b[43m \u001b[49m\u001b[38;5;241;43m-\u001b[39;49m\u001b[38;5;241;43m1\u001b[39;49m\u001b[43m,\u001b[49m\u001b[43m \u001b[49m\u001b[43mkernel\u001b[49m\u001b[43m)\u001b[49m\n\u001b[1;32m     10\u001b[0m cv2\u001b[38;5;241m.\u001b[39mimshow(\u001b[38;5;124m'\u001b[39m\u001b[38;5;124medge\u001b[39m\u001b[38;5;124m'\u001b[39m, output)\n\u001b[1;32m     11\u001b[0m cv2\u001b[38;5;241m.\u001b[39mwaitKey(\u001b[38;5;241m0\u001b[39m)\n",
      "\u001b[0;31merror\u001b[0m: OpenCV(4.9.0) /io/opencv/modules/imgproc/src/filter.dispatch.cpp:1528: error: (-215:Assertion failed) !_src.empty() in function 'filter2D'\n"
     ]
    }
   ],
   "source": [
    "# 실습 5\n",
    "\n",
    "import cv2\n",
    "import numpy as np\n",
    "\n",
    "img = cv2.imread('lena.png', cv2.IMREAD_GRAYSCALE)\n",
    "kernel = np.array([[1, 1, 1],[1, -8, 1], [1, 1, 1,]])\n",
    "print(kernel)\n",
    "output = cv2.filter2D(img, -1, kernel)    ## --> 직접 구현해보기\n",
    "cv2.imshow('edge', output)\n",
    "cv2.waitKey(0)"
   ]
  },
  {
   "cell_type": "code",
   "execution_count": 3,
   "id": "3d25a290-4fa0-4c6f-99c2-369598476c36",
   "metadata": {},
   "outputs": [
    {
     "data": {
      "text/plain": [
       "-1"
      ]
     },
     "execution_count": 3,
     "metadata": {},
     "output_type": "execute_result"
    }
   ],
   "source": [
    "# 실습 5 Answer\n",
    "\n",
    "import cv2\n",
    "import copy\n",
    "import matplotlib.pyplot as plt\n",
    "img = cv2.imread('./joyul.jpeg')\n",
    "img = cv2.cvtColor(img, cv2.COLOR_BGR2RGB)\n",
    "kernel = np.array([[1,1,1],[1,-8,1],[1,1,1]])\n",
    "imgcpy = copy.deepcopy(img)\n",
    "imgcpy2 = np.zeros( (imgcpy.shape[0], imgcpy.shape[1], imgcpy.shape[2]))\n",
    "\n",
    "for h in range(2, img.shape[0]-1):\n",
    "    for w in range(2, img.shape[1]-1):\n",
    "        for c in range(1, img.shape[2]):\n",
    "            img_tmp = np.dot(\n",
    "                img[h-1:h-1+kernel.shape[0], w-1:w-1+kernel.shape[1], c], kernel)\n",
    "            imgcpy2[h,w,c] = np.sum(img_tmp)\n",
    "\n",
    "cv2.imshow(\"Edge\", imgcpy2/255)\n",
    "cv2.waitKey(1)"
   ]
  },
  {
   "cell_type": "code",
   "execution_count": null,
   "id": "93c5be38-ef30-4588-b0b9-8f9ed7f347af",
   "metadata": {},
   "outputs": [],
   "source": []
  }
 ],
 "metadata": {
  "kernelspec": {
   "display_name": "Python 3 (ipykernel)",
   "language": "python",
   "name": "python3"
  },
  "language_info": {
   "codemirror_mode": {
    "name": "ipython",
    "version": 3
   },
   "file_extension": ".py",
   "mimetype": "text/x-python",
   "name": "python",
   "nbconvert_exporter": "python",
   "pygments_lexer": "ipython3",
   "version": "3.10.12"
  }
 },
 "nbformat": 4,
 "nbformat_minor": 5
}

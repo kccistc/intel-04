{
 "cells": [
  {
   "cell_type": "code",
   "execution_count": 2,
   "id": "0043aa0a-41b2-4828-b970-24a144e496bb",
   "metadata": {},
   "outputs": [
    {
     "name": "stdout",
     "output_type": "stream",
     "text": [
      "Collecting numpy\n",
      "  Downloading numpy-1.26.4-cp310-cp310-manylinux_2_17_x86_64.manylinux2014_x86_64.whl (18.2 MB)\n",
      "\u001b[2K     \u001b[38;2;114;156;31m━━━━━━━━━━━━━━━━━━━━━━━━━━━━━━━━━━━━━━━━\u001b[0m \u001b[32m18.2/18.2 MB\u001b[0m \u001b[31m79.0 kB/s\u001b[0m eta \u001b[36m0:00:00\u001b[0mm eta \u001b[36m0:00:01\u001b[0m[36m0:00:06\u001b[0m\n",
      "\u001b[?25hInstalling collected packages: numpy\n",
      "Successfully installed numpy-1.26.4\n",
      "Note: you may need to restart the kernel to use updated packages.\n"
     ]
    }
   ],
   "source": [
    "pip install numpy"
   ]
  },
  {
   "cell_type": "code",
   "execution_count": 3,
   "id": "6d1094f4-7ada-4c0e-864c-79dacf9923c7",
   "metadata": {},
   "outputs": [],
   "source": [
    "import numpy as np\n",
    "\n",
    "def sigmoid(x):\n",
    "    return 1/(1+np.exp(x))"
   ]
  },
  {
   "cell_type": "code",
   "execution_count": 4,
   "id": "8b0d6465-de8d-48f0-a3c1-c93e7a940020",
   "metadata": {},
   "outputs": [],
   "source": [
    "def numerical_derivative(f, x):\n",
    "    dx = 1e-4\n",
    "    gradf = np.zeros_like(x)\n",
    "    \n",
    "    it = np.nditer(x, flags = ['multi_index'], op_flags = ['readwrite'])\n",
    "\n",
    "    while not it.finished:\n",
    "        idx = it.multi_index\n",
    "        tmp_val = x[idx]\n",
    "        x[idx] = float((tmp_val)+dx)\n",
    "        fx1 = f(x)\n",
    "\n",
    "        x[idx] = float((tmp_val)-dx)\n",
    "        fx2 = f(x)\n",
    "        gradf[idx] = (fx1-fx2)/(2*dx)\n",
    "\n",
    "        x[idx] = tmp_val\n",
    "        it.iternext()\n",
    "    return gradf"
   ]
  },
  {
   "cell_type": "code",
   "execution_count": 5,
   "id": "0a0aa9f9-4253-4c5d-91b1-7af5d4f6fe13",
   "metadata": {},
   "outputs": [],
   "source": [
    "class logicGate:\n",
    "    def __init__(self, gate_name, xdata, tdata, learning_rate=0.01, threshold=0.5):\n",
    "        self.name = gate_name\n",
    "\n",
    "        self.__xdata=xdata.reshape(4,2)\n",
    "        self.__tdata=tdata.reshape(4,1)\n",
    "\n",
    "        self.__w=np.random.rand(2,1)\n",
    "        self.__b=np.random.rand(1)\n",
    "\n",
    "        self.__learning_rate = learning_rate\n",
    "        self.__threshold = threshold\n",
    "\n",
    "    def __loss_func(self):\n",
    "        delta = 1e-7\n",
    "        z = np.dot(self.__xdata, self.__w) + self.__b\n",
    "        y = sigmoid(z)\n",
    "        return -np.sum(self.__tdata*np.log(y+delta) + (1-self.__tdata)*np.log((1-y)+delta))\n",
    "\n",
    "    def err_val(self):\n",
    "        delta = 1e-7\n",
    "\n",
    "        z = np.dot(self.__xdata, self.__w)+self.__b\n",
    "        y = sigmoid(z)\n",
    "        return -np.sum(self.__tdata + np.log(y+delta) + (1-self.__tdata)*np.log((1-y)+delta))\n",
    "\n",
    "    def train(self):\n",
    "        f = lambda x : self.__loss_func()\n",
    "        print(\"init error : \", self.err_val())\n",
    "\n",
    "        for stp in range(20000):\n",
    "            self.__w -= self.__learning_rate * numerical_derivative(f, self.__w)\n",
    "            self.__b -= self.__learning_rate * numerical_derivative(f, self.__b)\n",
    "            if (stp % 2000 == 0):\n",
    "                print(\"step : \", stp, \"error : \", self.err_val(), f)\n",
    "\n",
    "    def predict(self, input_data):\n",
    "        z = np.dot(input_data, self.__w) + self.__b\n",
    "        y = sigmoid(z)\n",
    "\n",
    "        if y[0] > self.__threshold:\n",
    "            result = 1\n",
    "        else:\n",
    "            result = 0\n",
    "        return y, result"
   ]
  },
  {
   "cell_type": "code",
   "execution_count": 7,
   "id": "796dfdf3-3f66-46af-bef0-8366670f0024",
   "metadata": {},
   "outputs": [
    {
     "name": "stdout",
     "output_type": "stream",
     "text": [
      "init error :  6.002507427073505\n",
      "step :  0 error :  5.983644073880433 <function logicGate.train.<locals>.<lambda> at 0x7f627476b1c0>\n",
      "step :  2000 error :  7.372762544427471 <function logicGate.train.<locals>.<lambda> at 0x7f627476b1c0>\n",
      "step :  4000 error :  9.735805390424265 <function logicGate.train.<locals>.<lambda> at 0x7f627476b1c0>\n",
      "step :  6000 error :  11.399382465076169 <function logicGate.train.<locals>.<lambda> at 0x7f627476b1c0>\n",
      "step :  8000 error :  12.672949152487329 <function logicGate.train.<locals>.<lambda> at 0x7f627476b1c0>\n",
      "step :  10000 error :  13.701033243389965 <function logicGate.train.<locals>.<lambda> at 0x7f627476b1c0>\n",
      "step :  12000 error :  14.56126144781346 <function logicGate.train.<locals>.<lambda> at 0x7f627476b1c0>\n",
      "step :  14000 error :  15.299805231243178 <function logicGate.train.<locals>.<lambda> at 0x7f627476b1c0>\n",
      "step :  16000 error :  15.94623451630288 <function logicGate.train.<locals>.<lambda> at 0x7f627476b1c0>\n",
      "step :  18000 error :  16.520572638258948 <function logicGate.train.<locals>.<lambda> at 0x7f627476b1c0>\n",
      "[0 0]  :  0\n",
      "[0 1]  :  0\n",
      "[1 0]  :  0\n",
      "[1 1]  :  1\n",
      "init error :  3.3608137625790024\n",
      "step :  0 error :  3.2564384470761114 <function logicGate.train.<locals>.<lambda> at 0x7f62761584c0>\n",
      "step :  2000 error :  -1.0882103739427689 <function logicGate.train.<locals>.<lambda> at 0x7f62761584c0>\n",
      "step :  4000 error :  -0.699648381758012 <function logicGate.train.<locals>.<lambda> at 0x7f62761584c0>\n",
      "step :  6000 error :  -0.3916554951340554 <function logicGate.train.<locals>.<lambda> at 0x7f62761584c0>\n",
      "step :  8000 error :  -0.1486658960009497 <function logicGate.train.<locals>.<lambda> at 0x7f62761584c0>\n",
      "step :  10000 error :  0.04989961462797743 <function logicGate.train.<locals>.<lambda> at 0x7f62761584c0>\n",
      "step :  12000 error :  0.2171249027231087 <function logicGate.train.<locals>.<lambda> at 0x7f62761584c0>\n",
      "step :  14000 error :  0.36128693720130756 <function logicGate.train.<locals>.<lambda> at 0x7f62761584c0>\n",
      "step :  16000 error :  0.4878460665899519 <function logicGate.train.<locals>.<lambda> at 0x7f62761584c0>\n",
      "step :  18000 error :  0.6005623257340281 <function logicGate.train.<locals>.<lambda> at 0x7f62761584c0>\n",
      "[0 0]  :  0\n",
      "[0 1]  :  1\n",
      "[1 0]  :  1\n",
      "[1 1]  :  1\n",
      "init error :  3.274865963883107\n",
      "step :  0 error :  3.1700095032407942 <function logicGate.train.<locals>.<lambda> at 0x7f627476a680>\n",
      "step :  2000 error :  -1.0797790187099907 <function logicGate.train.<locals>.<lambda> at 0x7f627476a680>\n",
      "step :  4000 error :  -0.6924423007994461 <function logicGate.train.<locals>.<lambda> at 0x7f627476a680>\n",
      "step :  6000 error :  -0.38605277609253985 <function logicGate.train.<locals>.<lambda> at 0x7f627476a680>\n",
      "step :  8000 error :  -0.14416199368997384 <function logicGate.train.<locals>.<lambda> at 0x7f627476a680>\n",
      "step :  10000 error :  0.053643358935055896 <function logicGate.train.<locals>.<lambda> at 0x7f627476a680>\n",
      "step :  12000 error :  0.2203197467075333 <function logicGate.train.<locals>.<lambda> at 0x7f627476a680>\n",
      "step :  14000 error :  0.3640694279890091 <function logicGate.train.<locals>.<lambda> at 0x7f627476a680>\n",
      "step :  16000 error :  0.4903084734600619 <function logicGate.train.<locals>.<lambda> at 0x7f627476a680>\n",
      "step :  18000 error :  0.6027695429208406 <function logicGate.train.<locals>.<lambda> at 0x7f627476a680>\n",
      "[0 0]  :  0\n",
      "[0 1]  :  1\n",
      "[1 0]  :  1\n",
      "[1 1]  :  1\n"
     ]
    }
   ],
   "source": [
    "xdata = np.array([[0,0],[0,1],[1,0],[1,1]])\n",
    "tdata = np.array([[0,0,0,1]])\n",
    "\n",
    "AND = logicGate(\"AND\", xdata, tdata)\n",
    "AND.train()\n",
    "for in_data in xdata:\n",
    "    (sig_val, logic_val) = AND.predict(in_data)\n",
    "    print(in_data , \" : \", logic_val)\n",
    "\n",
    "xdata = np.array([[0,0],[0,1],[1,0],[1,1]])\n",
    "tdata = np.array([[0,1,1,1]])\n",
    "OR = logicGate(\"OR\", xdata, tdata)\n",
    "OR.train()\n",
    "for in_data in xdata:\n",
    "    (sig_val, logic_val) = OR.predict(in_data)\n",
    "    print(in_data , \" : \", logic_val)\n",
    "\n",
    "xdata = np.array([[0,0], [0,1], [1,0], [1,1]])\n",
    "tdata_nand = np.array([[1,1,1,0]])\n",
    "NAND = logicGate(\"NAND\", xdata, tdata)\n",
    "NAND.train()\n",
    "for in_data in xdata:\n",
    "    (sig_val, logic_val) = NAND.predict(in_data)\n",
    "    print(in_data , \" : \", logic_val)"
   ]
  },
  {
   "cell_type": "code",
   "execution_count": null,
   "id": "0547c131-4393-4f35-9c1b-a67b4bc79e26",
   "metadata": {},
   "outputs": [],
   "source": []
  }
 ],
 "metadata": {
  "kernelspec": {
   "display_name": "Python 3 (ipykernel)",
   "language": "python",
   "name": "python3"
  },
  "language_info": {
   "codemirror_mode": {
    "name": "ipython",
    "version": 3
   },
   "file_extension": ".py",
   "mimetype": "text/x-python",
   "name": "python",
   "nbconvert_exporter": "python",
   "pygments_lexer": "ipython3",
   "version": "3.10.12"
  }
 },
 "nbformat": 4,
 "nbformat_minor": 5
}

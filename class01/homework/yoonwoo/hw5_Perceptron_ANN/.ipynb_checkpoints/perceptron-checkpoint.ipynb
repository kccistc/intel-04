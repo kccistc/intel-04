{
 "cells": [
  {
   "cell_type": "code",
   "execution_count": 4,
   "id": "e0705c14-99f6-4db6-ad96-48d6e1590603",
   "metadata": {},
   "outputs": [
    {
     "name": "stdout",
     "output_type": "stream",
     "text": [
      "Collecting numpy\n",
      "  Downloading numpy-1.26.4-cp310-cp310-manylinux_2_17_x86_64.manylinux2014_x86_64.whl (18.2 MB)\n",
      "\u001b[2K     \u001b[38;2;114;156;31m━━━━━━━━━━━━━━━━━━━━━━━━━━━━━━━━━━━━━━━━\u001b[0m \u001b[32m18.2/18.2 MB\u001b[0m \u001b[31m13.1 MB/s\u001b[0m eta \u001b[36m0:00:00\u001b[0mm eta \u001b[36m0:00:01\u001b[0m[36m0:00:01\u001b[0m\n",
      "\u001b[?25hInstalling collected packages: numpy\n",
      "Successfully installed numpy-1.26.4\n"
     ]
    }
   ],
   "source": [
    "!pip install numpy"
   ]
  },
  {
   "cell_type": "code",
   "execution_count": 5,
   "id": "4b8fa0f4-ce97-4d4d-ac08-8a150739c0d2",
   "metadata": {},
   "outputs": [],
   "source": [
    "# importing Python library\n",
    "import numpy as np\n",
    "# define Unit Step Function\n",
    "def sigmoid(x):\n",
    "    return 1/(1+np.exp(x))\n",
    "\n",
    "def numerical_derivative(f, x):\n",
    "    dx = 1e-4\n",
    "    gradf = np.zeros_like(x)\n",
    "    it = np.nditer(x, flags = ['multi_index'],op_flags=['readwrite'])\n",
    "    while not it.finished:\n",
    "        idx = it.multi_index\n",
    "        tmp_val = x[idx]\n",
    "        x[idx] = float((tmp_val)+dx)\n",
    "        fx1 = f(x)\n",
    "\n",
    "        x[idx] = float((tmp_val)-dx)\n",
    "        fx2 = f(x)\n",
    "        gradf[idx] = (fx1-fx2)/(2*dx)\n",
    "        x[idx] = tmp_val\n",
    "        it.iternext()\n",
    "    return gradf\n"
   ]
  },
  {
   "cell_type": "code",
   "execution_count": 9,
   "id": "03eae46e-f6dd-4ac3-9dab-5a89b2ce8cba",
   "metadata": {},
   "outputs": [],
   "source": [
    "class logicGate:\n",
    "    def __init__(self, gate_name, xdata, tdata, learning_rate=0.01, threshold=0.5):\n",
    "        self.name = gate_name\n",
    "        self.__xdata=xdata.reshape(4,2)\n",
    "        self.__tdata=tdata.reshape(4,1)\n",
    "        self.__w=np.random.rand(2,1)\n",
    "        self.__b=np.random.rand(1)\n",
    "        self.__learning_rate = learning_rate\n",
    "        self.__threshold = threshold\n",
    "    def __loss_func(self):\n",
    "        delta = 1e-7\n",
    "        z = np.dot(self.__xdata, self.__w) + self.__b\n",
    "        y = sigmoid(z)\n",
    "        return -np.sum(self.__tdata*np.log(y+delta) + (1-self.__tdata)*np.log((1-y)+delta))\n",
    "    \n",
    "    def err_val(self):\n",
    "        delta = 1e-7\n",
    "        z = np.dot(self.__xdata, self.__w)+self.__b\n",
    "        y = sigmoid(z)\n",
    "        return -np.sum(self.__tdata + np.log(y+delta) + (1-self.__tdata)*np.log((1-y)+delta))\n",
    "    \n",
    "    def train(self):\n",
    "        f = lambda x : self.__loss_func()\n",
    "        print(\"init error : \", self.err_val())\n",
    "        for stp in range(20000):\n",
    "            self.__w -= self.__learning_rate * numerical_derivative(f, self.__w)\n",
    "            self.__b -= self.__learning_rate * numerical_derivative(f, self.__b)\n",
    "            if (stp % 2000 == 0):\n",
    "                print(\"step : \", stp, \"error : \", self.err_val(), f)\n",
    "    \n",
    "    def predict(self, input_data):\n",
    "        z = np.dot(input_data, self.__w) + self.__b\n",
    "        y = sigmoid(z)\n",
    "        if y[0] > self.__threshold:\n",
    "            result = 1\n",
    "        else:\n",
    "            result = 0\n",
    "        return y, result"
   ]
  },
  {
   "cell_type": "code",
   "execution_count": 10,
   "id": "b2f70952-7417-4a5f-be5b-efc399a28883",
   "metadata": {},
   "outputs": [
    {
     "name": "stdout",
     "output_type": "stream",
     "text": [
      "init error :  5.299783755617571\n",
      "step :  0 error :  5.28876859011791 <function logicGate.train.<locals>.<lambda> at 0x7f362ff71cf0>\n",
      "step :  2000 error :  7.518028710473617 <function logicGate.train.<locals>.<lambda> at 0x7f362ff71cf0>\n",
      "step :  4000 error :  9.833202796996428 <function logicGate.train.<locals>.<lambda> at 0x7f362ff71cf0>\n",
      "step :  6000 error :  11.471656348604611 <function logicGate.train.<locals>.<lambda> at 0x7f362ff71cf0>\n",
      "step :  8000 error :  12.730107841935778 <function logicGate.train.<locals>.<lambda> at 0x7f362ff71cf0>\n",
      "step :  10000 error :  13.748177199668758 <function logicGate.train.<locals>.<lambda> at 0x7f362ff71cf0>\n",
      "step :  12000 error :  14.601310704563911 <function logicGate.train.<locals>.<lambda> at 0x7f362ff71cf0>\n",
      "step :  14000 error :  15.33457710248162 <function logicGate.train.<locals>.<lambda> at 0x7f362ff71cf0>\n",
      "step :  16000 error :  15.976932605154161 <function logicGate.train.<locals>.<lambda> at 0x7f362ff71cf0>\n",
      "step :  18000 error :  16.548033257180126 <function logicGate.train.<locals>.<lambda> at 0x7f362ff71cf0>\n",
      "[0 0]  :  0\n",
      "[0 1]  :  0\n",
      "[1 0]  :  0\n",
      "[1 1]  :  1\n",
      "init error :  5.563889865958087\n",
      "step :  0 error :  5.551379511741279 <function logicGate.train.<locals>.<lambda> at 0x7f3635be80d0>\n",
      "step :  2000 error :  7.343302418650125 <function logicGate.train.<locals>.<lambda> at 0x7f3635be80d0>\n",
      "step :  4000 error :  9.716118559735682 <function logicGate.train.<locals>.<lambda> at 0x7f3635be80d0>\n",
      "step :  6000 error :  11.384809218723113 <function logicGate.train.<locals>.<lambda> at 0x7f3635be80d0>\n",
      "step :  8000 error :  12.661441547668806 <function logicGate.train.<locals>.<lambda> at 0x7f3635be80d0>\n",
      "step :  10000 error :  13.691551919235005 <function logicGate.train.<locals>.<lambda> at 0x7f3635be80d0>\n",
      "step :  12000 error :  14.553213127870789 <function logicGate.train.<locals>.<lambda> at 0x7f3635be80d0>\n",
      "step :  14000 error :  15.292821483837063 <function logicGate.train.<locals>.<lambda> at 0x7f3635be80d0>\n",
      "step :  16000 error :  15.940071731682872 <function logicGate.train.<locals>.<lambda> at 0x7f3635be80d0>\n",
      "step :  18000 error :  16.515061764836688 <function logicGate.train.<locals>.<lambda> at 0x7f3635be80d0>\n",
      "[0 0]  :  0\n",
      "[0 1]  :  0\n",
      "[1 0]  :  0\n",
      "[1 1]  :  1\n"
     ]
    }
   ],
   "source": [
    "xdata = np.array([[0,0],[0,1],[1,0],[1,1]])\n",
    "tdata = np.array([[0,0,0,1]])\n",
    "AND = logicGate(\"AND\", xdata, tdata)\n",
    "AND.train()\n",
    "for in_data in xdata:\n",
    "    (sig_val, logic_val) = AND.predict(in_data)\n",
    "    print(in_data , \" : \", logic_val)\n",
    "OR = logicGate(\"OR\", xdata, tdata)\n",
    "OR.train()\n",
    "for in_data in xdata:\n",
    "    (sig_val, logic_val) = OR.predict(in_data)\n",
    "    print(in_data , \" : \", logic_val)\n",
    "xdata = np.array([[0,0],[0,1],[1,0],[1,1]])\n",
    "tdata = np.array([[0,1,1,1]])"
   ]
  },
  {
   "cell_type": "code",
   "execution_count": null,
   "id": "625106ef-dccd-4e7e-9ab9-9bde362bb902",
   "metadata": {},
   "outputs": [],
   "source": []
  }
 ],
 "metadata": {
  "kernelspec": {
   "display_name": "Python 3 (ipykernel)",
   "language": "python",
   "name": "python3"
  },
  "language_info": {
   "codemirror_mode": {
    "name": "ipython",
    "version": 3
   },
   "file_extension": ".py",
   "mimetype": "text/x-python",
   "name": "python",
   "nbconvert_exporter": "python",
   "pygments_lexer": "ipython3",
   "version": "3.10.12"
  }
 },
 "nbformat": 4,
 "nbformat_minor": 5
}

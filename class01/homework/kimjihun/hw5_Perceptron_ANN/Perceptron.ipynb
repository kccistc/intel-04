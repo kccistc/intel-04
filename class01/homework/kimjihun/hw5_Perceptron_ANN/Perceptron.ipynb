{
 "cells": [
  {
   "cell_type": "code",
   "execution_count": 2,
   "id": "a96e2278-bd77-4f5e-aea9-8cf9478ace16",
   "metadata": {},
   "outputs": [
    {
     "name": "stdout",
     "output_type": "stream",
     "text": [
      "Collecting numpy\n",
      "  Downloading numpy-1.26.4-cp310-cp310-manylinux_2_17_x86_64.manylinux2014_x86_64.whl (18.2 MB)\n",
      "\u001b[2K     \u001b[38;2;114;156;31m━━━━━━━━━━━━━━━━━━━━━━━━━━━━━━━━━━━━━━━━\u001b[0m \u001b[32m18.2/18.2 MB\u001b[0m \u001b[31m17.6 MB/s\u001b[0m eta \u001b[36m0:00:00\u001b[0mm eta \u001b[36m0:00:01\u001b[0m[36m0:00:01\u001b[0m\n",
      "\u001b[?25hInstalling collected packages: numpy\n",
      "Successfully installed numpy-1.26.4\n"
     ]
    }
   ],
   "source": [
    "!pip install numpy"
   ]
  },
  {
   "cell_type": "code",
   "execution_count": 3,
   "id": "3692911f-ca10-41a7-a32b-d327e7e95c6a",
   "metadata": {},
   "outputs": [],
   "source": [
    "import numpy as np\n",
    "def sigmoid(x):\n",
    "    return 1/(1+np.exp(x))"
   ]
  },
  {
   "cell_type": "code",
   "execution_count": 4,
   "id": "6343d450-6622-4ace-aabe-afa62f42e291",
   "metadata": {},
   "outputs": [],
   "source": [
    "def numerical_derivative(f,x):\n",
    "    dx = 1e-4\n",
    "    gradf = np.zeros_like(x)\n",
    "\n",
    "    it = np.nditer(x, flags = ['multi_index'], op_flags=['readwrite'])\n",
    "\n",
    "    while not it.finished:\n",
    "        idx = it.multi_index\n",
    "        tmp_val = x[idx]\n",
    "        x[idx] = float((tmp_val)+dx)\n",
    "        fx1 = f(x)\n",
    "\n",
    "        x[idx] = float((tmp_val)-dx)\n",
    "        fx2 = f(x)\n",
    "        gradf[idx] = (fx1-fx2)/(2*dx)\n",
    "\n",
    "        x[idx] = tmp_val\n",
    "        it.iternext()\n",
    "    return gradf"
   ]
  },
  {
   "cell_type": "code",
   "execution_count": 11,
   "id": "f1ac1c60-5952-40a2-abe1-42c2ec72dfeb",
   "metadata": {},
   "outputs": [],
   "source": [
    "class logicGate:\n",
    "    def __init__(self, gate_name, xdata, tdata, learning_rate=0.01, threshold=0.5):\n",
    "        self.name = gate_name\n",
    "        self.__xdata=xdata.reshape(4,2)\n",
    "        self.__tdata=tdata.reshape(4,1)\n",
    "        self.__w=np.random.rand(2,1)\n",
    "        self.__b=np.random.rand(1)\n",
    "        self.__learning_rate = learning_rate\n",
    "        self.__threshold = threshold\n",
    "    def __loss_func(self):\n",
    "        delta = 1e-7\n",
    "        z = np.dot(self.__xdata, self.__w) + self.__b\n",
    "        y = sigmoid(z)\n",
    "        return -np.sum(self.__tdata*np.log(y+delta) + (1-self.__tdata)*np.log((1-y)+delta))\n",
    "    def err_val(self):\n",
    "        delta = 1e-7\n",
    "        z = np.dot(self.__xdata, self.__w)+self.__b\n",
    "        y = sigmoid(z)\n",
    "        return -np.sum(self.__tdata + np.log(y+delta) + (1-self.__tdata)*np.log((1-y)+delta))\n",
    "    def train(self):\n",
    "        f = lambda x : self.__loss_func()\n",
    "        print(\"init error : \", self.err_val())\n",
    "        for stp in range(20000):\n",
    "            self.__w -= self.__learning_rate * numerical_derivative(f, self.__w)\n",
    "            self.__b -= self.__learning_rate * numerical_derivative(f, self.__b)\n",
    "            if (stp % 2000 == 0):\n",
    "                print(\"step : \", stp, \"error : \", self.err_val(), f)\n",
    "    def predict(self, input_data):\n",
    "        z = np.dot(input_data, self.__w) + self.__b\n",
    "        y = sigmoid(z)\n",
    "        if y[0] > self.__threshold:\n",
    "            result = 1\n",
    "        else:\n",
    "            result = 0\n",
    "        return y, result"
   ]
  },
  {
   "cell_type": "code",
   "execution_count": 12,
   "id": "cda024c1-a229-4845-881f-95cd153403ca",
   "metadata": {},
   "outputs": [
    {
     "name": "stdout",
     "output_type": "stream",
     "text": [
      "init error :  6.560549380188689\n",
      "step :  0 error :  6.534576181186898 <function logicGate.train.<locals>.<lambda> at 0x7f601ff5bbe0>\n",
      "step :  2000 error :  7.474681871751271 <function logicGate.train.<locals>.<lambda> at 0x7f601ff5bbe0>\n",
      "step :  4000 error :  9.804035760980153 <function logicGate.train.<locals>.<lambda> at 0x7f601ff5bbe0>\n",
      "step :  6000 error :  11.449981913352337 <function logicGate.train.<locals>.<lambda> at 0x7f601ff5bbe0>\n",
      "step :  8000 error :  12.712950907985483 <function logicGate.train.<locals>.<lambda> at 0x7f601ff5bbe0>\n",
      "step :  10000 error :  13.734017610927081 <function logicGate.train.<locals>.<lambda> at 0x7f601ff5bbe0>\n",
      "step :  12000 error :  14.589276644498705 <function logicGate.train.<locals>.<lambda> at 0x7f601ff5bbe0>\n",
      "step :  14000 error :  15.324125297477318 <function logicGate.train.<locals>.<lambda> at 0x7f601ff5bbe0>\n",
      "step :  16000 error :  15.967702899645104 <function logicGate.train.<locals>.<lambda> at 0x7f601ff5bbe0>\n",
      "step :  18000 error :  16.539775211671078 <function logicGate.train.<locals>.<lambda> at 0x7f601ff5bbe0>\n",
      "[0 0]  :  0\n",
      "[0 1]  :  0\n",
      "[1 0]  :  0\n",
      "[1 1]  :  1\n"
     ]
    }
   ],
   "source": [
    "xdata = np.array([[0,0],[0,1],[1,0],[1,1]])\n",
    "tdata = np.array([[0,0,0,1]])\n",
    "AND = logicGate(\"AND\", xdata, tdata)\n",
    "AND.train()\n",
    "for in_data in xdata:\n",
    "    (sig_val, logic_val) = AND.predict(in_data)\n",
    "    print(in_data , \" : \", logic_val)"
   ]
  },
  {
   "cell_type": "code",
   "execution_count": 16,
   "id": "9343ab6a-29e7-4919-97f4-6f7446c68893",
   "metadata": {},
   "outputs": [
    {
     "name": "stdout",
     "output_type": "stream",
     "text": [
      "init error :  2.4111883573496136\n",
      "step :  0 error :  2.326072991040154 <function logicGate.train.<locals>.<lambda> at 0x7f601ff5bb50>\n",
      "step :  2000 error :  -1.0845482332985283 <function logicGate.train.<locals>.<lambda> at 0x7f601ff5bb50>\n",
      "step :  4000 error :  -0.6965327451256246 <function logicGate.train.<locals>.<lambda> at 0x7f601ff5bb50>\n",
      "step :  6000 error :  -0.38923571932971146 <function logicGate.train.<locals>.<lambda> at 0x7f601ff5bb50>\n",
      "step :  8000 error :  -0.14672158963209847 <function logicGate.train.<locals>.<lambda> at 0x7f601ff5bb50>\n",
      "step :  10000 error :  0.05151533853653456 <function logicGate.train.<locals>.<lambda> at 0x7f601ff5bb50>\n",
      "step :  12000 error :  0.2185034916036327 <function logicGate.train.<locals>.<lambda> at 0x7f601ff5bb50>\n",
      "step :  14000 error :  0.3624874434970786 <function logicGate.train.<locals>.<lambda> at 0x7f601ff5bb50>\n",
      "step :  16000 error :  0.4889083719780233 <function logicGate.train.<locals>.<lambda> at 0x7f601ff5bb50>\n",
      "step :  18000 error :  0.6015144691363372 <function logicGate.train.<locals>.<lambda> at 0x7f601ff5bb50>\n",
      "[0 0]  :  0\n",
      "[0 1]  :  1\n",
      "[1 0]  :  1\n",
      "[1 1]  :  1\n"
     ]
    }
   ],
   "source": [
    "xdata = np.array([[0,0],[0,1],[1,0],[1,1]])\n",
    "tdata = np.array([[0,1,1,1]])\n",
    "OR = logicGate(\"OR\", xdata, tdata)\n",
    "OR.train()\n",
    "for in_data in xdata:\n",
    "    (sig_val, logic_val) = OR.predict(in_data)\n",
    "    print(in_data , \" : \", logic_val)"
   ]
  },
  {
   "cell_type": "code",
   "execution_count": null,
   "id": "a392f25b-6d6d-4d90-a2b8-98b97c0f2a4a",
   "metadata": {},
   "outputs": [],
   "source": [
    "xdata = np.array([[0,0],[0,1],[1,0],[1,1]])\n",
    "tdata = np.array([[0,1,1,0]])\n",
    "XOR = logicGate(\"OR\", xdata, tdata)\n",
    "XOR.train()\n",
    "for in_data in xdata:\n",
    "    (sig_val, logic_val) = OR.predict(in_data)\n",
    "    print(in_data , \" : \", logic_val)"
   ]
  },
  {
   "cell_type": "code",
   "execution_count": null,
   "id": "900793a9-5aa2-4d5b-adba-246684b6d1c0",
   "metadata": {},
   "outputs": [],
   "source": []
  }
 ],
 "metadata": {
  "kernelspec": {
   "display_name": "Python 3 (ipykernel)",
   "language": "python",
   "name": "python3"
  },
  "language_info": {
   "codemirror_mode": {
    "name": "ipython",
    "version": 3
   },
   "file_extension": ".py",
   "mimetype": "text/x-python",
   "name": "python",
   "nbconvert_exporter": "python",
   "pygments_lexer": "ipython3",
   "version": "3.10.12"
  }
 },
 "nbformat": 4,
 "nbformat_minor": 5
}

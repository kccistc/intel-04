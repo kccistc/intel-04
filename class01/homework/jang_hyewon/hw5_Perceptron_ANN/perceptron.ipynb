{
 "cells": [
  {
   "cell_type": "code",
   "execution_count": 4,
   "id": "00afd013-c5aa-4490-b2d7-1b2ec6f65cb1",
   "metadata": {},
   "outputs": [
    {
     "name": "stdout",
     "output_type": "stream",
     "text": [
      "Collecting numpy\n",
      "  Downloading numpy-1.26.4-cp310-cp310-manylinux_2_17_x86_64.manylinux2014_x86_64.whl (18.2 MB)\n",
      "\u001b[2K     \u001b[38;2;114;156;31m━━━━━━━━━━━━━━━━━━━━━━━━━━━━━━━━━━━━━━━\u001b[0m \u001b[32m18.2/18.2 MB\u001b[0m \u001b[31m119.7 kB/s\u001b[0m eta \u001b[36m0:00:00\u001b[0mm eta \u001b[36m0:00:01\u001b[0m[36m0:00:05\u001b[0m\n",
      "\u001b[?25hInstalling collected packages: numpy\n",
      "Successfully installed numpy-1.26.4\n"
     ]
    }
   ],
   "source": [
    "!pip install numpy"
   ]
  },
  {
   "cell_type": "code",
   "execution_count": 6,
   "id": "112a6fe0-5ddc-4109-8194-5c73890ab731",
   "metadata": {},
   "outputs": [],
   "source": [
    "# importinh Python library\n",
    "import numpy as np\n",
    "\n",
    "# define Unit step\n",
    "def sigmoid(x):\n",
    "    return 1/(1+np.exp(x))"
   ]
  },
  {
   "cell_type": "code",
   "execution_count": 7,
   "id": "fc13a0c6-ea3d-4fa1-9fb0-02d429e1ff7d",
   "metadata": {},
   "outputs": [],
   "source": [
    "def numerical_derivative(f, x):\n",
    "    dx = 1e-4\n",
    "    gradf = np.zeros_like(x)\n",
    "    \n",
    "    it = np.nditer(x, flags = ['multi_index'], op_flags=['readwrite'])\n",
    "\n",
    "    while not it.finished:\n",
    "        idx = it.multi_index\n",
    "        tmp_val = x[idx]\n",
    "        x[idx] = float((tmp_val)+dx)\n",
    "        fx1 = f(x)\n",
    "        \n",
    "        x[idx] = float((tmp_val)-dx)\n",
    "        fx2 = f(x)        \n",
    "        gradf[idx] = (fx1-fx2)/(2*dx)\n",
    "        \n",
    "        x[idx] = tmp_val\n",
    "        it.iternext()\n",
    "    return gradf"
   ]
  },
  {
   "cell_type": "code",
   "execution_count": 37,
   "id": "c87c8daf-be14-4160-80fe-127862f19896",
   "metadata": {},
   "outputs": [],
   "source": [
    "class logicGate:\n",
    "    def __init__(self, gate_name, xdata, tdata, learning_rate=0.01, threshold=0.5):\n",
    "        self.name = gate_name\n",
    "        \n",
    "        self.__xdata = xdata.reshape(4, 2)\n",
    "        self.__tdata = tdata.reshape(4, 1)\n",
    "        \n",
    "        self.__w = np.random.rand(2, 1)\n",
    "        self.__b = np.random.rand(1)\n",
    "        \n",
    "        self.__learning_rate = learning_rate\n",
    "        self.__threshold = threshold\n",
    "\n",
    "    def __loss_func(self):\n",
    "        delta = 1e-7\n",
    "        z = np.dot(self.__xdata, self.__w) + self.__b\n",
    "        y = sigmoid(z)\n",
    "\n",
    "        return -np.sum(self.__tdata*np.log(y+delta)+(1-self.__tdata)*np.log((1-y)+delta))\n",
    "\n",
    "    def err_val(self):\n",
    "        delta = 1e-7\n",
    "    \n",
    "        z = np.dot(self.__xdata, self.__w) + self.__b\n",
    "        y = sigmoid(z)\n",
    "        return np.sum(self.__tdata + np.log(y+delta) + (1-self.__tdata) * np.log((1-y)+delta))\n",
    "    \n",
    "    def train(self):\n",
    "        f = lambda x : self.__loss_func()\n",
    "        print(\"init error : \", self.err_val())\n",
    "    \n",
    "        for stp in range (20000):\n",
    "            self.__w -= self.__learning_rate * numerical_derivative(f, self.__w)\n",
    "            self.__b -= self.__learning_rate * numerical_derivative(f, self.__b)\n",
    "            if (stp % 2000 == 0):\n",
    "                print(\"step : \", stp, \"error : \", self.err_val(), f)\n",
    "    \n",
    "    def predict(self, input_data):\n",
    "        z = np.dot(input_data, self.__w) + self.__b\n",
    "        y = sigmoid(z)\n",
    "    \n",
    "        if(y[0] > self.__threshold):\n",
    "            result = 1\n",
    "        else: \n",
    "            result = 0\n",
    "        return y, result"
   ]
  },
  {
   "cell_type": "code",
   "execution_count": 38,
   "id": "2b3e931f-0560-408b-9e18-b7e81e78a60b",
   "metadata": {},
   "outputs": [
    {
     "name": "stdout",
     "output_type": "stream",
     "text": [
      "init error :  -4.449270672337065\n",
      "step :  0 error :  -4.450292280062181 <function logicGate.train.<locals>.<lambda> at 0x7fb68c60c8b0>\n",
      "step :  2000 error :  -7.552822531633778 <function logicGate.train.<locals>.<lambda> at 0x7fb68c60c8b0>\n",
      "step :  4000 error :  -9.856621914061392 <function logicGate.train.<locals>.<lambda> at 0x7fb68c60c8b0>\n",
      "step :  6000 error :  -11.489078007587336 <function logicGate.train.<locals>.<lambda> at 0x7fb68c60c8b0>\n",
      "step :  8000 error :  -12.743907934142607 <function logicGate.train.<locals>.<lambda> at 0x7fb68c60c8b0>\n",
      "step :  10000 error :  -13.75957180026393 <function logicGate.train.<locals>.<lambda> at 0x7fb68c60c8b0>\n",
      "step :  12000 error :  -14.610998163188441 <function logicGate.train.<locals>.<lambda> at 0x7fb68c60c8b0>\n",
      "step :  14000 error :  -15.342993021616376 <function logicGate.train.<locals>.<lambda> at 0x7fb68c60c8b0>\n",
      "step :  16000 error :  -15.98436597581042 <function logicGate.train.<locals>.<lambda> at 0x7fb68c60c8b0>\n",
      "step :  18000 error :  -16.554685150555496 <function logicGate.train.<locals>.<lambda> at 0x7fb68c60c8b0>\n",
      "[0 0]  :  0\n",
      "[0 1]  :  0\n",
      "[1 0]  :  0\n",
      "[1 1]  :  1\n",
      "init error :  -3.426267115732821\n",
      "step :  0 error :  -3.3178218871671996 <function logicGate.train.<locals>.<lambda> at 0x7fb68c60c8b0>\n",
      "step :  2000 error :  1.0784675560921082 <function logicGate.train.<locals>.<lambda> at 0x7fb68c60c8b0>\n",
      "step :  4000 error :  0.691355281604988 <function logicGate.train.<locals>.<lambda> at 0x7fb68c60c8b0>\n",
      "step :  6000 error :  0.38521035392254666 <function logicGate.train.<locals>.<lambda> at 0x7fb68c60c8b0>\n",
      "step :  8000 error :  0.14348510454045227 <function logicGate.train.<locals>.<lambda> at 0x7fb68c60c8b0>\n",
      "step :  10000 error :  -0.05420602136845798 <function logicGate.train.<locals>.<lambda> at 0x7fb68c60c8b0>\n",
      "step :  12000 error :  -0.22079997546343344 <function logicGate.train.<locals>.<lambda> at 0x7fb68c60c8b0>\n",
      "step :  14000 error :  -0.3644877333134957 <function logicGate.train.<locals>.<lambda> at 0x7fb68c60c8b0>\n",
      "step :  16000 error :  -0.4906787066974383 <function logicGate.train.<locals>.<lambda> at 0x7fb68c60c8b0>\n",
      "step :  18000 error :  -0.6031014446971146 <function logicGate.train.<locals>.<lambda> at 0x7fb68c60c8b0>\n",
      "[0 0]  :  0\n",
      "[0 1]  :  1\n",
      "[1 0]  :  1\n",
      "[1 1]  :  1\n"
     ]
    }
   ],
   "source": [
    "xdata = np.array([[0,0],[0,1],[1,0],[1,1]])\n",
    "tdata = np.array([[0,0,0,1]])\n",
    "\n",
    "AND = logicGate(\"AND\", xdata, tdata)\n",
    "AND.train()\n",
    "\n",
    "for in_data in xdata:\n",
    "    (sig_val, logic_val) = AND.predict(in_data)\n",
    "    print(in_data , \" : \", logic_val)\n",
    "\n",
    "\n",
    "xdata = np.array([[0,0],[0,1],[1,0],[1,1]])\n",
    "tdata = np.array([[0,1,1,1]])\n",
    "\n",
    "OR = logicGate(\"OR\", xdata, tdata)\n",
    "OR.train()\n",
    "\n",
    "for in_data in xdata:\n",
    "    (sig_val, logic_val) = OR.predict(in_data)\n",
    "    print(in_data , \" : \", logic_val)"
   ]
  },
  {
   "cell_type": "code",
   "execution_count": 40,
   "id": "10a4f6b8-0688-4719-8b6b-200cb2b4d122",
   "metadata": {},
   "outputs": [
    {
     "name": "stdout",
     "output_type": "stream",
     "text": [
      "init error :  -1.7355838176852176\n",
      "step :  0 error :  -1.6873257103052093 <function logicGate.train.<locals>.<lambda> at 0x7fb68c66e5f0>\n",
      "step :  2000 error :  0.9266373468674323 <function logicGate.train.<locals>.<lambda> at 0x7fb68c66e5f0>\n",
      "step :  4000 error :  0.7191853182694827 <function logicGate.train.<locals>.<lambda> at 0x7fb68c66e5f0>\n",
      "step :  6000 error :  0.5036857564449111 <function logicGate.train.<locals>.<lambda> at 0x7fb68c66e5f0>\n",
      "step :  8000 error :  0.3143948839260431 <function logicGate.train.<locals>.<lambda> at 0x7fb68c66e5f0>\n",
      "step :  10000 error :  0.1502425411111945 <function logicGate.train.<locals>.<lambda> at 0x7fb68c66e5f0>\n",
      "step :  12000 error :  0.006695937652815953 <function logicGate.train.<locals>.<lambda> at 0x7fb68c66e5f0>\n",
      "step :  14000 error :  -0.12029663864507167 <function logicGate.train.<locals>.<lambda> at 0x7fb68c66e5f0>\n",
      "step :  16000 error :  -0.23389906657468718 <function logicGate.train.<locals>.<lambda> at 0x7fb68c66e5f0>\n",
      "step :  18000 error :  -0.3365268638556609 <function logicGate.train.<locals>.<lambda> at 0x7fb68c66e5f0>\n",
      "[0 0]  :  1\n",
      "[0 1]  :  1\n",
      "[1 0]  :  1\n",
      "[1 1]  :  0\n",
      "init error :  -2.8701307347901386\n",
      "step :  0 error :  -2.856359734750293 <function logicGate.train.<locals>.<lambda> at 0x7fb68c66e560>\n",
      "step :  2000 error :  -2.1583126375346766 <function logicGate.train.<locals>.<lambda> at 0x7fb68c66e560>\n",
      "step :  4000 error :  -2.1588573938519033 <function logicGate.train.<locals>.<lambda> at 0x7fb68c66e560>\n",
      "step :  6000 error :  -2.158880835875933 <function logicGate.train.<locals>.<lambda> at 0x7fb68c66e560>\n",
      "step :  8000 error :  -2.1588818385642043 <function logicGate.train.<locals>.<lambda> at 0x7fb68c66e560>\n",
      "step :  10000 error :  -2.1588818814442794 <function logicGate.train.<locals>.<lambda> at 0x7fb68c66e560>\n",
      "step :  12000 error :  -2.158881883277934 <function logicGate.train.<locals>.<lambda> at 0x7fb68c66e560>\n",
      "step :  14000 error :  -2.1588818833566594 <function logicGate.train.<locals>.<lambda> at 0x7fb68c66e560>\n",
      "step :  16000 error :  -2.15888188335948 <function logicGate.train.<locals>.<lambda> at 0x7fb68c66e560>\n",
      "step :  18000 error :  -2.15888188335948 <function logicGate.train.<locals>.<lambda> at 0x7fb68c66e560>\n",
      "[0 0]  :  1\n",
      "[0 1]  :  1\n",
      "[1 0]  :  0\n",
      "[1 1]  :  0\n"
     ]
    }
   ],
   "source": [
    "xdata = np.array([[0,0],[0,1],[1,0],[1,1]])\n",
    "tdata = np.array([[1,1,1,0]])\n",
    "\n",
    "NAND = logicGate(\"NAND\", xdata, tdata)\n",
    "NAND.train()\n",
    "\n",
    "for in_data in xdata:\n",
    "    (sig_val, logic_val) = NAND.predict(in_data)\n",
    "    print(in_data , \" : \", logic_val)\n",
    "    \n",
    "\n",
    "\n",
    "xdata = np.array([[0,0],[0,1],[1,0],[1,1]])\n",
    "tdata = np.array([[1,0,0,1]])\n",
    "\n",
    "XOR = logicGate(\"XOR\", xdata, tdata)\n",
    "XOR.train()\n",
    "\n",
    "for in_data in xdata:\n",
    "    (sig_val, logic_val) = XOR.predict(in_data)\n",
    "    print(in_data , \" : \", logic_val)"
   ]
  }
 ],
 "metadata": {
  "kernelspec": {
   "display_name": "Python 3 (ipykernel)",
   "language": "python",
   "name": "python3"
  },
  "language_info": {
   "codemirror_mode": {
    "name": "ipython",
    "version": 3
   },
   "file_extension": ".py",
   "mimetype": "text/x-python",
   "name": "python",
   "nbconvert_exporter": "python",
   "pygments_lexer": "ipython3",
   "version": "3.10.12"
  }
 },
 "nbformat": 4,
 "nbformat_minor": 5
}

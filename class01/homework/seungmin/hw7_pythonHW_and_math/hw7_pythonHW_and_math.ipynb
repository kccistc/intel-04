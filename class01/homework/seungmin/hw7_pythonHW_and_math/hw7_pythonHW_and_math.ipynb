{
 "cells": [
  {
   "cell_type": "markdown",
   "id": "fe21d9db-13cd-4480-af94-b0860fc6f0de",
   "metadata": {},
   "source": [
    "# Homework1"
   ]
  },
  {
   "cell_type": "code",
   "execution_count": 2,
   "id": "06d6718e-c0d7-45e2-a6c3-665910c5e4f3",
   "metadata": {},
   "outputs": [
    {
     "data": {
      "text/plain": [
       "('A', 'B', 'C')"
      ]
     },
     "execution_count": 2,
     "metadata": {},
     "output_type": "execute_result"
    }
   ],
   "source": [
    "A = ('A', 'B')\n",
    "A + ('C',)"
   ]
  },
  {
   "cell_type": "code",
   "execution_count": 3,
   "id": "de347a74-e020-4b1f-999f-518cae9a6555",
   "metadata": {},
   "outputs": [
    {
     "name": "stdout",
     "output_type": "stream",
     "text": [
      "('A', 'B', 'C')\n",
      "<class 'tuple'>\n"
     ]
    }
   ],
   "source": [
    "A = ('A', 'B')\n",
    "Al = list(A)\n",
    "Al.append('C')\n",
    "A = tuple(Al)\n",
    "print(A)\n",
    "print(type(A))"
   ]
  },
  {
   "cell_type": "markdown",
   "id": "26c39e7e-e52e-426c-bca2-27ba88c876f7",
   "metadata": {},
   "source": [
    "# Homework2,3"
   ]
  },
  {
   "cell_type": "code",
   "execution_count": 5,
   "id": "6d8ecd09-23e5-4fe6-8546-3b45b638d7b5",
   "metadata": {},
   "outputs": [
    {
     "name": "stdout",
     "output_type": "stream",
     "text": [
      "[[ 1  2  3  4  5  6]\n",
      " [ 7  8  9 10 11 12]\n",
      " [13 14 15 16 17 18]\n",
      " [19 20 21 22 23 24]\n",
      " [25 26 27 28 29 30]\n",
      " [31 32 33 34 35 36]]\n",
      "[ 1  2  3  4  5  6  7  8  9 10 11 12 13 14 15 16 17 18 19 20 21 22 23 24\n",
      " 25 26 27 28 29 30 31 32 33 34 35 36]\n"
     ]
    }
   ],
   "source": [
    "import numpy as np\n",
    "\n",
    "n = 6\n",
    "A = np.zeros((n,n), dtype = int)\n",
    "for j in range(n):\n",
    "    for i in range(n):\n",
    "        A[j,i] = n*j+i+1\n",
    "print(A)\n",
    "print(A.reshape(-1,))\n"
   ]
  },
  {
   "cell_type": "markdown",
   "id": "3384bd01-0465-4334-95d5-a0d77b5c9dfd",
   "metadata": {},
   "source": [
    "# Homework4"
   ]
  },
  {
   "cell_type": "code",
   "execution_count": 21,
   "id": "3bde2d45-41b1-40af-bb68-022dd2842a31",
   "metadata": {},
   "outputs": [
    {
     "name": "stderr",
     "output_type": "stream",
     "text": [
      "[ WARN:0@311.397] global loadsave.cpp:248 findDecoder imread_('openCV/dog.png'): can't open/read file: check file path/integrity\n"
     ]
    },
    {
     "ename": "AttributeError",
     "evalue": "'NoneType' object has no attribute 'shape'",
     "output_type": "error",
     "traceback": [
      "\u001b[0;31m---------------------------------------------------------------------------\u001b[0m",
      "\u001b[0;31mAttributeError\u001b[0m                            Traceback (most recent call last)",
      "Cell \u001b[0;32mIn[21], line 5\u001b[0m\n\u001b[1;32m      2\u001b[0m \u001b[38;5;28;01mimport\u001b[39;00m \u001b[38;5;21;01mcv2\u001b[39;00m\n\u001b[1;32m      4\u001b[0m img \u001b[38;5;241m=\u001b[39m cv2\u001b[38;5;241m.\u001b[39mimread(\u001b[38;5;124m'\u001b[39m\u001b[38;5;124mopenCV/dog.png\u001b[39m\u001b[38;5;124m'\u001b[39m)\n\u001b[0;32m----> 5\u001b[0m \u001b[38;5;28mprint\u001b[39m(\u001b[43mimg\u001b[49m\u001b[38;5;241;43m.\u001b[39;49m\u001b[43mshape\u001b[49m)\n\u001b[1;32m      6\u001b[0m img_expend \u001b[38;5;241m=\u001b[39m np\u001b[38;5;241m.\u001b[39mexpand_dims(img, \u001b[38;5;241m0\u001b[39m)\n\u001b[1;32m      7\u001b[0m \u001b[38;5;28mprint\u001b[39m(img_expend\u001b[38;5;241m.\u001b[39mshape)\n",
      "\u001b[0;31mAttributeError\u001b[0m: 'NoneType' object has no attribute 'shape'"
     ]
    }
   ],
   "source": [
    "import numpy as np\n",
    "import cv2\n",
    "\n",
    "img = cv2.imread('openCV/dog.png')\n",
    "print(img.shape)\n",
    "img_expend = np.expand_dims(img, 0)\n",
    "print(img_expend.shape)\n",
    "img_expend_T = img_expend.transpose((0, 3, 1, 2))\n",
    "print(img_expend_T.shape)"
   ]
  },
  {
   "cell_type": "markdown",
   "id": "6fa45788-cbd6-4374-93ad-b5a1a83221d5",
   "metadata": {},
   "source": [
    "# Homework5"
   ]
  },
  {
   "cell_type": "code",
   "execution_count": null,
   "id": "f556212d-c994-45dd-a1b3-a222afa9e63d",
   "metadata": {},
   "outputs": [],
   "source": [
    "import numpy as np\n",
    "import matplotlib.pyplot as plt\n",
    "import cv2\n",
    "import copy"
   ]
  },
  {
   "cell_type": "code",
   "execution_count": null,
   "id": "3c386e84-caa8-4c06-a9b8-fc1889071daa",
   "metadata": {},
   "outputs": [],
   "source": [
    "# convolution\n",
    "img = cv2.imread('lena.png')\n",
    "img = cv2.cvtColor(img, cv2.COLOR_BGR2RGB)\n",
    "kernel = np.array([[1, 1, 1],[1, -8, 1], [1, 1, 1]])\n",
    "#print(img.shape[1])\n",
    "imgcpy = copy.deepcopy(img)\n",
    "imgcpy2 = np.zeros((imgcpy.shape[0], imgcpy.shape[1], imgcpy.shape[2]), dtype = int) \n",
    "#imgcpy2 = np.zeros((imgcpy.shape[0], imgcpy.shape[1]), dtype = int) \n",
    "\n",
    "plt.imshow(img/255)"
   ]
  },
  {
   "cell_type": "code",
   "execution_count": null,
   "id": "43bd6007-81bd-40e5-b2a7-e02140e22b9b",
   "metadata": {},
   "outputs": [],
   "source": [
    "for h in range(2, img.shape[0]-1):\n",
    "    for w in range(2, img.shape[1]-1):\n",
    "        #img_tmp = np.dot(imgcpy[h-1:h-1+kernel.shape[0], w-1:w-1+kernel.shape[1]], kernel)\n",
    "        #imgcpy2[h,w] = np.sum(img_tmp)\n",
    "        for c in range(1, img.shape[2]):\n",
    "            img_tmp = np.dot(img[h-1:h-1+kernel.shape[0], w-1:w-1+kernel.shape[1], c], kernel)\n",
    "            imgcpy2[h,w,c] = np.sum(img_tmp)\n",
    "\n",
    "#img3 = cv2.cvtColor(imgcpy2, cv2.COLOR_BGR2RGB)\n",
    "plt.imshow(imgcpy2/255)"
   ]
  }
 ],
 "metadata": {
  "kernelspec": {
   "display_name": "Python 3 (ipykernel)",
   "language": "python",
   "name": "python3"
  },
  "language_info": {
   "codemirror_mode": {
    "name": "ipython",
    "version": 3
   },
   "file_extension": ".py",
   "mimetype": "text/x-python",
   "name": "python",
   "nbconvert_exporter": "python",
   "pygments_lexer": "ipython3",
   "version": "3.10.12"
  }
 },
 "nbformat": 4,
 "nbformat_minor": 5
}

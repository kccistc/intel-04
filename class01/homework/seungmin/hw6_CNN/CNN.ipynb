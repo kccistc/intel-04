{
  "nbformat": 4,
  "nbformat_minor": 0,
  "metadata": {
    "colab": {
      "provenance": []
    },
    "kernelspec": {
      "name": "python3",
      "display_name": "Python 3"
    },
    "language_info": {
      "name": "python"
    }
  },
  "cells": [
    {
      "cell_type": "code",
      "execution_count": null,
      "metadata": {
        "id": "gKHQFX1giXhN"
      },
      "outputs": [],
      "source": [
        "import tensorflow as tf\n",
        "from tensorflow.keras import Sequential\n",
        "from tensorflow.keras.layers import Conv2D, BatchNormalization, Flatten, Dense\n",
        "import numpy as np\n",
        "import pickle"
      ]
    },
    {
      "cell_type": "code",
      "source": [
        "mnist = tf.keras.datasets.mnist\n",
        "\n",
        "# Model load: MNIST / Fashion MNIST Dataset\n",
        "mnist = tf.keras.datasets.mnist\n",
        "(image_train, label_train), (image_test, label_test) = mnist.load_data()\n",
        "# normalized iamges\n",
        "image_train, image_test = image_train / 255.0, image_test / 255.0"
      ],
      "metadata": {
        "id": "9qkIIVkUiYXV"
      },
      "execution_count": null,
      "outputs": []
    },
    {
      "cell_type": "code",
      "source": [
        "class_names = ['0', '1', '2', '3', '4', '5', '6', '7', '8', '9']"
      ],
      "metadata": {
        "id": "90yE1D-Wid1B"
      },
      "execution_count": null,
      "outputs": []
    },
    {
      "cell_type": "code",
      "source": [
        "plt.figure(figsize=(10,10))\n",
        "for i in range(10):\n",
        "    plt.subplot(3,4,i+1)\n",
        "    plt.xticks([])\n",
        "    plt.yticks([])\n",
        "    plt.grid(False)\n",
        "    plt.imshow(image_train[i])\n",
        "    plt.xlabel(class_names[label_train[i]])\n",
        "plt.show()"
      ],
      "metadata": {
        "id": "SVBTVgAFiZwh"
      },
      "execution_count": null,
      "outputs": []
    },
    {
      "cell_type": "code",
      "source": [],
      "metadata": {
        "id": "NPugAxlji78X"
      },
      "execution_count": null,
      "outputs": []
    },
    {
      "cell_type": "code",
      "source": [
        "# @title Default title text\n",
        "model1 = Sequential()\n",
        "model1.add(Conv2D(32,(2,2), activation=\"sigmoid\", input_shape=(28,28,1)))\n",
        "model1.add(Conv2D(64,(2,2),activation=\"sigmoid\"))\n",
        "model1.add(Conv2D(128,(2,2),2,activation=\"sigmoid\"))\n",
        "model1.add(Conv2D(32,(2,2),activation=\"sigmoid\"))\n",
        "model1.add(Conv2D(64,(2,2),activation=\"sigmoid\"))\n",
        "model1.add(Conv2D(128,(2,2),2,activation=\"sigmoid\"))\n",
        "\n",
        "# ANN\n",
        "model1.add(Flatten())\n",
        "model1.add(Dense(128,activation=\"sigmoid\"))\n",
        "model1.add(Dense(10,activation=\"softmax\"))"
      ],
      "metadata": {
        "id": "H6JIpbTeiZ2w"
      },
      "execution_count": null,
      "outputs": []
    },
    {
      "cell_type": "code",
      "source": [
        "model1.compile(\n",
        "            loss = \"sparse_categorical_crossentropy\",\n",
        "            optimizer = \"adam\",\n",
        "            metrics=[\"accuracy\"])\n",
        "history = model1.fit(image_train, label_train, validation_data=(image_test, label_test), epochs=10, batch_size=100)\n",
        "model1.summary()\n",
        "model1.save('mnist_without_batch.h5')\n",
        "with open('historyBatchReLu', 'wb') as file_pi:\n",
        "    pickle.dump(history.history, file_pi)"
      ],
      "metadata": {
        "id": "N6orKu7liZ61"
      },
      "execution_count": null,
      "outputs": []
    },
    {
      "cell_type": "code",
      "source": [
        "# CNN\n",
        "model2 = Sequential()\n",
        "model2.add(Conv2D(32,(2,2),activation=\"sigmoid\",\n",
        "input_shape=(28,28,1)))\n",
        "model2.add(BatchNormalization())\n",
        "model2.add(Conv2D(64,(2,2),activation=\"sigmoid\"))\n",
        "model2.add(BatchNormalization())\n",
        "model2.add(Conv2D(128,(2,2),2,activation=\"sigmoid\"))\n",
        "model2.add(BatchNormalization())\n",
        "model2.add(Conv2D(32,(2,2),activation=\"sigmoid\"))\n",
        "model2.add(BatchNormalization())\n",
        "model2.add(Conv2D(64,(2,2),activation=\"sigmoid\"))\n",
        "model2.add(BatchNormalization())\n",
        "model2.add(Conv2D(128,(2,2),2,activation=\"sigmoid\"))\n",
        "model2.add(BatchNormalization())\n",
        "\n",
        "# ANN\n",
        "model2.add(Flatten())\n",
        "model2.add(Dense(128,activation=\"sigmoid\"))\n",
        "model2.add(Dense(10,activation=\"softmax\"))"
      ],
      "metadata": {
        "id": "Wx_st8sqiZ-K"
      },
      "execution_count": null,
      "outputs": []
    },
    {
      "cell_type": "code",
      "source": [
        "model2.compile(\n",
        "        loss = \"sparse_categorical_crossentropy\",\n",
        "        optimizer = \"adam\",\n",
        "        metrics=[\"accuracy\"])\n",
        "history1 = model2.fit(image_train, label_train, validation_data=(image_test, label_test), epochs=10, batch_size=100)\n",
        "model2.summary()\n",
        "model2.save('fasmnist_with_batch.h5')\n",
        "with open('historyBatchReLu', 'wb') as file_pi:\n",
        "    pickle.dump(history1.history, file_pi)"
      ],
      "metadata": {
        "id": "gjBnXrBgiaBt"
      },
      "execution_count": null,
      "outputs": []
    },
    {
      "cell_type": "code",
      "source": [
        "# CNN\n",
        "model3 = Sequential()\n",
        "model3.add(Conv2D(32,(2,2),activation=\"relu\",\n",
        "input_shape=(28,28,1)))\n",
        "model3.add(Conv2D(64,(2,2),activation=\"relu\"))\n",
        "model3.add(Conv2D(128,(2,2),2,activation=\"relu\"))\n",
        "model3.add(Conv2D(32,(2,2),activation=\"relu\"))\n",
        "model3.add(Conv2D(64,(2,2),activation=\"relu\"))\n",
        "model3.add(Conv2D(128,(2,2),2,activation=\"relu\"))\n",
        "\n",
        "# ANN\n",
        "model3.add(Flatten())\n",
        "model3.add(Dense(128,activation=\"sigmoid\"))\n",
        "model3.add(Dense(10,activation=\"softmax\"))"
      ],
      "metadata": {
        "id": "_MahbaaJiaIX"
      },
      "execution_count": null,
      "outputs": []
    },
    {
      "cell_type": "code",
      "source": [
        "model3.compile(\n",
        "        loss = \"sparse_categorical_crossentropy\",\n",
        "        optimizer = \"adam\",\n",
        "        metrics=[\"accuracy\"])\n",
        "history2 = model3.fit(image_train, label_train, validation_data=(image_test, label_test), epochs=10, batch_size=100)\n",
        "model3.summary()\n",
        "model3.save('mnist_relu.h5')\n",
        "with open('historyBatchReLu', 'wb') as file_pi:\n",
        "    pickle.dump(history2.history, file_pi)"
      ],
      "metadata": {
        "id": "yDHvLmCHiaNb"
      },
      "execution_count": null,
      "outputs": []
    },
    {
      "cell_type": "code",
      "source": [
        "import pickle\n",
        "import numpy as np\n",
        "import matplotlib.pyplot as plt\n",
        "\n",
        "\n",
        "\n",
        "val_accNB = history.history[\"val_accuracy\"]\n",
        "val_lossNB= history.history[\"val_loss\"]\n",
        "val_lossB = history1.history[\"val_loss\"]\n",
        "val_accB = history1.history[\"val_accuracy\"]\n",
        "val_lossL = history2.history[\"val_loss\"]\n",
        "val_accL = history2.history[\"val_accuracy\"]\n",
        "\n",
        "plt.subplot(1,2,1)\n",
        "plt.title('Validation Loss')\n",
        "plt.plot(range(len(val_lossNB)),val_lossNB,label = \"sigmoid (No Batch)\")\n",
        "plt.plot(range(len(val_lossB)),val_lossB,label = \"sigmoid (Batch)\")\n",
        "plt.plot(range(len(val_lossL)),val_lossL,label = \"relu\")\n",
        "plt.grid()\n",
        "plt.legend()\n",
        "plt.subplot(1,2,2)\n",
        "plt.title('Validation Accuracy')\n",
        "plt.plot(range(len(val_accNB)),val_accNB,label = \"sigmoid (No Batch)\")\n",
        "plt.plot(range(len(val_accB)),val_accB,label = \"sigmoid (Batch)\")\n",
        "plt.plot(range(len(val_accL)),val_accL,label = \"relu\")\n",
        "plt.grid()\n",
        "plt.legend()\n",
        "plt.show()\n",
        "plt.savefig(\"Summary.png\")"
      ],
      "metadata": {
        "id": "V-OwRJ5ZiaR9"
      },
      "execution_count": null,
      "outputs": []
    },
    {
      "cell_type": "code",
      "source": [],
      "metadata": {
        "id": "UPFclrpEiaYF"
      },
      "execution_count": null,
      "outputs": []
    },
    {
      "cell_type": "code",
      "source": [],
      "metadata": {
        "id": "Qqf9G4i5iadU"
      },
      "execution_count": null,
      "outputs": []
    }
  ]
}
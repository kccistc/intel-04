{
  "nbformat": 4,
  "nbformat_minor": 0,
  "metadata": {
    "colab": {
      "provenance": []
    },
    "kernelspec": {
      "name": "python3",
      "display_name": "Python 3"
    },
    "language_info": {
      "name": "python"
    }
  },
  "cells": [
    {
      "cell_type": "code",
      "execution_count": null,
      "metadata": {
        "id": "Qd7uBnXlh7cj"
      },
      "outputs": [],
      "source": [
        "import cv2\n",
        "import numpy as np\n",
        "img = cv2.imread('openCV/dog.png', cv2.IMREAD_GRAYSCALE)\n",
        "kernel = np.array([[1, 1, 1],[1, -8, 1], [1, 1, 1]])\n",
        "print(kernel)\n",
        "output = cv2.filter2D(img, -1, kernel)\n",
        "cv2.imshow('edge', output)\n",
        "cv2.waitKey(0)"
      ]
    },
    {
      "cell_type": "code",
      "source": [
        "import cv2\n",
        "import numpy as np\n",
        "img = cv2.imread('openCV/dog.png', cv2.IMREAD_GRAYSCALE)\n",
        "kernel = np.array([[0, 0, 0],[0, 1, 0], [0, 0, 0]])\n",
        "print(kernel)\n",
        "output = cv2.filter2D(img, -1, kernel)\n",
        "cv2.imshow('edge', output)\n",
        "cv2.waitKey(0)"
      ],
      "metadata": {
        "id": "2Cevo3FOiDn-"
      },
      "execution_count": null,
      "outputs": []
    },
    {
      "cell_type": "code",
      "source": [
        "import cv2\n",
        "import numpy as np\n",
        "img = cv2.imread('openCV/dog.png', cv2.IMREAD_GRAYSCALE)\n",
        "kernel = np.array([[0, -1, 0],[-1, 4, -1], [0, -1, 0]])\n",
        "print(kernel)\n",
        "output = cv2.filter2D(img, -1, kernel)\n",
        "cv2.imshow('edge', output)\n",
        "cv2.waitKey(0)"
      ],
      "metadata": {
        "id": "H_eXXpR1iEnB"
      },
      "execution_count": null,
      "outputs": []
    },
    {
      "cell_type": "code",
      "source": [
        "import cv2\n",
        "import numpy as np\n",
        "img = cv2.imread('openCV/dog.png', cv2.IMREAD_GRAYSCALE)\n",
        "kernel = np.array([[-1, -1, -1],[-1, 8, -1], [-1, -1, -1]])\n",
        "print(kernel)\n",
        "output = cv2.filter2D(img, -1, kernel)\n",
        "cv2.imshow('edge', output)\n",
        "cv2.waitKey(0)"
      ],
      "metadata": {
        "id": "xV-YWQrWiFGZ"
      },
      "execution_count": null,
      "outputs": []
    },
    {
      "cell_type": "code",
      "source": [
        "import cv2\n",
        "import numpy as np\n",
        "img = cv2.imread('openCV/dog.png', cv2.IMREAD_GRAYSCALE)\n",
        "kernel = np.array([[0, -1, 0],[-1, 5, -1], [0, -1, 0]])\n",
        "print(kernel)\n",
        "output = cv2.filter2D(img, -1, kernel)\n",
        "cv2.imshow('edge', output)\n",
        "cv2.waitKey(0)"
      ],
      "metadata": {
        "id": "lCAi07IniJAc"
      },
      "execution_count": null,
      "outputs": []
    },
    {
      "cell_type": "code",
      "source": [
        "import cv2\n",
        "import numpy as np\n",
        "img = cv2.imread('openCV/dog.png', cv2.IMREAD_GRAYSCALE)\n",
        "kernel = np.array([[1.0/9, 1.0/9, 1.0/9],[1.0/9, 1.0/9, 1.0/9], [1.0/9, 1.0/9, 1.0/9]])\n",
        "print(kernel)\n",
        "output = cv2.filter2D(img, -1, kernel)\n",
        "cv2.imshow('edge', output)\n",
        "cv2.waitKey(0)"
      ],
      "metadata": {
        "id": "U_R7HMNBiJWE"
      },
      "execution_count": null,
      "outputs": []
    },
    {
      "cell_type": "code",
      "source": [
        "import cv2\n",
        "import numpy as np\n",
        "img = cv2.imread('openCV/dog.png', cv2.IMREAD_GRAYSCALE)\n",
        "kernel = np.array([[1.0/16, 1.0/16, 1.0/16],[1.0/16, 1.0/16, 1.0/16], [1.0/16, 1.0/16, 1.0/16]])\n",
        "print(kernel)\n",
        "output = cv2.filter2D(img, -1, kernel)\n",
        "cv2.imshow('edge', output)\n",
        "cv2.waitKey(0)"
      ],
      "metadata": {
        "id": "3MbXdZd-iPlh"
      },
      "execution_count": null,
      "outputs": []
    }
  ]
}
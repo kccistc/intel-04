{
 "cells": [
  {
   "cell_type": "code",
   "execution_count": 1,
   "id": "79b28011-7bb3-4f4c-8573-1549a95251f3",
   "metadata": {},
   "outputs": [
    {
     "name": "stdout",
     "output_type": "stream",
     "text": [
      "Requirement already satisfied: numpy in ./.venv/lib/python3.10/site-packages (1.26.4)\n",
      "Note: you may need to restart the kernel to use updated packages.\n"
     ]
    }
   ],
   "source": [
    "pip install numpy"
   ]
  },
  {
   "cell_type": "code",
   "execution_count": 2,
   "id": "1cfae105-bade-4f4d-ac57-aad66cc8668e",
   "metadata": {},
   "outputs": [],
   "source": [
    "import numpy as np\n",
    "def sigmoid(x) :\n",
    "    return 1/(1+np.exp(x))"
   ]
  },
  {
   "cell_type": "code",
   "execution_count": 3,
   "id": "c56b35ba-67c2-4d9c-87ca-138255a8207b",
   "metadata": {},
   "outputs": [],
   "source": [
    "def numerical_derivative(f, x):\n",
    "    dx = 1e-4\n",
    "    gradf = np.zeros_like(x)\n",
    "\n",
    "    it = np.nditer(x, flags = ['multi_index'], op_flags=['readwrite'])\n",
    "    while not it.finished:\n",
    "        idx = it.multi_index\n",
    "        tmp_val = x[idx]\n",
    "        x[idx] = float((tmp_val)+dx)\n",
    "        fx1 = f(x)\n",
    "\n",
    "        x[idx] = float((tmp_val)-dx)\n",
    "        fx2 = f(x)\n",
    "        gradf[idx] = (fx1-fx2)/(2*dx)\n",
    "\n",
    "        x[idx] = tmp_val\n",
    "        it.iternext()\n",
    "    return gradf"
   ]
  },
  {
   "cell_type": "code",
   "execution_count": 4,
   "id": "cb9b58de-5418-4ae7-b2ce-d9c8064d7c53",
   "metadata": {},
   "outputs": [],
   "source": [
    "class logicGate:\n",
    "    def __init__(self, gate_name, xdata, tdata, learning_rate=0.01, threshold=0.5):\n",
    "        self.name = gate_name\n",
    "\n",
    "        self.__xdata=xdata.reshape(4,2)\n",
    "        self.__tdata=tdata.reshape(4,1)\n",
    "\n",
    "        self.__w=np.random.rand(2,1)\n",
    "        self.__b=np.random.rand(1)\n",
    "\n",
    "        self.__learning_rate = learning_rate\n",
    "        self.__threshold = threshold\n",
    "    def __loss_func(self):\n",
    "        delta = 1e-7\n",
    "        z = np.dot(self.__xdata, self.__w) + self.__b\n",
    "        y = sigmoid(z)\n",
    "        return -np.sum(self.__tdata*np.log(y+delta) + (1-self.__tdata)*np.log((1-y)+delta))\n",
    "    def err_val(self):\n",
    "        delta = 1e-7\n",
    "        z = np.dot(self.__xdata, self.__w)+self.__b\n",
    "        y = sigmoid(z)\n",
    "        return -np.sum(self.__tdata + np.log(y+delta) + (1-self.__tdata)*np.log((1-y)+delta))\n",
    "    def train(self):\n",
    "        f = lambda x : self.__loss_func()\n",
    "        print(\"init error : \", self.err_val())\n",
    "\n",
    "        for stp in range(20000):\n",
    "            self.__w -= self.__learning_rate * numerical_derivative(f, self.__w)\n",
    "            self.__b -= self.__learning_rate * numerical_derivative(f, self.__b)\n",
    "            if (stp % 2000 == 0):\n",
    "                print(\"step : \", stp, \"error : \", self.err_val(), f)\n",
    "    def predict(self, input_data):\n",
    "        z = np.dot(input_data, self.__w) + self.__b\n",
    "        y = sigmoid(z)\n",
    "        if y[0] > self.__threshold:\n",
    "            result = 1\n",
    "        else:\n",
    "            result = 0\n",
    "        return y, result"
   ]
  },
  {
   "cell_type": "code",
   "execution_count": 6,
   "id": "59f2d52e-05f3-4dfd-a159-8b66db74691a",
   "metadata": {},
   "outputs": [
    {
     "name": "stdout",
     "output_type": "stream",
     "text": [
      "init error :  4.6041384196105275\n",
      "step :  0 error :  4.603571495737598 <function logicGate.train.<locals>.<lambda> at 0x7f213a766830>\n",
      "step :  2000 error :  7.430941200358622 <function logicGate.train.<locals>.<lambda> at 0x7f213a766830>\n",
      "step :  4000 error :  9.7747257719309 <function logicGate.train.<locals>.<lambda> at 0x7f213a766830>\n",
      "step :  6000 error :  11.428228253236648 <function logicGate.train.<locals>.<lambda> at 0x7f213a766830>\n",
      "step :  8000 error :  12.695744564915362 <function logicGate.train.<locals>.<lambda> at 0x7f213a766830>\n",
      "step :  10000 error :  13.719824743490934 <function logicGate.train.<locals>.<lambda> at 0x7f213a766830>\n",
      "step :  12000 error :  14.577218907366815 <function logicGate.train.<locals>.<lambda> at 0x7f213a766830>\n",
      "step :  14000 error :  15.313655943696642 <function logicGate.train.<locals>.<lambda> at 0x7f213a766830>\n",
      "step :  16000 error :  15.958459770044469 <function logicGate.train.<locals>.<lambda> at 0x7f213a766830>\n",
      "step :  18000 error :  16.531506636280156 <function logicGate.train.<locals>.<lambda> at 0x7f213a766830>\n",
      "[0 0]  :  0\n",
      "[0 1]  :  0\n",
      "[1 0]  :  0\n",
      "[1 1]  :  1\n",
      "init error :  3.823871467812235\n",
      "step :  0 error :  3.707333806152944 <function logicGate.train.<locals>.<lambda> at 0x7f213a7665f0>\n",
      "step :  2000 error :  -1.075172464298676 <function logicGate.train.<locals>.<lambda> at 0x7f213a7665f0>\n",
      "step :  4000 error :  -0.6885570913613639 <function logicGate.train.<locals>.<lambda> at 0x7f213a7665f0>\n",
      "step :  6000 error :  -0.38303370430941797 <function logicGate.train.<locals>.<lambda> at 0x7f213a7665f0>\n",
      "step :  8000 error :  -0.14173417465698712 <function logicGate.train.<locals>.<lambda> at 0x7f213a7665f0>\n",
      "step :  10000 error :  0.05566220743806005 <function logicGate.train.<locals>.<lambda> at 0x7f213a7665f0>\n",
      "step :  12000 error :  0.22204316437975136 <function logicGate.train.<locals>.<lambda> at 0x7f213a7665f0>\n",
      "step :  14000 error :  0.365570807691034 <function logicGate.train.<locals>.<lambda> at 0x7f213a7665f0>\n",
      "step :  16000 error :  0.49163742908887675 <function logicGate.train.<locals>.<lambda> at 0x7f213a7665f0>\n",
      "step :  18000 error :  0.603960984110477 <function logicGate.train.<locals>.<lambda> at 0x7f213a7665f0>\n",
      "[0 0]  :  0\n",
      "[0 1]  :  1\n",
      "[1 0]  :  1\n",
      "[1 1]  :  1\n",
      "init error :  5.239987977411846\n",
      "step :  0 error :  5.185052610096282 <function logicGate.train.<locals>.<lambda> at 0x7f213a765fc0>\n",
      "step :  2000 error :  2.157006887494976 <function logicGate.train.<locals>.<lambda> at 0x7f213a765fc0>\n",
      "step :  4000 error :  2.158799341840736 <function logicGate.train.<locals>.<lambda> at 0x7f213a765fc0>\n",
      "step :  6000 error :  2.158878349210173 <function logicGate.train.<locals>.<lambda> at 0x7f213a765fc0>\n",
      "step :  8000 error :  2.158881732215339 <function logicGate.train.<locals>.<lambda> at 0x7f213a765fc0>\n",
      "step :  10000 error :  2.1588818768959603 <function logicGate.train.<locals>.<lambda> at 0x7f213a765fc0>\n",
      "step :  12000 error :  2.1588818830832537 <function logicGate.train.<locals>.<lambda> at 0x7f213a765fc0>\n",
      "step :  14000 error :  2.1588818833487076 <function logicGate.train.<locals>.<lambda> at 0x7f213a765fc0>\n",
      "step :  16000 error :  2.158881883356579 <function logicGate.train.<locals>.<lambda> at 0x7f213a765fc0>\n",
      "step :  18000 error :  2.158881883356579 <function logicGate.train.<locals>.<lambda> at 0x7f213a765fc0>\n",
      "[0 0]  :  0\n",
      "[0 1]  :  1\n",
      "[1 0]  :  1\n",
      "[1 1]  :  1\n"
     ]
    }
   ],
   "source": [
    "xdata = np.array([[0,0],[0,1],[1,0],[1,1]])\n",
    "tdata = np.array([[0,0,0,1]])\n",
    "AND = logicGate(\"AND\", xdata, tdata)\n",
    "AND.train()\n",
    "for in_data in xdata:\n",
    "    (sig_val, logic_val) = AND.predict(in_data)\n",
    "    print(in_data , \" : \", logic_val)\n",
    "\n",
    "xdata = np.array([[0,0],[0,1],[1,0],[1,1]])\n",
    "tdata = np.array([[0,1,1,1]])\n",
    "OR = logicGate(\"OR\", xdata, tdata)\n",
    "OR.train()\n",
    "for in_data in xdata:\n",
    "    (sig_val, logic_val) = OR.predict(in_data)\n",
    "    print(in_data , \" : \", logic_val)\n",
    "xdata = np.array([[0,0],[0,1],[1,0],[1,1]])\n",
    "tdata = np.array([[0,1,1,0]])\n",
    "XOR = logicGate(\"XOR\", xdata, tdata)\n",
    "XOR.train()\n",
    "for in_data in xdata:\n",
    "    (sig_val, logic_val) = OR.predict(in_data)\n",
    "    print(in_data , \" : \", logic_val)"
   ]
  }
 ],
 "metadata": {
  "kernelspec": {
   "display_name": "Python 3 (ipykernel)",
   "language": "python",
   "name": "python3"
  },
  "language_info": {
   "codemirror_mode": {
    "name": "ipython",
    "version": 3
   },
   "file_extension": ".py",
   "mimetype": "text/x-python",
   "name": "python",
   "nbconvert_exporter": "python",
   "pygments_lexer": "ipython3",
   "version": "3.10.12"
  }
 },
 "nbformat": 4,
 "nbformat_minor": 5
}

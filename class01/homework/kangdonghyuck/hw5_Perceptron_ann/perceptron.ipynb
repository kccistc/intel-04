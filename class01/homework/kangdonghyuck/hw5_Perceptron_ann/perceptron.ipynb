{
 "cells": [
  {
   "cell_type": "code",
   "execution_count": 1,
   "id": "04d12565-2f0e-4ae0-a3dc-ddda289c05a7",
   "metadata": {},
   "outputs": [],
   "source": [
    "import numpy as np\n",
    "\n",
    "def sigmoid(x):\n",
    "    return 1/(1+np.exp(x))\n",
    "\n",
    "def numerical_derivative(f, x):\n",
    "    dx = 1e-4\n",
    "    gradf = np.zeros_like(x)\n",
    "    \n",
    "    it = np.nditer(x, flags = ['multi_index'],\n",
    "                                    op_flags=['readwrite'])\n",
    "    while not it.finished:\n",
    "        idx = it.multi_index\n",
    "        tmp_val = x[idx]\n",
    "        x[idx] = float((tmp_val)+dx)\n",
    "        fx1 = f(x)\n",
    "        \n",
    "        x[idx] = float((tmp_val)-dx)\n",
    "        fx2 = f(x)\n",
    "        gradf[idx] = (fx1-fx2)/(2*dx)\n",
    "        \n",
    "        x[idx] = tmp_val\n",
    "        it.iternext()\n",
    "    return gradf\n",
    "    "
   ]
  },
  {
   "cell_type": "code",
   "execution_count": 2,
   "id": "629d113b-507c-4a5a-9bdd-43ef3c6184c8",
   "metadata": {},
   "outputs": [
    {
     "name": "stdout",
     "output_type": "stream",
     "text": [
      "Collecting numpy\n",
      "  Downloading numpy-1.26.4-cp310-cp310-manylinux_2_17_x86_64.manylinux2014_x86_64.whl (18.2 MB)\n",
      "\u001b[2K     \u001b[38;2;114;156;31m━━━━━━━━━━━━━━━━━━━━━━━━━━━━━━━━━━━━━━━\u001b[0m \u001b[32m18.2/18.2 MB\u001b[0m \u001b[31m120.0 kB/s\u001b[0m eta \u001b[36m0:00:00\u001b[0mm eta \u001b[36m0:00:01\u001b[0m[36m0:00:04\u001b[0m\n",
      "\u001b[?25hInstalling collected packages: numpy\n",
      "Successfully installed numpy-1.26.4\n"
     ]
    }
   ],
   "source": [
    "!pip install numpy"
   ]
  },
  {
   "cell_type": "code",
   "execution_count": 4,
   "id": "b489084c-409c-4740-815d-05486746f525",
   "metadata": {},
   "outputs": [],
   "source": [
    "class logicGate:\n",
    "    def __init__(self, gate_name, xdata, tdata, learning_rate=0.01, threshold=0.5):\n",
    "        self.name = gate_name\n",
    "        \n",
    "        self.__xdata=xdata.reshape(4,2)\n",
    "        self.__tdata=tdata.reshape(4,1)\n",
    "        \n",
    "        self.__w=np.random.rand(2,1)\n",
    "        self.__b=np.random.rand(1)\n",
    "        \n",
    "        self.__learning_rate = learning_rate\n",
    "        self.__threshold = threshold\n",
    "\n",
    "    def __loss_func(self):\n",
    "        delta = 1e-7\n",
    "        \n",
    "        z = np.dot(self.__xdata, self.__w) + self.__b\n",
    "        y = sigmoid(z)\n",
    "        \n",
    "        return -np.sum(self.__tdata*np.log(y+delta) + (1-self.__tdata)*np.log((1-y)+delta))\n",
    "\n",
    "    def err_val(self):\n",
    "        delta = 1e-7\n",
    "\n",
    "        z = np.dot(self.__xdata, self.__w)+self.__b\n",
    "        y = sigmoid(z)\n",
    "        return -np.sum(self.__tdata + np.log(y+delta) + (1-self.__tdata)*np.log((1-y)+delta))\n",
    "\n",
    "    def train(self):\n",
    "        f = lambda x : self.__loss_func()\n",
    "        print(\"init error : \", self.err_val())\n",
    "\n",
    "        for stp in range(20000):\n",
    "            self.__w -= self.__learning_rate * numerical_derivative(f, self.__w)\n",
    "            self.__b -= self.__learning_rate * numerical_derivative(f, self.__b)\n",
    "            if (stp % 2000 == 0):\n",
    "                print(\"step : \", stp, \"error : \", self.err_val(), f)\n",
    "\n",
    "    def predict(self, input_data):\n",
    "        z = np.dot(input_data, self.__w) + self.__b\n",
    "        y = sigmoid(z)\n",
    "\n",
    "        if y[0] > self.__threshold:\n",
    "            result = 1\n",
    "        else:\n",
    "            result = 0\n",
    "        return y, result"
   ]
  },
  {
   "cell_type": "code",
   "execution_count": 5,
   "id": "f3590167-fae5-4713-beee-bbd26ecbb038",
   "metadata": {},
   "outputs": [
    {
     "name": "stdout",
     "output_type": "stream",
     "text": [
      "init error :  5.296641257213147\n",
      "step :  0 error :  5.286673341397698 <function logicGate.train.<locals>.<lambda> at 0x7f8118557910>\n",
      "step :  2000 error :  7.432830881791962 <function logicGate.train.<locals>.<lambda> at 0x7f8118557910>\n",
      "step :  4000 error :  9.7759920058826 <function logicGate.train.<locals>.<lambda> at 0x7f8118557910>\n",
      "step :  6000 error :  11.429167508037494 <function logicGate.train.<locals>.<lambda> at 0x7f8118557910>\n",
      "step :  8000 error :  12.696487206173535 <function logicGate.train.<locals>.<lambda> at 0x7f8118557910>\n",
      "step :  10000 error :  13.720437165276595 <function logicGate.train.<locals>.<lambda> at 0x7f8118557910>\n",
      "step :  12000 error :  14.577739103060805 <function logicGate.train.<locals>.<lambda> at 0x7f8118557910>\n",
      "step :  14000 error :  15.314107550896937 <function logicGate.train.<locals>.<lambda> at 0x7f8118557910>\n",
      "step :  16000 error :  15.95885843985174 <function logicGate.train.<locals>.<lambda> at 0x7f8118557910>\n",
      "step :  18000 error :  16.531863241519346 <function logicGate.train.<locals>.<lambda> at 0x7f8118557910>\n",
      "[0 0]  :  0\n",
      "[0 1]  :  0\n",
      "[1 0]  :  0\n",
      "[1 1]  :  1\n",
      "init error :  4.239692786140711\n",
      "step :  0 error :  4.116161470096046 <function logicGate.train.<locals>.<lambda> at 0x7f8118557eb0>\n",
      "step :  2000 error :  -1.0755929533865312 <function logicGate.train.<locals>.<lambda> at 0x7f8118557eb0>\n",
      "step :  4000 error :  -0.6889087012874415 <function logicGate.train.<locals>.<lambda> at 0x7f8118557eb0>\n",
      "step :  6000 error :  -0.3833066840360264 <function logicGate.train.<locals>.<lambda> at 0x7f8118557eb0>\n",
      "step :  8000 error :  -0.14195367733655595 <function logicGate.train.<locals>.<lambda> at 0x7f8118557eb0>\n",
      "step :  10000 error :  0.05547967013101218 <function logicGate.train.<locals>.<lambda> at 0x7f8118557eb0>\n",
      "step :  12000 error :  0.2218873272719799 <function logicGate.train.<locals>.<lambda> at 0x7f8118557eb0>\n",
      "step :  14000 error :  0.3654350385439332 <function logicGate.train.<locals>.<lambda> at 0x7f8118557eb0>\n",
      "step :  16000 error :  0.4915172449431282 <function logicGate.train.<locals>.<lambda> at 0x7f8118557eb0>\n",
      "step :  18000 error :  0.6038532305695281 <function logicGate.train.<locals>.<lambda> at 0x7f8118557eb0>\n",
      "[0 0]  :  0\n",
      "[0 1]  :  1\n",
      "[1 0]  :  1\n",
      "[1 1]  :  1\n"
     ]
    }
   ],
   "source": [
    "xdata = np.array([[0,0],[0,1],[1,0],[1,1]])\n",
    "tdata = np.array([[0,0,0,1]])\n",
    "\n",
    "AND = logicGate(\"AND\", xdata, tdata)\n",
    "AND.train()\n",
    "for in_data in xdata:\n",
    "    (sig_val, logic_val) = AND.predict(in_data)\n",
    "    print(in_data , \" : \", logic_val)\n",
    "\n",
    "xdata = np.array([[0,0],[0,1],[1,0],[1,1]])\n",
    "tdata = np.array([[0,1,1,1]])\n",
    "\n",
    "OR = logicGate(\"OR\", xdata, tdata)\n",
    "OR.train()\n",
    "for in_data in xdata:\n",
    "    (sig_val, logic_val) = OR.predict(in_data)\n",
    "    print(in_data , \" : \", logic_val)"
   ]
  },
  {
   "cell_type": "code",
   "execution_count": 1,
   "id": "54138069-a0fd-45f6-b18d-ea392abbc33f",
   "metadata": {},
   "outputs": [
    {
     "name": "stderr",
     "output_type": "stream",
     "text": [
      "2024-05-29 14:43:48.049173: I tensorflow/core/util/port.cc:113] oneDNN custom operations are on. You may see slightly different numerical results due to floating-point round-off errors from different computation orders. To turn them off, set the environment variable `TF_ENABLE_ONEDNN_OPTS=0`.\n",
      "2024-05-29 14:43:48.049601: I external/local_tsl/tsl/cuda/cudart_stub.cc:32] Could not find cuda drivers on your machine, GPU will not be used.\n",
      "2024-05-29 14:43:48.052260: I external/local_tsl/tsl/cuda/cudart_stub.cc:32] Could not find cuda drivers on your machine, GPU will not be used.\n",
      "2024-05-29 14:43:48.087371: I tensorflow/core/platform/cpu_feature_guard.cc:210] This TensorFlow binary is optimized to use available CPU instructions in performance-critical operations.\n",
      "To enable the following instructions: AVX2 AVX_VNNI FMA, in other operations, rebuild TensorFlow with the appropriate compiler flags.\n",
      "2024-05-29 14:43:48.599822: W tensorflow/compiler/tf2tensorrt/utils/py_utils.cc:38] TF-TRT Warning: Could not find TensorRT\n"
     ]
    },
    {
     "name": "stdout",
     "output_type": "stream",
     "text": [
      "Downloading data from https://storage.googleapis.com/tensorflow/tf-keras-datasets/mnist.npz\n",
      "\u001b[1m11490434/11490434\u001b[0m \u001b[32m━━━━━━━━━━━━━━━━━━━━\u001b[0m\u001b[37m\u001b[0m \u001b[1m1s\u001b[0m 0us/step\n"
     ]
    },
    {
     "data": {
      "image/png": "[encoded data removed]",
      "text/plain": [
       "<Figure size 1000x1000 with 10 Axes>"
      ]
     },
     "metadata": {},
     "output_type": "display_data"
    }
   ],
   "source": [
    "import tensorflow as tf\n",
    "import matplotlib.pyplot as plt\n",
    "import numpy as np\n",
    "\n",
    "mnist = tf.keras.datasets.mnist\n",
    "\n",
    "(f_image_train, f_label_train), (f_image_test, f_label_test) = mnist.load_data()\n",
    "\n",
    "f_image_train, f_image_test = f_image_train/255.0, f_image_test/255.0\n",
    "\n",
    "class_names = ['T-shirt/top', 'Trouser', 'Pullover', 'Dress', 'Coat',\n",
    "              'Sandal', 'Shirt', 'Sneaker', 'Bag', 'Ankle boot']\n",
    "\n",
    "\n",
    "plt.figure(figsize =(10,10))\n",
    "for i in range(10):\n",
    "    plt.subplot(3,4,i+1)\n",
    "    plt.xticks([])\n",
    "    plt.yticks([])\n",
    "    plt.grid(False)\n",
    "    plt.imshow(f_image_train[i])\n",
    "    plt.xlabel(class_names[f_label_train[i]])\n",
    "plt.show()"
   ]
  },
  {
   "cell_type": "code",
   "execution_count": null,
   "id": "1c9c5641-5f16-459a-94e7-14e23c0f2a02",
   "metadata": {},
   "outputs": [],
   "source": []
  }
 ],
 "metadata": {
  "kernelspec": {
   "display_name": "Python 3 (ipykernel)",
   "language": "python",
   "name": "python3"
  },
  "language_info": {
   "codemirror_mode": {
    "name": "ipython",
    "version": 3
   },
   "file_extension": ".py",
   "mimetype": "text/x-python",
   "name": "python",
   "nbconvert_exporter": "python",
   "pygments_lexer": "ipython3",
   "version": "3.10.12"
  }
 },
 "nbformat": 4,
 "nbformat_minor": 5
}

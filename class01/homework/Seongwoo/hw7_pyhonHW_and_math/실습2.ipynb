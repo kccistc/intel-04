{
 "cells": [
  {
   "cell_type": "markdown",
   "id": "d7fae0c7-1855-493a-be76-27a200ddc4ab",
   "metadata": {},
   "source": [
    "### 실습 2) 정수 n을 입력받아 nxn 크기의 숫자 사각형을 출력"
   ]
  },
  {
   "cell_type": "code",
   "execution_count": 4,
   "id": "698f1916-c764-4541-8a40-c40edb6ff7be",
   "metadata": {},
   "outputs": [],
   "source": [
    "import numpy as np"
   ]
  },
  {
   "cell_type": "code",
   "execution_count": 5,
   "id": "f6078c82-fa39-44f8-b92f-e38e3bb45571",
   "metadata": {},
   "outputs": [
    {
     "name": "stdin",
     "output_type": "stream",
     "text": [
      "정수 n을 입력하세요:  4\n"
     ]
    },
    {
     "name": "stdout",
     "output_type": "stream",
     "text": [
      "1 2 3 4 \n",
      "5 6 7 8 \n",
      "9 10 11 12 \n",
      "13 14 15 16 \n"
     ]
    }
   ],
   "source": [
    "def print_number_square(n):\n",
    "    # 초기 숫자 설정\n",
    "    number = 1\n",
    "    \n",
    "    # n x n 크기의 숫자 사각형 생성 및 출력\n",
    "    for i in range(n):\n",
    "        for j in range(n):\n",
    "            print(number, end=' ')\n",
    "            number += 1\n",
    "        print()\n",
    "\n",
    "# 사용자로부터 정수 n 입력받기\n",
    "n = int(input(\"정수 n을 입력하세요: \"))\n",
    "\n",
    "# 숫자 사각형 출력\n",
    "print_number_square(n)\n"
   ]
  },
  {
   "cell_type": "code",
   "execution_count": 8,
   "id": "8e9cec1f-aa36-450c-8a94-e37c2126f200",
   "metadata": {},
   "outputs": [
    {
     "name": "stdout",
     "output_type": "stream",
     "text": [
      "[[ 0.  1.  2.  3.  4.  5.]\n",
      " [ 6.  7.  8.  9. 10. 11.]\n",
      " [12. 13. 14. 15. 16. 17.]\n",
      " [18. 19. 20. 21. 22. 23.]\n",
      " [24. 25. 26. 27. 28. 29.]\n",
      " [30. 31. 32. 33. 34. 35.]]\n"
     ]
    }
   ],
   "source": [
    "n = 6\n",
    "A = np.zeros((n,n))\n",
    "for j in range(n) : \n",
    "    for i in range(n):\n",
    "        A[j,i] = j*n+i\n",
    "print(A)"
   ]
  }
 ],
 "metadata": {
  "kernelspec": {
   "display_name": "Python 3 (ipykernel)",
   "language": "python",
   "name": "python3"
  },
  "language_info": {
   "codemirror_mode": {
    "name": "ipython",
    "version": 3
   },
   "file_extension": ".py",
   "mimetype": "text/x-python",
   "name": "python",
   "nbconvert_exporter": "python",
   "pygments_lexer": "ipython3",
   "version": "3.10.12"
  }
 },
 "nbformat": 4,
 "nbformat_minor": 5
}

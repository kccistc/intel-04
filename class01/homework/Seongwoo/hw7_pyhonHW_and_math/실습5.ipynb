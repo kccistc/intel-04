{
 "cells": [
  {
   "cell_type": "code",
   "execution_count": 1,
   "id": "9cadc3a7-3cf2-45d5-aab2-6d8bf4a6620a",
   "metadata": {},
   "outputs": [
    {
     "name": "stdout",
     "output_type": "stream",
     "text": [
      "Kernel:\n",
      " [[ 1  1  1]\n",
      " [ 1 -8  1]\n",
      " [ 1  1  1]]\n"
     ]
    },
    {
     "name": "stderr",
     "output_type": "stream",
     "text": [
      "Only C and default locale supported with the posix collation implementation\n",
      "Only C and default locale supported with the posix collation implementation\n",
      "Case insensitive sorting unsupported in the posix collation implementation\n",
      "Numeric mode unsupported in the posix collation implementation\n"
     ]
    }
   ],
   "source": [
    "import cv2\n",
    "import numpy as np\n",
    "\n",
    "# 이미지 읽기 (grayscale)\n",
    "img = cv2.imread('input.jpg', cv2.IMREAD_GRAYSCALE)\n",
    "\n",
    "# 커널 정의\n",
    "kernel = np.array([[1, 1, 1], [1, -8, 1], [1, 1, 1]])\n",
    "print(\"Kernel:\\n\", kernel)\n",
    "\n",
    "# 이미지의 높이와 너비\n",
    "image_height, image_width = img.shape\n",
    "\n",
    "# 커널의 높이와 너비\n",
    "kernel_height, kernel_width = kernel.shape\n",
    "\n",
    "# 패딩 크기 계산\n",
    "pad_height = kernel_height // 2\n",
    "pad_width = kernel_width // 2\n",
    "\n",
    "# 입력 이미지 패딩 추가\n",
    "padded_img = np.pad(img, ((pad_height, pad_height), (pad_width, pad_width)), mode='constant')\n",
    "\n",
    "# 출력 이미지 초기화\n",
    "output = np.zeros_like(img)\n",
    "\n",
    "# 컨볼루션 연산 수행\n",
    "for i in range(image_height):\n",
    "    for j in range(image_width):\n",
    "        # 현재 패치 추출\n",
    "        region = padded_img[i:i + kernel_height, j:j + kernel_width]\n",
    "        # 커널과 패치의 element-wise 곱셈 및 합산\n",
    "        output[i, j] = np.sum(region * kernel)\n",
    "\n",
    "# 결과 출력\n",
    "cv2.imshow('edge', output)\n",
    "cv2.waitKey(0)\n",
    "cv2.destroyAllWindows()"
   ]
  },
  {
   "cell_type": "code",
   "execution_count": 4,
   "id": "34734d14-12fd-426c-920f-353f3c9a6b08",
   "metadata": {},
   "outputs": [
    {
     "data": {
      "text/plain": [
       "-1"
      ]
     },
     "execution_count": 4,
     "metadata": {},
     "output_type": "execute_result"
    }
   ],
   "source": [
    "import cv2\n",
    "import copy\n",
    "import numpy as np\n",
    "import matplotlib.pyplot as plt\n",
    "\n",
    "# 이미지 불러오가\n",
    "img = cv2.imread('input.jpg')\n",
    "img = cv2.cvtColor(img, cv2.COLOR_BGR2RGB)\n",
    "kernel = np.array([[1,1,1], [1, -8, 1], [1, 1, 1]])\n",
    "imgcpy = copy.deepcopy(img)\n",
    "imgcpy2 = copy.deepcopy(img)\n",
    "imgcpy2 = np.zeros( (imgcpy.shape[0], imgcpy.shape[1], imgcpy.shape[2]))\n",
    "\n",
    "for h in range(2, img.shape[0] -1):\n",
    "    for w in range(2, img.shape[1]-1):\n",
    "        for c in range(2, img.shape[2]):\n",
    "            img_tmp = np.dot(\n",
    "                img[h-1:h-1+kernel.shape[0], w-1:w-1+kernel.shape[1], c],\n",
    "                kernel)\n",
    "            imgcpy2[h,w,c] = np.sum(img_tmp)\n",
    "\n",
    "cv2.imshow(\"Edge\", imgcpy2/255)\n",
    "cv2.waitKey(1)\n",
    "\n"
   ]
  },
  {
   "cell_type": "code",
   "execution_count": null,
   "id": "e1b0dfb0-aa8b-4ce4-b3ed-7c4a5d5ddedb",
   "metadata": {},
   "outputs": [],
   "source": []
  }
 ],
 "metadata": {
  "kernelspec": {
   "display_name": "Python 3 (ipykernel)",
   "language": "python",
   "name": "python3"
  },
  "language_info": {
   "codemirror_mode": {
    "name": "ipython",
    "version": 3
   },
   "file_extension": ".py",
   "mimetype": "text/x-python",
   "name": "python",
   "nbconvert_exporter": "python",
   "pygments_lexer": "ipython3",
   "version": "3.10.12"
  }
 },
 "nbformat": 4,
 "nbformat_minor": 5
}

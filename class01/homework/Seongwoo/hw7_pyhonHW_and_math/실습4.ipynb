{
 "cells": [
  {
   "cell_type": "code",
   "execution_count": 1,
   "id": "7f7e51ae-5b22-41d3-8db0-0c34142bf3ca",
   "metadata": {},
   "outputs": [
    {
     "name": "stdout",
     "output_type": "stream",
     "text": [
      "Original shape: (100, 100, 3)\n",
      "Expanded shape: (1, 100, 100, 3)\n",
      "Transposed shape: (1, 3, 100, 100)\n"
     ]
    }
   ],
   "source": [
    "import numpy as np\n",
    "\n",
    "# 예시 이미지 배열 (Height, Width, Channel)\n",
    "image = np.random.rand(100, 100, 3)  # 임의의 이미지 배열 생성 (100x100 크기의 3채널 이미지)\n",
    "\n",
    "# 차원을 확장하여 (Height, Width, Channel) -> (Batch, Height, Width, Channel)\n",
    "image_expanded = np.expand_dims(image, axis=0)\n",
    "\n",
    "# 차원의 순서를 변경하여 (Batch, Height, Width, Channel) -> (Batch, Channel, Width, Height)\n",
    "image_transposed = np.transpose(image_expanded, (0, 3, 1, 2))\n",
    "\n",
    "# 결과 확인 (이미지 출력은 필요 없음)\n",
    "print(\"Original shape:\", image.shape)\n",
    "print(\"Expanded shape:\", image_expanded.shape)\n",
    "print(\"Transposed shape:\", image_transposed.shape)"
   ]
  },
  {
   "cell_type": "code",
   "execution_count": 9,
   "id": "e4aa47d5-a713-4da0-b0a5-2a9b34fd60c4",
   "metadata": {},
   "outputs": [
    {
     "ename": "SyntaxError",
     "evalue": "invalid syntax (2363080214.py, line 2)",
     "output_type": "error",
     "traceback": [
      "\u001b[0;36m  Cell \u001b[0;32mIn[9], line 2\u001b[0;36m\u001b[0m\n\u001b[0;31m    pip install opencv-python\u001b[0m\n\u001b[0m        ^\u001b[0m\n\u001b[0;31mSyntaxError\u001b[0m\u001b[0;31m:\u001b[0m invalid syntax\n"
     ]
    }
   ],
   "source": [
    "# 교 수 님 답 안\n",
    "#pip install opencv-python\n",
    "import cv2\n",
    "import numpy as np\n",
    "\n",
    "img cv2.imread('input.jpg')\n",
    "print(img.shape)\n",
    "img_expend = np.expand_dims(img, 0)\n",
    "print(img_expend.shape)\n",
    "img_expand_T = img_expend.transpose((0,3,1,2))\n",
    "print(img_expend_T.shape)"
   ]
  },
  {
   "cell_type": "code",
   "execution_count": null,
   "id": "8414da73-0dd2-4ac6-a5ef-f9c816d3deaa",
   "metadata": {},
   "outputs": [],
   "source": []
  }
 ],
 "metadata": {
  "kernelspec": {
   "display_name": "Python 3 (ipykernel)",
   "language": "python",
   "name": "python3"
  },
  "language_info": {
   "codemirror_mode": {
    "name": "ipython",
    "version": 3
   },
   "file_extension": ".py",
   "mimetype": "text/x-python",
   "name": "python",
   "nbconvert_exporter": "python",
   "pygments_lexer": "ipython3",
   "version": "3.10.12"
  }
 },
 "nbformat": 4,
 "nbformat_minor": 5
}

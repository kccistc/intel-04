{
 "cells": [
  {
   "cell_type": "code",
   "execution_count": 1,
   "id": "bdb4873f-3e6a-47f2-ba2c-b862007cee90",
   "metadata": {},
   "outputs": [],
   "source": [
    "import numpy as np"
   ]
  },
  {
   "cell_type": "code",
   "execution_count": 4,
   "id": "7e90400b-b13e-4734-ad55-34579178411a",
   "metadata": {},
   "outputs": [],
   "source": [
    "data1 = ('A' 'B')\n",
    "data2 = ('C')\n",
    "data3 = data1 + data2"
   ]
  },
  {
   "cell_type": "code",
   "execution_count": 5,
   "id": "36a1ba56-efd7-42f5-90ab-36548575217f",
   "metadata": {},
   "outputs": [],
   "source": [
    "data1_list = list(data1)\n",
    "data1_list.append('C')\n",
    "data1_list = tuple(data1_list)"
   ]
  }
 ],
 "metadata": {
  "kernelspec": {
   "display_name": "Python 3 (ipykernel)",
   "language": "python",
   "name": "python3"
  },
  "language_info": {
   "codemirror_mode": {
    "name": "ipython",
    "version": 3
   },
   "file_extension": ".py",
   "mimetype": "text/x-python",
   "name": "python",
   "nbconvert_exporter": "python",
   "pygments_lexer": "ipython3",
   "version": "3.10.12"
  }
 },
 "nbformat": 4,
 "nbformat_minor": 5
}

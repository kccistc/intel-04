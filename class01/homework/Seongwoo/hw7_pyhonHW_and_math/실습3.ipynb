{
 "cells": [
  {
   "cell_type": "code",
   "execution_count": 10,
   "id": "9fb7e29e-5dd2-4358-8fea-c1b352224505",
   "metadata": {},
   "outputs": [],
   "source": [
    "import numpy as np"
   ]
  },
  {
   "cell_type": "code",
   "execution_count": 11,
   "id": "893df480-cd55-429a-b4a6-51f734188e00",
   "metadata": {},
   "outputs": [],
   "source": [
    "# 주어진 데이터\n",
    "data1 = ('A', 'B')\n",
    "data2 = ('C',)\n",
    "\n",
    "# data1과 data2를 결합\n",
    "data3 = data1 + data2\n",
    "\n",
    "# data1을 리스트로 변환하고 'C'를 추가한 후 다시 튜플로 변환 (실습 1)\n",
    "data1_list = list(data1)\n",
    "data1_list.append('C')\n",
    "data1_list = tuple(data1_list)"
   ]
  },
  {
   "cell_type": "code",
   "execution_count": 13,
   "id": "4182434b-955e-4ee4-a508-e2240be724d8",
   "metadata": {},
   "outputs": [
    {
     "name": "stdout",
     "output_type": "stream",
     "text": [
      "[[ 0.  1.  2.  3.  4.  5.]\n",
      " [ 6.  7.  8.  9. 10. 11.]\n",
      " [12. 13. 14. 15. 16. 17.]\n",
      " [18. 19. 20. 21. 22. 23.]\n",
      " [24. 25. 26. 27. 28. 29.]\n",
      " [30. 31. 32. 33. 34. 35.]]\n"
     ]
    }
   ],
   "source": [
    "n = 6\n",
    "A = np.zeros((n,n))\n",
    "for j in range(n) : \n",
    "    for i in range(n):\n",
    "        A[j,i] = j*n+i\n",
    "print(A)"
   ]
  },
  {
   "cell_type": "code",
   "execution_count": 17,
   "id": "1f4dce90-131c-40aa-88a0-76b517e270d6",
   "metadata": {},
   "outputs": [
    {
     "name": "stdout",
     "output_type": "stream",
     "text": [
      "[ 0.  1.  2.  3.  4.  5.  6.  7.  8.  9. 10. 11. 12. 13. 14. 15. 16. 17.\n",
      " 18. 19. 20. 21. 22. 23. 24. 25. 26. 27. 28. 29. 30. 31. 32. 33. 34. 35.]\n"
     ]
    }
   ],
   "source": [
    "print(A.reshape(-1))"
   ]
  }
 ],
 "metadata": {
  "kernelspec": {
   "display_name": "Python 3 (ipykernel)",
   "language": "python",
   "name": "python3"
  },
  "language_info": {
   "codemirror_mode": {
    "name": "ipython",
    "version": 3
   },
   "file_extension": ".py",
   "mimetype": "text/x-python",
   "name": "python",
   "nbconvert_exporter": "python",
   "pygments_lexer": "ipython3",
   "version": "3.10.12"
  }
 },
 "nbformat": 4,
 "nbformat_minor": 5
}

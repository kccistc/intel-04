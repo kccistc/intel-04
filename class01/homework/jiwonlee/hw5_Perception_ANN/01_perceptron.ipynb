{
 "cells": [
  {
   "cell_type": "code",
   "execution_count": 1,
   "id": "a2327871-14ba-418e-aafc-17557de21008",
   "metadata": {},
   "outputs": [],
   "source": [
    "import numpy as np\n",
    "\n",
    "def sigmoid(x):\n",
    "    return 1/(1+np.exp(x))"
   ]
  },
  {
   "cell_type": "code",
   "execution_count": 2,
   "id": "7cea3f3b-7616-4e02-88c0-a6f7df988ad5",
   "metadata": {},
   "outputs": [],
   "source": [
    "def numerical_derivative(f, x):\n",
    "    dx = 1e-4\n",
    "    gradf = np.zeros_like(x)\n",
    "    it = np.nditer(x, flags = ['multi_index'],op_flags=['readwrite'])\n",
    "    while not it.finished:\n",
    "        idx = it.multi_index\n",
    "        tmp_val = x[idx]\n",
    "        x[idx] = float((tmp_val)+dx)\n",
    "        fx1 = f(x)\n",
    "        \n",
    "        x[idx] = float((tmp_val)-dx)\n",
    "        fx2 = f(x)\n",
    "        gradf[idx] = (fx1-fx2)/(2*dx)\n",
    "        \n",
    "        x[idx] = tmp_val\n",
    "        it.iternext()\n",
    "    return gradf"
   ]
  },
  {
   "cell_type": "code",
   "execution_count": 3,
   "id": "62d20268-63e7-45e3-b56e-afe8579b4601",
   "metadata": {},
   "outputs": [],
   "source": [
    "class logicGate:\n",
    "    def __init__(self, gate_name, xdata, tdata, learning_rate=0.01, threshold=0.5):\n",
    "        self.name = gate_name\n",
    "        self.__xdata=xdata.reshape(4,2)\n",
    "        self.__tdata=tdata.reshape(4,1)\n",
    "        self.__w=np.random.rand(2,1)\n",
    "        self.__b=np.random.rand(1)\n",
    "        self.__learning_rate = learning_rate\n",
    "        self.__threshold = threshold\n",
    "        \n",
    "    def __loss_func(self):\n",
    "        delta = 1e-7\n",
    "        z = np.dot(self.__xdata, self.__w) + self.__b\n",
    "        y = sigmoid(z)\n",
    "        return -np.sum(self.__tdata*np.log(y+delta) + (1-self.__tdata)*np.log((1-y)+delta))\n",
    "\n",
    "    def err_val(self):\n",
    "        delta = 1e-7\n",
    "        z = np.dot(self.__xdata, self.__w)+self.__b\n",
    "        y = sigmoid(z)\n",
    "        return -np.sum(self.__tdata + np.log(y+delta) + (1-self.__tdata)*np.log((1-y)+delta))\n",
    "    \n",
    "    def train(self):\n",
    "        f = lambda x : self.__loss_func()\n",
    "        print(\"init error : \", self.err_val())\n",
    "    \n",
    "        for stp in range(20000):\n",
    "            self.__w -= self.__learning_rate * numerical_derivative(f, self.__w)\n",
    "            self.__b -= self.__learning_rate * numerical_derivative(f, self.__b)\n",
    "            if (stp % 2000 == 0):\n",
    "                print(\"step : \", stp, \"error : \", self.err_val(), f)\n",
    "\n",
    "    def predict(self, input_data):\n",
    "        z = np.dot(input_data, self.__w) + self.__b\n",
    "        y = sigmoid(z)\n",
    "        if y[0] > self.__threshold:\n",
    "            result = 1\n",
    "        else:\n",
    "            result = 0\n",
    "        return y, result"
   ]
  },
  {
   "cell_type": "markdown",
   "id": "80a5b484-28ba-4c6b-adda-0daab1344ec6",
   "metadata": {},
   "source": [
    "## 01 . AND"
   ]
  },
  {
   "cell_type": "code",
   "execution_count": 4,
   "id": "13bb82ed-f19d-4096-9c06-c66a3e699ea4",
   "metadata": {},
   "outputs": [
    {
     "name": "stdout",
     "output_type": "stream",
     "text": [
      "init error :  5.465804104890429\n",
      "step :  0 error :  5.453263800498817 <function logicGate.train.<locals>.<lambda> at 0x7f5304156680>\n",
      "step :  2000 error :  7.4124441475942024 <function logicGate.train.<locals>.<lambda> at 0x7f5304156680>\n",
      "step :  4000 error :  9.762354076775031 <function logicGate.train.<locals>.<lambda> at 0x7f5304156680>\n",
      "step :  6000 error :  11.41905405843612 <function logicGate.train.<locals>.<lambda> at 0x7f5304156680>\n",
      "step :  8000 error :  12.688492110147227 <function logicGate.train.<locals>.<lambda> at 0x7f5304156680>\n",
      "step :  10000 error :  13.713844717512778 <function logicGate.train.<locals>.<lambda> at 0x7f5304156680>\n",
      "step :  12000 error :  14.572139880166073 <function logicGate.train.<locals>.<lambda> at 0x7f5304156680>\n",
      "step :  14000 error :  15.309246888649152 <function logicGate.train.<locals>.<lambda> at 0x7f5304156680>\n",
      "step :  16000 error :  15.954567747514336 <function logicGate.train.<locals>.<lambda> at 0x7f5304156680>\n",
      "step :  18000 error :  16.528025415059634 <function logicGate.train.<locals>.<lambda> at 0x7f5304156680>\n",
      "[0 0]  :  0\n",
      "[0 1]  :  0\n",
      "[1 0]  :  0\n",
      "[1 1]  :  1\n"
     ]
    }
   ],
   "source": [
    "xdata = np.array([[0,0],[0,1],[1,0],[1,1]])\n",
    "tdata = np.array([[0,0,0,1]])\n",
    "\n",
    "AND = logicGate(\"AND\", xdata, tdata)\n",
    "AND.train()\n",
    "for in_data in xdata:\n",
    "    (sig_val, logic_val) = AND.predict(in_data)\n",
    "    print(in_data , \" : \", logic_val)"
   ]
  },
  {
   "cell_type": "markdown",
   "id": "d227df39-cf5b-40e1-ad37-47ea8f236c66",
   "metadata": {},
   "source": [
    "## 02 . OR"
   ]
  },
  {
   "cell_type": "code",
   "execution_count": 5,
   "id": "8f876177-c207-408c-a6be-998b6ec90e6e",
   "metadata": {},
   "outputs": [
    {
     "name": "stdout",
     "output_type": "stream",
     "text": [
      "init error :  2.1734934470820892\n",
      "step :  0 error :  2.0914613571202443 <function logicGate.train.<locals>.<lambda> at 0x7f5304156680>\n",
      "step :  2000 error :  -1.0681227993776714 <function logicGate.train.<locals>.<lambda> at 0x7f5304156680>\n",
      "step :  4000 error :  -0.682566185270384 <function logicGate.train.<locals>.<lambda> at 0x7f5304156680>\n",
      "step :  6000 error :  -0.37836877773032973 <function logicGate.train.<locals>.<lambda> at 0x7f5304156680>\n",
      "step :  8000 error :  -0.13797918039858503 <function logicGate.train.<locals>.<lambda> at 0x7f5304156680>\n",
      "step :  10000 error :  0.05878649745472431 <function logicGate.train.<locals>.<lambda> at 0x7f5304156680>\n",
      "step :  12000 error :  0.22471132176147213 <function logicGate.train.<locals>.<lambda> at 0x7f5304156680>\n",
      "step :  14000 error :  0.3678958874873741 <function logicGate.train.<locals>.<lambda> at 0x7f5304156680>\n",
      "step :  16000 error :  0.4936959458185126 <function logicGate.train.<locals>.<lambda> at 0x7f5304156680>\n",
      "step :  18000 error :  0.605806819016834 <function logicGate.train.<locals>.<lambda> at 0x7f5304156680>\n",
      "[0 0]  :  0\n",
      "[0 1]  :  1\n",
      "[1 0]  :  1\n",
      "[1 1]  :  1\n"
     ]
    }
   ],
   "source": [
    "xdata = np.array([[0,0],[0,1],[1,0],[1,1]])\n",
    "tdata = np.array([[0,1,1,1]])\n",
    "\n",
    "OR = logicGate(\"OR\", xdata, tdata)\n",
    "OR.train()\n",
    "for in_data in xdata:\n",
    "    (sig_val, logic_val) = OR.predict(in_data)\n",
    "    print(in_data , \" : \", logic_val)"
   ]
  },
  {
   "cell_type": "markdown",
   "id": "4ab02c9f-4e2c-4fbe-800d-959a1911b8bd",
   "metadata": {},
   "source": [
    "## 03 . XOR"
   ]
  },
  {
   "cell_type": "code",
   "execution_count": 6,
   "id": "b1ab1cdb-ccab-42c6-9a91-6bb5f889e15f",
   "metadata": {},
   "outputs": [
    {
     "name": "stdout",
     "output_type": "stream",
     "text": [
      "init error :  4.843576868699557\n",
      "step :  0 error :  4.792798206422983 <function logicGate.train.<locals>.<lambda> at 0x7f5304156680>\n",
      "step :  2000 error :  2.1596519652741337 <function logicGate.train.<locals>.<lambda> at 0x7f5304156680>\n",
      "step :  4000 error :  2.1589144383452608 <function logicGate.train.<locals>.<lambda> at 0x7f5304156680>\n",
      "step :  6000 error :  2.1588832748952576 <function logicGate.train.<locals>.<lambda> at 0x7f5304156680>\n",
      "step :  8000 error :  2.1588819428671733 <function logicGate.train.<locals>.<lambda> at 0x7f5304156680>\n",
      "step :  10000 error :  2.158881885904474 <function logicGate.train.<locals>.<lambda> at 0x7f5304156680>\n",
      "step :  12000 error :  2.158881883468723 <function logicGate.train.<locals>.<lambda> at 0x7f5304156680>\n",
      "step :  14000 error :  2.158881883363862 <function logicGate.train.<locals>.<lambda> at 0x7f5304156680>\n",
      "step :  16000 error :  2.1588818833575445 <function logicGate.train.<locals>.<lambda> at 0x7f5304156680>\n",
      "step :  18000 error :  2.1588818833575445 <function logicGate.train.<locals>.<lambda> at 0x7f5304156680>\n",
      "[0 0]  :  0\n",
      "[0 1]  :  1\n",
      "[1 0]  :  1\n",
      "[1 1]  :  1\n"
     ]
    }
   ],
   "source": [
    "xdata = np.array([[0,0],[0,1],[1,0],[1,1]])\n",
    "tdata = np.array([[0,1,1,0]])\n",
    "\n",
    "XOR = logicGate(\"XOR\", xdata, tdata)\n",
    "XOR.train()\n",
    "for in_data in xdata:\n",
    "    (sig_val, logic_val) = XOR.predict(in_data)\n",
    "    print(in_data , \" : \", logic_val)"
   ]
  },
  {
   "cell_type": "code",
   "execution_count": null,
   "id": "a02edeb1-e948-4668-ba3c-b5e204907c03",
   "metadata": {},
   "outputs": [],
   "source": []
  }
 ],
 "metadata": {
  "kernelspec": {
   "display_name": "Python 3 (ipykernel)",
   "language": "python",
   "name": "python3"
  },
  "language_info": {
   "codemirror_mode": {
    "name": "ipython",
    "version": 3
   },
   "file_extension": ".py",
   "mimetype": "text/x-python",
   "name": "python",
   "nbconvert_exporter": "python",
   "pygments_lexer": "ipython3",
   "version": "3.10.12"
  }
 },
 "nbformat": 4,
 "nbformat_minor": 5
}

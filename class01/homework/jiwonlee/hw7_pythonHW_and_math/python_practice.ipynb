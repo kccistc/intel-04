{
 "cells": [
  {
   "cell_type": "code",
   "execution_count": 1,
   "id": "f8f21400-2a55-45e6-92ba-31a0bdd57e88",
   "metadata": {},
   "outputs": [
    {
     "name": "stdout",
     "output_type": "stream",
     "text": [
      "('A', 'B', 'C')\n",
      "<class 'tuple'>\n"
     ]
    }
   ],
   "source": [
    "# 실습1\n",
    "import numpy as np\n",
    "\n",
    "A = ('A', 'B')\n",
    "C = A + ('C',)\n",
    "\n",
    "print(C)\n",
    "print(type(C))\n"
   ]
  },
  {
   "cell_type": "code",
   "execution_count": 2,
   "id": "dea160f4-85dc-43ce-8a7d-04b1c06c06a6",
   "metadata": {},
   "outputs": [
    {
     "name": "stdout",
     "output_type": "stream",
     "text": [
      "[[ 0.  1.  2.  3.  4.  5.]\n",
      " [ 6.  7.  8.  9. 10. 11.]\n",
      " [12. 13. 14. 15. 16. 17.]\n",
      " [18. 19. 20. 21. 22. 23.]\n",
      " [24. 25. 26. 27. 28. 29.]\n",
      " [30. 31. 32. 33. 34. 35.]]\n",
      "1 2 3 4 5 6 \n",
      "7 8 9 10 11 12 \n",
      "13 14 15 16 17 18 \n",
      "19 20 21 22 23 24 \n",
      "25 26 27 28 29 30 \n",
      "31 32 33 34 35 36 \n"
     ]
    }
   ],
   "source": [
    "# 실습2\n",
    "n = 6\n",
    "A = np.zeros((n,n))\n",
    "for j in range(n):\n",
    "    for i in range(n):\n",
    "        A[j,i] = j*n+i\n",
    "print(A)\n",
    "\n",
    "num = 1\n",
    "for i in range(6):\n",
    "    for j in range(6):\n",
    "        print(num, end=\" \")\n",
    "        num = num + 1\n",
    "    print()\n"
   ]
  },
  {
   "cell_type": "code",
   "execution_count": 3,
   "id": "a185fd67-1063-46c3-a1cd-6ffb4104519f",
   "metadata": {},
   "outputs": [
    {
     "name": "stdout",
     "output_type": "stream",
     "text": [
      "[ 1  2  3  4  5  6  7  8  9 10 11 12 13 14 15 16]\n"
     ]
    }
   ],
   "source": [
    "# 실습3\n",
    "A = [[1,2,3,4],[5,6,7,8],[9,10,11,12],[13,14,15,16]]\n",
    "#print(A.reshape(-1,))\n",
    "\n",
    "A_array = np.array(A)\n",
    "A_1d = A_array.reshape(-1)\n",
    "print(A_1d)\n"
   ]
  },
  {
   "cell_type": "code",
   "execution_count": 4,
   "id": "3ab7a883-8b13-4eee-84fa-993969b8be8f",
   "metadata": {},
   "outputs": [
    {
     "name": "stdout",
     "output_type": "stream",
     "text": [
      "(256, 256, 3)\n",
      "(1, 256, 256, 3)\n",
      "(1, 3, 256, 256)\n"
     ]
    }
   ],
   "source": [
    "# 실습4\n",
    "import cv2\n",
    "import numpy as np\n",
    "# 이미지 파일 경로\n",
    "image_path = \"cat01_256.png\"\n",
    "\n",
    "# 이미지 읽기\n",
    "image = cv2.imread(image_path)\n",
    "print(image.shape)\n",
    "expand_img = np.expand_dims(image, axis=0)\n",
    "#expand_arr = np.expand_dims(image, 0)\n",
    "print(expand_img.shape)\n",
    "\n",
    "expand_img_T = expand_img.transpose((0,3,1,2))\n",
    "print(expand_img_T.shape)\n"
   ]
  },
  {
   "cell_type": "code",
   "execution_count": 32,
   "id": "10fc9fdf-f57e-4dda-9cb0-94993ee03277",
   "metadata": {},
   "outputs": [
    {
     "name": "stdout",
     "output_type": "stream",
     "text": [
      "[[ 1  1  1]\n",
      " [ 1 -8  1]\n",
      " [ 1  1  1]]\n"
     ]
    }
   ],
   "source": [
    "# 실습5 - 원소스\n",
    "import cv2\n",
    "import numpy as np\n",
    "\n",
    "img = cv2.imread('cat01_256.png', cv2.IMREAD_GRAYSCALE)\n",
    "kernel = np.array([[1, 1, 1],[1, -8, 1], [1, 1, 1]])\n",
    "print(kernel)\n",
    "output = cv2.filter2D(img, -1, kernel)\n",
    "\n",
    "cv2.imshow('edge', output)\n",
    "cv2.waitKey(0)\n",
    "cv2.destroyAllWindows()"
   ]
  },
  {
   "cell_type": "code",
   "execution_count": null,
   "id": "7600eb29-c896-4ccb-ab86-91da38e16162",
   "metadata": {},
   "outputs": [],
   "source": [
    "import cv2\n",
    "import numpy as np\n",
    "\n",
    "def filter2D(img, kernel):\n",
    "    # 커널 크기\n",
    "    k_height, k_width = kernel.shape\n",
    "    \n",
    "    # 패딩 크기 계산\n",
    "    pad_height = k_height // 2\n",
    "    pad_width = k_width // 2\n",
    "    \n",
    "    # 입력 이미지의 높이와 너비\n",
    "    height, width = img.shape[:2]\n",
    "    \n",
    "    # 출력 이미지 크기 계산\n",
    "    out_height = height - k_height + 2 * pad_height + 1\n",
    "    out_width = width - k_width + 2 * pad_width + 1\n",
    "    \n",
    "    # 출력 이미지 초기화\n",
    "    out_img = np.zeros((out_height, out_width), dtype=np.float32)\n",
    "    \n",
    "    # 패딩 추가\n",
    "    padded_img = np.pad(img, ((pad_height, pad_height), (pad_width, pad_width)), mode='constant')\n",
    "    \n",
    "    # 컨볼루션 연산 수행\n",
    "    for i in range(out_height):\n",
    "        for j in range(out_width):\n",
    "            temp = padded_img[i:i+k_height, j:j+k_width]\n",
    "            out_img[i, j] = np.sum(temp * kernel)\n",
    " \n",
    "    return out_img\n",
    "\n",
    "img = cv2.imread('cat01_256.png', cv2.IMREAD_GRAYSCALE)\n",
    "kernel = np.array([[1, 1, 1],[1, -8, 1], [1, 1, 1]])\n",
    "print(kernel)\n",
    "output = filter2D(img, kernel)\n",
    "output2 = cv2.filter2D(img, -1, kernel)\n",
    "\n",
    "cv2.imshow('edge', output)\n",
    "cv2.imshow('edge2', output2)\n",
    "cv2.waitKey(0)\n",
    "cv2.destroyAllWindows()\n"
   ]
  },
  {
   "cell_type": "code",
   "execution_count": null,
   "id": "57bca0af-68de-4384-a438-6f2345177f69",
   "metadata": {},
   "outputs": [],
   "source": []
  }
 ],
 "metadata": {
  "kernelspec": {
   "display_name": "Python 3 (ipykernel)",
   "language": "python",
   "name": "python3"
  },
  "language_info": {
   "codemirror_mode": {
    "name": "ipython",
    "version": 3
   },
   "file_extension": ".py",
   "mimetype": "text/x-python",
   "name": "python",
   "nbconvert_exporter": "python",
   "pygments_lexer": "ipython3",
   "version": "3.10.12"
  }
 },
 "nbformat": 4,
 "nbformat_minor": 5
}

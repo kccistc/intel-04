{
 "cells": [
  {
   "cell_type": "code",
   "execution_count": 1,
   "id": "7d4f73b9-1485-4f9c-bef6-9ee053cf5964",
   "metadata": {},
   "outputs": [],
   "source": [
    "import cv2\n",
    "import numpy as np\n",
    "img = cv2.imread('input.png', cv2.IMREAD_GRAYSCALE)"
   ]
  },
  {
   "cell_type": "code",
   "execution_count": 3,
   "id": "b15f8968-cfad-4643-bbfb-fa774ce578d4",
   "metadata": {},
   "outputs": [],
   "source": [
    "edge8 = np.array([[1, 1, 1],[1, -8, 1], [1, 1, 1]])\n",
    "output_edge8 = cv2.filter2D(img, -1, edge8)"
   ]
  },
  {
   "cell_type": "code",
   "execution_count": 4,
   "id": "9b8791d6-edb6-46b2-b7cb-416a6f6c82a3",
   "metadata": {},
   "outputs": [],
   "source": [
    "edge4 = np.array([[0, -1, 0],[-1, 4, -1], [0, -1, 0]])\n",
    "output_edge4 = cv2.filter2D(img, -1, edge4)"
   ]
  },
  {
   "cell_type": "code",
   "execution_count": 10,
   "id": "1cf8f69f-fc58-4ef6-99a1-74340bbbd05d",
   "metadata": {},
   "outputs": [],
   "source": [
    "edge4 = np.array([[0, -1, 0],[-1, 4, -1], [0, -1, 0]])\n",
    "output_edge4 = cv2.filter2D(img, -1, edge4)"
   ]
  },
  {
   "cell_type": "code",
   "execution_count": 11,
   "id": "95d6a2a4-8ea1-4770-b5d2-d88861ccfbf8",
   "metadata": {},
   "outputs": [],
   "source": [
    "sharpen = np.array([[0, -1, 0],[-1, 5, -1], [0, -1, 0]])\n",
    "output_sharpen = cv2.filter2D(img, -1, sharpen)"
   ]
  },
  {
   "cell_type": "code",
   "execution_count": 12,
   "id": "2eed3594-75b9-4098-8942-3f521f413020",
   "metadata": {},
   "outputs": [],
   "source": [
    "blr = np.array((1/9)*np.ones((3, 3)))\n",
    "output_blr = cv2.filter2D(img, -1, blr)"
   ]
  },
  {
   "cell_type": "code",
   "execution_count": 14,
   "id": "8f60b8c4-cd70-4ac2-9779-35d2f0714525",
   "metadata": {},
   "outputs": [],
   "source": [
    "gauss3 = np.array((1/16)*np.array([[1, 2, 1], [2, 4, 2], [1, 2, 1]]))\n",
    "output_gauss3 = cv2.filter2D(img, -1, gauss3)"
   ]
  },
  {
   "cell_type": "code",
   "execution_count": 2,
   "id": "fe171cb4-ab53-4881-87ac-7dbf608d55a6",
   "metadata": {},
   "outputs": [],
   "source": [
    "gauss5 = np.array((1/256) * np.array([[1, 4, 6, 4, 1],\n",
    "                                      [4, 16, 24, 16, 4],\n",
    "                                      [6, 24, 36, 24, 6],\n",
    "                                      [4, 16, 24, 16, 4],\n",
    "                                      [1, 4, 6, 4, 1]]))\n",
    "output_gauss5 = cv2.filter2D(img, -1, gauss5)"
   ]
  },
  {
   "cell_type": "code",
   "execution_count": 3,
   "id": "eac5c4d8-5416-40a1-a52a-da9338dd5526",
   "metadata": {},
   "outputs": [],
   "source": [
    "cv2.imshow('gauss5',output_gauss5)\n",
    "cv2.waitKey(0)\n",
    "cv2.destroyAllWindows()"
   ]
  }
 ],
 "metadata": {
  "kernelspec": {
   "display_name": "Python 3 (ipykernel)",
   "language": "python",
   "name": "python3"
  },
  "language_info": {
   "codemirror_mode": {
    "name": "ipython",
    "version": 3
   },
   "file_extension": ".py",
   "mimetype": "text/x-python",
   "name": "python",
   "nbconvert_exporter": "python",
   "pygments_lexer": "ipython3",
   "version": "3.10.12"
  }
 },
 "nbformat": 4,
 "nbformat_minor": 5
}

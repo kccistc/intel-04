{
 "cells": [
  {
   "cell_type": "code",
   "execution_count": 1,
   "id": "11d27b7b-9dfc-417e-8ba1-a380958fb6b4",
   "metadata": {},
   "outputs": [
    {
     "name": "stderr",
     "output_type": "stream",
     "text": [
      "2024-05-29 16:52:58.570997: I tensorflow/core/util/port.cc:113] oneDNN custom operations are on. You may see slightly different numerical results due to floating-point round-off errors from different computation orders. To turn them off, set the environment variable `TF_ENABLE_ONEDNN_OPTS=0`.\n",
      "2024-05-29 16:52:58.571220: I external/local_tsl/tsl/cuda/cudart_stub.cc:32] Could not find cuda drivers on your machine, GPU will not be used.\n",
      "2024-05-29 16:52:58.573317: I external/local_tsl/tsl/cuda/cudart_stub.cc:32] Could not find cuda drivers on your machine, GPU will not be used.\n",
      "2024-05-29 16:52:58.600006: I tensorflow/core/platform/cpu_feature_guard.cc:210] This TensorFlow binary is optimized to use available CPU instructions in performance-critical operations.\n",
      "To enable the following instructions: AVX2 AVX_VNNI FMA, in other operations, rebuild TensorFlow with the appropriate compiler flags.\n",
      "2024-05-29 16:52:59.106042: W tensorflow/compiler/tf2tensorrt/utils/py_utils.cc:38] TF-TRT Warning: Could not find TensorRT\n"
     ]
    },
    {
     "name": "stdout",
     "output_type": "stream",
     "text": [
      "Found 624 images belonging to 2 classes.\n"
     ]
    },
    {
     "name": "stderr",
     "output_type": "stream",
     "text": [
      "WARNING:absl:Compiled the loaded model, but the compiled metrics have yet to be built. `model.compile_metrics` will be empty until you train or evaluate the model.\n"
     ]
    },
    {
     "name": "stdout",
     "output_type": "stream",
     "text": [
      "\u001b[1m  2/624\u001b[0m \u001b[37m━━━━━━━━━━━━━━━━━━━━\u001b[0m \u001b[1m47s\u001b[0m 76ms/step - accuracy: 0.9453 - loss: 0.1865  "
     ]
    },
    {
     "name": "stderr",
     "output_type": "stream",
     "text": [
      "/home/ubuntu/workdir/.venv/lib/python3.10/site-packages/keras/src/trainers/data_adapters/py_dataset_adapter.py:121: UserWarning: Your `PyDataset` class should call `super().__init__(**kwargs)` in its constructor. `**kwargs` can include `workers`, `use_multiprocessing`, `max_queue_size`. Do not pass these arguments to `fit()`, as they will be ignored.\n",
      "  self._warn_if_super_not_called()\n"
     ]
    },
    {
     "name": "stdout",
     "output_type": "stream",
     "text": [
      "\u001b[1m624/624\u001b[0m \u001b[32m━━━━━━━━━━━━━━━━━━━━\u001b[0m\u001b[37m\u001b[0m \u001b[1m2s\u001b[0m 3ms/step - accuracy: 0.9087 - loss: 0.2472    \n",
      "The testing accuracy is : 90.86538553237915 %\n"
     ]
    },
    {
     "name": "stderr",
     "output_type": "stream",
     "text": [
      "2024-05-29 16:53:02.101478: W tensorflow/core/framework/local_rendezvous.cc:404] Local rendezvous is aborting with status: OUT_OF_RANGE: End of sequence\n",
      "\t [[{{node IteratorGetNext}}]]\n",
      "/usr/lib/python3.10/contextlib.py:153: UserWarning: Your input ran out of data; interrupting training. Make sure that your dataset or generator can generate at least `steps_per_epoch * epochs` batches. You may need to use the `.repeat()` function when building your dataset.\n",
      "  self.gen.throw(typ, value, traceback)\n"
     ]
    },
    {
     "name": "stdout",
     "output_type": "stream",
     "text": [
      "\u001b[1m20/20\u001b[0m \u001b[32m━━━━━━━━━━━━━━━━━━━━\u001b[0m\u001b[37m\u001b[0m \u001b[1m2s\u001b[0m 100ms/step\n",
      "actual || predict\n",
      "NORMAL || NORMAL\n",
      "NORMAL || PNEUMONIA\n",
      "NORMAL || PNEUMONIA\n",
      "NORMAL || NORMAL\n",
      "NORMAL || PNEUMONIA\n",
      "NORMAL || NORMAL\n",
      "NORMAL || PNEUMONIA\n",
      "NORMAL || PNEUMONIA\n",
      "NORMAL || NORMAL\n",
      "NORMAL || PNEUMONIA\n",
      "NORMAL || PNEUMONIA\n",
      "NORMAL || NORMAL\n",
      "NORMAL || PNEUMONIA\n",
      "NORMAL || PNEUMONIA\n",
      "NORMAL || PNEUMONIA\n",
      "NORMAL || NORMAL\n",
      "NORMAL || NORMAL\n",
      "NORMAL || NORMAL\n",
      "NORMAL || PNEUMONIA\n",
      "NORMAL || NORMAL\n",
      "NORMAL || PNEUMONIA\n",
      "NORMAL || PNEUMONIA\n",
      "NORMAL || NORMAL\n",
      "NORMAL || PNEUMONIA\n",
      "PNEUMONIA || PNEUMONIA\n",
      "PNEUMONIA || PNEUMONIA\n",
      "PNEUMONIA || NORMAL\n",
      "PNEUMONIA || PNEUMONIA\n",
      "PNEUMONIA || NORMAL\n",
      "PNEUMONIA || PNEUMONIA\n",
      "PNEUMONIA || PNEUMONIA\n",
      "PNEUMONIA || PNEUMONIA\n",
      "PNEUMONIA || PNEUMONIA\n",
      "PNEUMONIA || PNEUMONIA\n",
      "PNEUMONIA || PNEUMONIA\n",
      "PNEUMONIA || PNEUMONIA\n",
      "PNEUMONIA || NORMAL\n",
      "PNEUMONIA || PNEUMONIA\n",
      "PNEUMONIA || NORMAL\n",
      "PNEUMONIA || NORMAL\n",
      "PNEUMONIA || NORMAL\n",
      "PNEUMONIA || NORMAL\n",
      "PNEUMONIA || PNEUMONIA\n",
      "PNEUMONIA || NORMAL\n",
      "PNEUMONIA || PNEUMONIA\n",
      "PNEUMONIA || NORMAL\n",
      "PNEUMONIA || PNEUMONIA\n",
      "PNEUMONIA || PNEUMONIA\n",
      "PNEUMONIA || PNEUMONIA\n",
      "PNEUMONIA || PNEUMONIA\n",
      "PNEUMONIA || NORMAL\n",
      "PNEUMONIA || NORMAL\n",
      "PNEUMONIA || NORMAL\n",
      "PNEUMONIA || PNEUMONIA\n",
      "PNEUMONIA || PNEUMONIA\n",
      "PNEUMONIA || PNEUMONIA\n",
      "PNEUMONIA || PNEUMONIA\n",
      "PNEUMONIA || PNEUMONIA\n",
      "PNEUMONIA || PNEUMONIA\n",
      "PNEUMONIA || NORMAL\n",
      "PNEUMONIA || PNEUMONIA\n",
      "PNEUMONIA || PNEUMONIA\n",
      "PNEUMONIA || NORMAL\n"
     ]
    }
   ],
   "source": [
    "\n",
    "import numpy as np # forlinear algebra\n",
    "import matplotlib.pyplot as plt #for plotting things\n",
    "import os\n",
    "from PIL import Image # for reading images\n",
    "from tensorflow import keras\n",
    "from tensorflow.keras.preprocessing.image import ImageDataGenerator, load_img\n",
    "\n",
    "\n",
    "#from sklearn.metrics import classification_report, confusion_matrix # <- define evaluation metrics\n",
    "test_datagen = ImageDataGenerator(rescale = 1./255)  #Image normalization.\n",
    "test_set = test_datagen.flow_from_directory('./chest_xray/test',\n",
    "                                            target_size = (64, 64),\n",
    "                                            batch_size = 32,\n",
    "                                            class_mode = 'binary')\n",
    "model_fin = keras.models.load_model('./medical_ann.h5')\n",
    "test_accu = model_fin.evaluate(test_set, steps=624)\n",
    "print('The testing accuracy is :',test_accu[1]*100, '%')\n",
    "\n",
    "# label 얻기 \n",
    "labels = test_set.labels\n",
    "\n",
    "Y_pred = model_fin.predict(test_set)\n",
    "#y_pred = np.argmax(Y_pred)\n",
    "y_pred = []\n",
    "for yy in Y_pred:\n",
    "    if yy >= 0.5:\n",
    "        y_pred.append(1)\n",
    "    else:\n",
    "        y_pred.append(0)\n",
    "class_name = [\"NORMAL\", \"PNEUMONIA\"]\n",
    "print(\"actual || predict\")\n",
    "for i in range(624):\n",
    "    if i%10 == 0:\n",
    "        print(class_name[labels[i]], end=\" || \")\n",
    "        print(class_name[y_pred[i]], end='\\n')\n",
    "\n"
   ]
  }
 ],
 "metadata": {
  "kernelspec": {
   "display_name": "Python 3 (ipykernel)",
   "language": "python",
   "name": "python3"
  },
  "language_info": {
   "codemirror_mode": {
    "name": "ipython",
    "version": 3
   },
   "file_extension": ".py",
   "mimetype": "text/x-python",
   "name": "python",
   "nbconvert_exporter": "python",
   "pygments_lexer": "ipython3",
   "version": "3.10.12"
  }
 },
 "nbformat": 4,
 "nbformat_minor": 5
}

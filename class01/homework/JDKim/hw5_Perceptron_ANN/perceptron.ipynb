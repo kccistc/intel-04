{
 "cells": [
  {
   "cell_type": "code",
   "execution_count": 2,
   "id": "c604a214-3173-4783-b1c5-b26ee3a67b50",
   "metadata": {},
   "outputs": [
    {
     "name": "stdout",
     "output_type": "stream",
     "text": [
      "Collecting numpy\n",
      "  Downloading numpy-1.26.4-cp310-cp310-manylinux_2_17_x86_64.manylinux2014_x86_64.whl (18.2 MB)\n",
      "\u001b[2K     \u001b[38;2;114;156;31m━━━━━━━━━━━━━━━━━━━━━━━━━━━━━━━━━━━━━━━━\u001b[0m \u001b[32m18.2/18.2 MB\u001b[0m \u001b[31m1.0 MB/s\u001b[0m eta \u001b[36m0:00:00\u001b[0mm eta \u001b[36m0:00:01\u001b[0m[36m0:00:01\u001b[0mm\n",
      "\u001b[?25hInstalling collected packages: numpy\n",
      "Successfully installed numpy-1.26.4\n",
      "Note: you may need to restart the kernel to use updated packages.\n"
     ]
    }
   ],
   "source": [
    "pip install numpy"
   ]
  },
  {
   "cell_type": "code",
   "execution_count": 3,
   "id": "d487f0e3-28bb-4f3b-8102-86d058a02c2f",
   "metadata": {},
   "outputs": [],
   "source": [
    "import numpy as np"
   ]
  },
  {
   "cell_type": "code",
   "execution_count": 4,
   "id": "5335b777-71c9-4f86-8618-92d8571e3146",
   "metadata": {},
   "outputs": [],
   "source": [
    "def sigmoid(x):\n",
    "    return 1/(1+np.exp(x))"
   ]
  },
  {
   "cell_type": "code",
   "execution_count": 5,
   "id": "873b41fe-17ad-439a-911c-535a23c9ef7b",
   "metadata": {},
   "outputs": [],
   "source": [
    "def numerical_derivative(f, x):\n",
    "    dx = 1e-4\n",
    "    gradf = np.zeros_like(x)\n",
    "    \n",
    "    it = np.nditer(x, flags = ['multi_index'], op_flags=['readwrite'])\n",
    "\n",
    "    while not it.finished:\n",
    "        idx = it.multi_index\n",
    "        tmp_val = x[idx]\n",
    "        x[idx] = float((tmp_val)+dx)\n",
    "        fx1 = f(x)\n",
    "\n",
    "        x[idx] = float((tmp_val)-dx)\n",
    "        fx2 = f(x)\n",
    "        gradf[idx] = (fx1-fx2)/(2*dx)\n",
    "\n",
    "        x[idx] = tmp_val\n",
    "        it.iternext()\n",
    "    return gradf\n",
    "    "
   ]
  },
  {
   "cell_type": "code",
   "execution_count": 6,
   "id": "83b598c9-07ec-4759-b931-915ad1f0969b",
   "metadata": {},
   "outputs": [],
   "source": [
    "class logicGate:\n",
    "    def __init__(self, gate_name, xdata, tdata, learning_rate=0.01, threshold=0.5):\n",
    "        self.name = gate_name\n",
    "        self.__xdata=xdata.reshape(4,2)\n",
    "        self.__tdata=tdata.reshape(4,1)\n",
    "        self.__w=np.random.rand(2,1)\n",
    "        self.__b=np.random.rand(1)\n",
    "        self.__learning_rate = learning_rate\n",
    "        self.__threshold = threshold\n",
    "        \n",
    "    def __loss_func(self):\n",
    "        delta = 1e-7\n",
    "        z = np.dot(self.__xdata, self.__w) + self.__b\n",
    "        y = sigmoid(z)\n",
    "        return -np.sum(self.__tdata*np.log(y+delta) + (1-self.__tdata)*np.log((1-y)+delta))\n",
    "\n",
    "    def err_val(self):\n",
    "        delta = 1e-7\n",
    "        z = np.dot(self.__xdata, self.__w)+self.__b\n",
    "        y = sigmoid(z)\n",
    "        return -np.sum(self.__tdata + np.log(y+delta) + (1-self.__tdata)*np.log((1-y)+delta))\n",
    "    \n",
    "    def train(self):\n",
    "        f = lambda x : self.__loss_func()\n",
    "        print(\"init error : \", self.err_val())\n",
    "    \n",
    "        for stp in range(20000):\n",
    "            self.__w -= self.__learning_rate * numerical_derivative(f, self.__w)\n",
    "            self.__b -= self.__learning_rate * numerical_derivative(f, self.__b)\n",
    "            if (stp % 2000 == 0):\n",
    "                print(\"step : \", stp, \"error : \", self.err_val(), f)\n",
    "\n",
    "    def predict(self, input_data):\n",
    "        z = np.dot(input_data, self.__w) + self.__b\n",
    "        y = sigmoid(z)\n",
    "        if y[0] > self.__threshold:\n",
    "            result = 1\n",
    "        else:\n",
    "            result = 0\n",
    "        return y, result"
   ]
  },
  {
   "cell_type": "markdown",
   "id": "8ad1659e-91df-491e-85df-d51869d60f70",
   "metadata": {},
   "source": [
    "## AND"
   ]
  },
  {
   "cell_type": "code",
   "execution_count": 7,
   "id": "195c7f2d-7f33-429a-9654-1b2636d98dd4",
   "metadata": {},
   "outputs": [
    {
     "name": "stdout",
     "output_type": "stream",
     "text": [
      "init error :  5.1669876285617935\n",
      "step :  0 error :  5.159163028779922 <function logicGate.train.<locals>.<lambda> at 0x7fc7dc3155a0>\n",
      "step :  2000 error :  7.379187075594015 <function logicGate.train.<locals>.<lambda> at 0x7fc7dc3155a0>\n",
      "step :  4000 error :  9.740094572871687 <function logicGate.train.<locals>.<lambda> at 0x7fc7dc3155a0>\n",
      "step :  6000 error :  11.402559063555566 <function logicGate.train.<locals>.<lambda> at 0x7fc7dc3155a0>\n",
      "step :  8000 error :  12.67545831193173 <function logicGate.train.<locals>.<lambda> at 0x7fc7dc3155a0>\n",
      "step :  10000 error :  13.703101032838369 <function logicGate.train.<locals>.<lambda> at 0x7fc7dc3155a0>\n",
      "step :  12000 error :  14.563016986609552 <function logicGate.train.<locals>.<lambda> at 0x7fc7dc3155a0>\n",
      "step :  14000 error :  15.301328739572396 <function logicGate.train.<locals>.<lambda> at 0x7fc7dc3155a0>\n",
      "step :  16000 error :  15.947579054220515 <function logicGate.train.<locals>.<lambda> at 0x7fc7dc3155a0>\n",
      "step :  18000 error :  16.521775036205824 <function logicGate.train.<locals>.<lambda> at 0x7fc7dc3155a0>\n",
      "[0 0]  :  0\n",
      "[0 1]  :  0\n",
      "[1 0]  :  0\n",
      "[1 1]  :  1\n"
     ]
    }
   ],
   "source": [
    "xdata = np.array([[0,0],[0,1],[1,0],[1,1]])\n",
    "tdata = np.array([[0,0,0,1]])\n",
    "\n",
    "AND = logicGate(\"AND\", xdata, tdata)\n",
    "AND.train()\n",
    "for in_data in xdata:\n",
    "    (sig_val, logic_val) = AND.predict(in_data)\n",
    "    print(in_data, \" : \", logic_val)\n"
   ]
  },
  {
   "cell_type": "markdown",
   "id": "15c57cf2-8beb-4b6a-9fbf-cd029c200bc8",
   "metadata": {},
   "source": [
    "## OR"
   ]
  },
  {
   "cell_type": "code",
   "execution_count": 8,
   "id": "70bb9497-ab98-49bd-8ab1-421509a62c79",
   "metadata": {},
   "outputs": [
    {
     "name": "stdout",
     "output_type": "stream",
     "text": [
      "init error :  2.7486847436028246\n",
      "step :  0 error :  2.654136865367626 <function logicGate.train.<locals>.<lambda> at 0x7fc7dc3152d0>\n",
      "step :  2000 error :  -1.0752200343591323 <function logicGate.train.<locals>.<lambda> at 0x7fc7dc3152d0>\n",
      "step :  4000 error :  -0.6885611121152099 <function logicGate.train.<locals>.<lambda> at 0x7fc7dc3152d0>\n",
      "step :  6000 error :  -0.3830330780320321 <function logicGate.train.<locals>.<lambda> at 0x7fc7dc3152d0>\n",
      "step :  8000 error :  -0.1417328903785927 <function logicGate.train.<locals>.<lambda> at 0x7fc7dc3152d0>\n",
      "step :  10000 error :  0.05566351002857384 <function logicGate.train.<locals>.<lambda> at 0x7fc7dc3152d0>\n",
      "step :  12000 error :  0.22204436502529434 <function logicGate.train.<locals>.<lambda> at 0x7fc7dc3152d0>\n",
      "step :  14000 error :  0.3655718928210141 <function logicGate.train.<locals>.<lambda> at 0x7fc7dc3152d0>\n",
      "step :  16000 error :  0.4916384089775989 <function logicGate.train.<locals>.<lambda> at 0x7fc7dc3152d0>\n",
      "step :  18000 error :  0.6039618730523991 <function logicGate.train.<locals>.<lambda> at 0x7fc7dc3152d0>\n",
      "[0 0]  :  0\n",
      "[0 1]  :  1\n",
      "[1 0]  :  1\n",
      "[1 1]  :  1\n"
     ]
    }
   ],
   "source": [
    "xdata = np.array([[0,0],[0,1],[1,0],[1,1]])\n",
    "tdata = np.array([[0,1,1,1]])\n",
    "\n",
    "OR = logicGate(\"OR\", xdata, tdata)\n",
    "OR.train()\n",
    "for in_data in xdata:\n",
    "    (sig_val, logic_val) = OR.predict(in_data)\n",
    "    print(in_data , \" : \", logic_val)"
   ]
  },
  {
   "cell_type": "markdown",
   "id": "b4580802-0071-4af4-8791-551d9833879e",
   "metadata": {},
   "source": [
    "## XOR"
   ]
  },
  {
   "cell_type": "code",
   "execution_count": 9,
   "id": "f253b9c8-8b99-4fcf-b6d3-00f72773c5a5",
   "metadata": {},
   "outputs": [
    {
     "name": "stdout",
     "output_type": "stream",
     "text": [
      "init error :  3.8361582196470354\n",
      "step :  0 error :  3.8037174723191907 <function logicGate.train.<locals>.<lambda> at 0x7fc7dc315990>\n",
      "step :  2000 error :  2.1574420039904743 <function logicGate.train.<locals>.<lambda> at 0x7fc7dc315990>\n",
      "step :  4000 error :  2.1588188964568102 <function logicGate.train.<locals>.<lambda> at 0x7fc7dc315990>\n",
      "step :  6000 error :  2.1588791872486572 <function logicGate.train.<locals>.<lambda> at 0x7fc7dc315990>\n",
      "step :  8000 error :  2.15888176805697 <function logicGate.train.<locals>.<lambda> at 0x7fc7dc315990>\n",
      "step :  10000 error :  2.158881878428767 <function logicGate.train.<locals>.<lambda> at 0x7fc7dc315990>\n",
      "step :  12000 error :  2.1588818831489576 <function logicGate.train.<locals>.<lambda> at 0x7fc7dc315990>\n",
      "step :  14000 error :  2.1588818833506846 <function logicGate.train.<locals>.<lambda> at 0x7fc7dc315990>\n",
      "step :  16000 error :  2.1588818833580232 <function logicGate.train.<locals>.<lambda> at 0x7fc7dc315990>\n",
      "step :  18000 error :  2.1588818833580232 <function logicGate.train.<locals>.<lambda> at 0x7fc7dc315990>\n",
      "[0 0]  :  1\n",
      "[0 1]  :  1\n",
      "[1 0]  :  1\n",
      "[1 1]  :  0\n"
     ]
    }
   ],
   "source": [
    "xdata = np.array([[0,0],[0,1],[1,0],[1,1]])\n",
    "tdata = np.array([[0,1,1,0]])\n",
    "\n",
    "XOR = logicGate(\"XOR\", xdata, tdata)\n",
    "XOR.train()\n",
    "for in_data in xdata:\n",
    "    (sig_val, logic_val) = XOR.predict(in_data)\n",
    "    print(in_data , \" : \", logic_val)"
   ]
  }
 ],
 "metadata": {
  "kernelspec": {
   "display_name": "Python 3 (ipykernel)",
   "language": "python",
   "name": "python3"
  },
  "language_info": {
   "codemirror_mode": {
    "name": "ipython",
    "version": 3
   },
   "file_extension": ".py",
   "mimetype": "text/x-python",
   "name": "python",
   "nbconvert_exporter": "python",
   "pygments_lexer": "ipython3",
   "version": "3.10.12"
  }
 },
 "nbformat": 4,
 "nbformat_minor": 5
}

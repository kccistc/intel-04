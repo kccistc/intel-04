{
 "cells": [
  {
   "cell_type": "code",
   "execution_count": 2,
   "id": "89d6d96b-16a4-44e8-a53f-3fe364bc33c5",
   "metadata": {},
   "outputs": [
    {
     "data": {
      "text/plain": [
       "('A', 'B', 'C')"
      ]
     },
     "execution_count": 2,
     "metadata": {},
     "output_type": "execute_result"
    }
   ],
   "source": [
    "# 실습1\n",
    "x = ('A', 'B')\n",
    "y = x + ('C', )\n",
    "y"
   ]
  },
  {
   "cell_type": "code",
   "execution_count": 3,
   "id": "3b673a79-3d43-4a45-afbe-f4889f2ae652",
   "metadata": {},
   "outputs": [
    {
     "data": {
      "text/plain": [
       "('A', 'B', 'C')"
      ]
     },
     "execution_count": 3,
     "metadata": {},
     "output_type": "execute_result"
    }
   ],
   "source": [
    "# 실습1\n",
    "x_list = list(x)\n",
    "x_list.append('C')\n",
    "x_list = tuple(x_list)\n",
    "x_list"
   ]
  },
  {
   "cell_type": "code",
   "execution_count": 2,
   "id": "71b95938-45cd-43fb-86dc-1c986d796da5",
   "metadata": {},
   "outputs": [
    {
     "data": {
      "text/plain": [
       "array([[ 0.,  1.,  2.,  3.,  4.,  5.],\n",
       "       [ 6.,  7.,  8.,  9., 10., 11.],\n",
       "       [12., 13., 14., 15., 16., 17.],\n",
       "       [18., 19., 20., 21., 22., 23.],\n",
       "       [24., 25., 26., 27., 28., 29.],\n",
       "       [30., 31., 32., 33., 34., 35.]])"
      ]
     },
     "execution_count": 2,
     "metadata": {},
     "output_type": "execute_result"
    }
   ],
   "source": [
    "# 실습2\n",
    "import numpy as np\n",
    "n = 6\n",
    "square = np.zeros((n, n))\n",
    "for i in range(n) :\n",
    "    for j in range(n) :\n",
    "        square[j,i] = j * n + i\n",
    "square"
   ]
  },
  {
   "cell_type": "code",
   "execution_count": 3,
   "id": "bd62b785-1a38-4b25-bd02-fdacd85884d7",
   "metadata": {},
   "outputs": [
    {
     "name": "stdout",
     "output_type": "stream",
     "text": [
      "[ 0.  1.  2.  3.  4.  5.  6.  7.  8.  9. 10. 11. 12. 13. 14. 15. 16. 17.\n",
      " 18. 19. 20. 21. 22. 23. 24. 25. 26. 27. 28. 29. 30. 31. 32. 33. 34. 35.]\n"
     ]
    }
   ],
   "source": [
    "# 실습3\n",
    "print(square.reshape(-1,))"
   ]
  },
  {
   "cell_type": "code",
   "execution_count": 4,
   "id": "57310ce1-e336-4c3d-b1c9-d119f6472553",
   "metadata": {},
   "outputs": [
    {
     "name": "stdout",
     "output_type": "stream",
     "text": [
      "(525, 393, 3)\n",
      "(1, 525, 393, 3)\n",
      "(1, 3, 525, 393)\n"
     ]
    }
   ],
   "source": [
    "# 실습4\n",
    "import cv2\n",
    "img = cv2.imread('loopy.png')\n",
    "print(img.shape)\n",
    "img_expand = np.expand_dims(img, 0)\n",
    "print(img_expand.shape)\n",
    "img_transpose = img_expand.transpose((0,3,1, 2))\n",
    "print(img_transpose.shape)"
   ]
  },
  {
   "cell_type": "code",
   "execution_count": 32,
   "id": "a7b3300f-99d0-4ae6-9c1f-ff32ef265243",
   "metadata": {},
   "outputs": [
    {
     "name": "stdout",
     "output_type": "stream",
     "text": [
      "[[ 1  1  1]\n",
      " [ 1 -8  1]\n",
      " [ 1  1  1]]\n"
     ]
    },
    {
     "data": {
      "text/plain": [
       "100"
      ]
     },
     "execution_count": 32,
     "metadata": {},
     "output_type": "execute_result"
    }
   ],
   "source": [
    "img = cv2.imread('loopy.png')\n",
    "kernel = np.array([[1, 1, 1], [1, -8, 1], [1, 1, 1]])\n",
    "print(kernel)\n",
    "output = cv2.filter2D(img, -1, kernel)\n",
    "cv2.imshow('edge', output)\n",
    "cv2.waitKey(0)"
   ]
  },
  {
   "cell_type": "code",
   "execution_count": 9,
   "id": "2147edea-fad7-417e-a377-a9623be98f18",
   "metadata": {},
   "outputs": [
    {
     "data": {
      "text/plain": [
       "100"
      ]
     },
     "execution_count": 9,
     "metadata": {},
     "output_type": "execute_result"
    }
   ],
   "source": [
    "# 실습5\n",
    "import copy\n",
    "img = cv2.imread('loopy.png', cv2.IMREAD_GRAYSCALE)\n",
    "img = cv2.cvtColor(img, cv2.COLOR_BGR2RGB)\n",
    "kernel = np.array([[1, 1, 1], [1, -8, 1], [1, 1, 1]])\n",
    "imgcpy = copy.deepcopy(img)\n",
    "imgcpy2 = np.zeros((imgcpy.shape[0], imgcpy.shape[1], imgcpy.shape[2]))\n",
    "\n",
    "for h in range(2, img.shape[0] - 1) :\n",
    "    for w in range(2, img.shape[1] - 1) :\n",
    "        for c in range(1, img.shape[2]) :\n",
    "            img_tmp= np.dot(img[h-1:h-1+kernel.shape[0], w-1:w-1+kernel.shape[1],c],kernel)\n",
    "            imgcpy2[h, w, c] = np.sum(img_tmp)\n",
    "\n",
    "cv2.imshow('edge', imgcpy2/255)\n",
    "cv2.waitKey(0)"
   ]
  },
  {
   "cell_type": "code",
   "execution_count": null,
   "id": "7546bfdf-a8fc-4b7b-99a3-bde3fd420f94",
   "metadata": {},
   "outputs": [],
   "source": []
  }
 ],
 "metadata": {
  "kernelspec": {
   "display_name": "Python 3 (ipykernel)",
   "language": "python",
   "name": "python3"
  },
  "language_info": {
   "codemirror_mode": {
    "name": "ipython",
    "version": 3
   },
   "file_extension": ".py",
   "mimetype": "text/x-python",
   "name": "python",
   "nbconvert_exporter": "python",
   "pygments_lexer": "ipython3",
   "version": "3.10.12"
  }
 },
 "nbformat": 4,
 "nbformat_minor": 5
}

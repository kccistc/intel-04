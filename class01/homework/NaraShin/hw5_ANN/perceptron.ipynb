{
 "cells": [
  {
   "cell_type": "code",
   "execution_count": 15,
   "id": "d3f891ec-4bfb-492c-8ea8-71a113a20b5a",
   "metadata": {},
   "outputs": [],
   "source": [
    "import numpy as np\n",
    "\n",
    "def sigmoid(x) :\n",
    "    return 1/(1+np.exp(x))"
   ]
  },
  {
   "cell_type": "code",
   "execution_count": 16,
   "id": "27f7013c-3b66-4c7b-9623-9b911824d7b1",
   "metadata": {},
   "outputs": [],
   "source": [
    "def numerical_derivative(f, x) :\n",
    "    dx = 1e-4\n",
    "    gradf = np.zeros_like(x)\n",
    "\n",
    "    it = np.nditer(x,flags = ['multi_index'], op_flags = ['readwrite'])\n",
    "\n",
    "    while not it.finished :\n",
    "        idx = it.multi_index\n",
    "        tmp_val =  x[idx]\n",
    "        x[idx] = float((tmp_val) + dx)\n",
    "        fx1 = f(x)\n",
    "\n",
    "        x[idx] = float((tmp_val) - dx)\n",
    "        fx2 = f(x)\n",
    "        gradf[idx] = (fx1 - fx2) / (2 * dx)\n",
    "\n",
    "        x[idx] = tmp_val\n",
    "        it.iternext()\n",
    "    return gradf"
   ]
  },
  {
   "cell_type": "code",
   "execution_count": 17,
   "id": "d38ff3b7-7904-4219-8f83-5f832daf2633",
   "metadata": {},
   "outputs": [],
   "source": [
    "class logicGate:\n",
    "    def __init__(self, gate_name, xdata, tdata, learning_rate=0.01, threshold=0.5):\n",
    "        self.name = gate_name\n",
    "        self.__xdata=xdata.reshape(4,2)\n",
    "        self.__tdata=tdata.reshape(4,1)\n",
    "        self.__w=np.random.rand(2,1)\n",
    "        self.__b=np.random.rand(1)\n",
    "        self.__learning_rate = learning_rate\n",
    "        self.__threshold = threshold\n",
    "    def __loss_func(self):\n",
    "        delta = 1e-7\n",
    "        z = np.dot(self.__xdata, self.__w) + self.__b\n",
    "        y = sigmoid(z)\n",
    "        return -np.sum(self.__tdata*np.log(y+delta) + (1-self.__tdata)*np.log((1-y)+delta))\n",
    "    def err_val(self):\n",
    "        delta = 1e-7\n",
    "        z = np.dot(self.__xdata, self.__w)+self.__b\n",
    "        y = sigmoid(z)\n",
    "        return -np.sum(self.__tdata + np.log(y+delta) + (1-self.__tdata)*np.log((1-y)+delta))\n",
    "    def train(self):\n",
    "        f = lambda x : self.__loss_func()\n",
    "        print(\"init error : \", self.err_val())\n",
    "        for stp in range(20000):\n",
    "            self.__w -= self.__learning_rate * numerical_derivative(f, self.__w)\n",
    "            self.__b -= self.__learning_rate * numerical_derivative(f, self.__b)\n",
    "            if (stp % 2000 == 0):\n",
    "                print(\"step : \", stp, \"error : \", self.err_val(), f)\n",
    "    def predict(self, input_data):\n",
    "        z = np.dot(input_data, self.__w) + self.__b\n",
    "        y = sigmoid(z)\n",
    "        if y[0] > self.__threshold:\n",
    "            result = 1\n",
    "        else:\n",
    "            result = 0\n",
    "        return y, result"
   ]
  },
  {
   "cell_type": "code",
   "execution_count": 18,
   "id": "1b29672d-e4a9-408b-9a52-9d20cb551407",
   "metadata": {},
   "outputs": [
    {
     "name": "stdout",
     "output_type": "stream",
     "text": [
      "init error :  6.722724606606109\n",
      "step :  0 error :  6.694440014347405 <function logicGate.train.<locals>.<lambda> at 0x7fa63414f1c0>\n",
      "step :  2000 error :  7.476139999302591 <function logicGate.train.<locals>.<lambda> at 0x7fa63414f1c0>\n",
      "step :  4000 error :  9.805031385317815 <function logicGate.train.<locals>.<lambda> at 0x7fa63414f1c0>\n",
      "step :  6000 error :  11.450721497621283 <function logicGate.train.<locals>.<lambda> at 0x7fa63414f1c0>\n",
      "step :  8000 error :  12.713536132206205 <function logicGate.train.<locals>.<lambda> at 0x7fa63414f1c0>\n",
      "step :  10000 error :  13.734500473020134 <function logicGate.train.<locals>.<lambda> at 0x7fa63414f1c0>\n",
      "step :  12000 error :  14.589686947547406 <function logicGate.train.<locals>.<lambda> at 0x7fa63414f1c0>\n",
      "step :  14000 error :  15.324481603838809 <function logicGate.train.<locals>.<lambda> at 0x7fa63414f1c0>\n",
      "step :  16000 error :  15.96801751010765 <function logicGate.train.<locals>.<lambda> at 0x7fa63414f1c0>\n",
      "step :  18000 error :  16.540056677107778 <function logicGate.train.<locals>.<lambda> at 0x7fa63414f1c0>\n",
      "[0 0]  :  0\n",
      "[0 1]  :  0\n",
      "[1 0]  :  0\n",
      "[1 1]  :  1\n"
     ]
    }
   ],
   "source": [
    "xdata = np.array([[0, 0], [0, 1], [1, 0], [1, 1]])\n",
    "tdata = np.array([[0, 0, 0, 1]])\n",
    "AND = logicGate(\"AND\", xdata, tdata)\n",
    "AND.train()\n",
    "for in_data in xdata :\n",
    "    (sig_val, logic_val) = AND.predict(in_data)\n",
    "    print(in_data, \" : \", logic_val)"
   ]
  },
  {
   "cell_type": "code",
   "execution_count": 19,
   "id": "57a38da8-8993-4082-bbab-6a4728a28e64",
   "metadata": {},
   "outputs": [
    {
     "name": "stdout",
     "output_type": "stream",
     "text": [
      "init error :  2.737201529789273\n",
      "step :  0 error :  2.6446701705044067 <function logicGate.train.<locals>.<lambda> at 0x7fa63414e830>\n",
      "step :  2000 error :  -1.0825173058840698 <function logicGate.train.<locals>.<lambda> at 0x7fa63414e830>\n",
      "step :  4000 error :  -0.6947454930769457 <function logicGate.train.<locals>.<lambda> at 0x7fa63414e830>\n",
      "step :  6000 error :  -0.3878406685870217 <function logicGate.train.<locals>.<lambda> at 0x7fa63414e830>\n",
      "step :  8000 error :  -0.14559897217539652 <function logicGate.train.<locals>.<lambda> at 0x7fa63414e830>\n",
      "step :  10000 error :  0.0524488499929997 <function logicGate.train.<locals>.<lambda> at 0x7fa63414e830>\n",
      "step :  12000 error :  0.21930028059097917 <function logicGate.train.<locals>.<lambda> at 0x7fa63414e830>\n",
      "step :  14000 error :  0.363181462081002 <function logicGate.train.<locals>.<lambda> at 0x7fa63414e830>\n",
      "step :  16000 error :  0.4895225915660322 <function logicGate.train.<locals>.<lambda> at 0x7fa63414e830>\n",
      "step :  18000 error :  0.6020650565753232 <function logicGate.train.<locals>.<lambda> at 0x7fa63414e830>\n",
      "[0 0]  :  0\n",
      "[0 1]  :  1\n",
      "[1 0]  :  1\n",
      "[1 1]  :  1\n"
     ]
    }
   ],
   "source": [
    "xdata = np.array([[0, 0], [0, 1], [1, 0], [1, 1]])\n",
    "tdata = np.array([[0, 1, 1, 1]])\n",
    "OR = logicGate(\"OR\", xdata, tdata)\n",
    "OR.train()\n",
    "for in_data in xdata :\n",
    "    (sig_val, logic_val) = OR.predict(in_data)\n",
    "    print(in_data, \" : \", logic_val)"
   ]
  },
  {
   "cell_type": "code",
   "execution_count": 20,
   "id": "d2f4ef0c-e9d5-46fd-b3d7-7542575efe8a",
   "metadata": {},
   "outputs": [
    {
     "name": "stdout",
     "output_type": "stream",
     "text": [
      "init error :  3.1492993500578144\n",
      "step :  0 error :  3.1298204818731685 <function logicGate.train.<locals>.<lambda> at 0x7fa63414e8c0>\n",
      "step :  2000 error :  2.158506047089232 <function logicGate.train.<locals>.<lambda> at 0x7fa63414e8c0>\n",
      "step :  4000 error :  2.1588656855107353 <function logicGate.train.<locals>.<lambda> at 0x7fa63414e8c0>\n",
      "step :  6000 error :  2.158881190498426 <function logicGate.train.<locals>.<lambda> at 0x7fa63414e8c0>\n",
      "step :  8000 error :  2.158881853729566 <function logicGate.train.<locals>.<lambda> at 0x7fa63414e8c0>\n",
      "step :  10000 error :  2.1588818820925146 <function logicGate.train.<locals>.<lambda> at 0x7fa63414e8c0>\n",
      "step :  12000 error :  2.1588818833050003 <function logicGate.train.<locals>.<lambda> at 0x7fa63414e8c0>\n",
      "step :  14000 error :  2.15888188335688 <function logicGate.train.<locals>.<lambda> at 0x7fa63414e8c0>\n",
      "step :  16000 error :  2.158881883356869 <function logicGate.train.<locals>.<lambda> at 0x7fa63414e8c0>\n",
      "step :  18000 error :  2.158881883356869 <function logicGate.train.<locals>.<lambda> at 0x7fa63414e8c0>\n",
      "[0 0]  :  0\n",
      "[0 1]  :  1\n",
      "[1 0]  :  1\n",
      "[1 1]  :  1\n"
     ]
    }
   ],
   "source": [
    "xdata = np.array([[0,0],[0,1],[1,0],[1,1]])\n",
    "tdata = np.array([[0,1,1,0]])\n",
    "XOR = logicGate(\"OR\", xdata, tdata)\n",
    "XOR.train()\n",
    "for in_data in xdata:\n",
    "    (sig_val, logic_val) = OR.predict(in_data)\n",
    "    print(in_data , \" : \", logic_val)"
   ]
  },
  {
   "cell_type": "code",
   "execution_count": null,
   "id": "995e250e-e603-4f38-ae16-9f97c14a159c",
   "metadata": {},
   "outputs": [],
   "source": []
  }
 ],
 "metadata": {
  "kernelspec": {
   "display_name": "Python 3 (ipykernel)",
   "language": "python",
   "name": "python3"
  },
  "language_info": {
   "codemirror_mode": {
    "name": "ipython",
    "version": 3
   },
   "file_extension": ".py",
   "mimetype": "text/x-python",
   "name": "python",
   "nbconvert_exporter": "python",
   "pygments_lexer": "ipython3",
   "version": "3.10.12"
  }
 },
 "nbformat": 4,
 "nbformat_minor": 5
}

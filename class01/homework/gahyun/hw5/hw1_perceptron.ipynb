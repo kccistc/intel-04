{
 "cells": [
  {
   "cell_type": "code",
   "execution_count": 2,
   "id": "a49751ef-920c-4ca0-8b72-4380000ef4e6",
   "metadata": {},
   "outputs": [
    {
     "name": "stdout",
     "output_type": "stream",
     "text": [
      "Collecting numpy\n",
      "  Downloading numpy-1.26.4-cp310-cp310-manylinux_2_17_x86_64.manylinux2014_x86_64.whl (18.2 MB)\n",
      "\u001b[2K     \u001b[38;2;114;156;31m━━━━━━━━━━━━━━━━━━━━━━━━━━━━━━━━━━━━━━━\u001b[0m \u001b[32m18.2/18.2 MB\u001b[0m \u001b[31m641.0 kB/s\u001b[0m eta \u001b[36m0:00:00\u001b[0mm eta \u001b[36m0:00:01\u001b[0m[36m0:00:01\u001b[0m\n",
      "\u001b[?25hInstalling collected packages: numpy\n",
      "Successfully installed numpy-1.26.4\n",
      "Note: you may need to restart the kernel to use updated packages.\n"
     ]
    }
   ],
   "source": [
    "pip install numpy"
   ]
  },
  {
   "cell_type": "code",
   "execution_count": 3,
   "id": "e11acb15-364c-48c1-8e4b-40f4c60327da",
   "metadata": {},
   "outputs": [],
   "source": [
    "import numpy as np"
   ]
  },
  {
   "cell_type": "code",
   "execution_count": 12,
   "id": "082ca4f4-73ce-4c4b-ab2a-1b358f643a78",
   "metadata": {},
   "outputs": [],
   "source": [
    "def sigmoid(x):\n",
    "    return 1/(1+np.exp(x))\n",
    "\n",
    "def numerical_derivative(f, x):\n",
    "    dx = 1e-4\n",
    "    gradf = np.zeros_like(x)\n",
    "    it = np.nditer(x, flags = ['multi_index'], op_flags=['readwrite'])\n",
    "                               \n",
    "    while not it.finished:\n",
    "        idx = it.multi_index\n",
    "        tmp_val = x[idx]\n",
    "        x[idx] = float((tmp_val)+dx)\n",
    "        fx1 = f(x)\n",
    "        \n",
    "        x[idx] = float((tmp_val)-dx)\n",
    "        fx2 = f(x)\n",
    "        gradf[idx] = (fx1-fx2)/(2*dx)\n",
    "        \n",
    "        x[idx] = tmp_val\n",
    "        it.iternext()\n",
    "    return gradf"
   ]
  },
  {
   "cell_type": "code",
   "execution_count": 13,
   "id": "fe9738a9-cad1-4a62-ba9e-7e68dcacb6f5",
   "metadata": {},
   "outputs": [],
   "source": [
    "class logicGate:\n",
    "    \n",
    "    def __init__(self, gate_name, xdata, tdata, learning_rate=0.01, threshold=0.5):\n",
    "        self.name = gate_name\n",
    "        \n",
    "        self.__xdata=xdata.reshape(4,2)\n",
    "        self.__tdata=tdata.reshape(4,1)\n",
    "        \n",
    "        self.__w=np.random.rand(2,1)\n",
    "        self.__b=np.random.rand(1)\n",
    "        \n",
    "        self.__learning_rate = learning_rate\n",
    "        self.__threshold = threshold\n",
    "        \n",
    "    def __loss_func(self):\n",
    "        delta = 1e-7\n",
    "        \n",
    "        z = np.dot(self.__xdata, self.__w) + self.__b\n",
    "        y = sigmoid(z)\n",
    "        return -np.sum(self.__tdata*np.log(y+delta) + (1-self.__tdata)*np.log((1-y)+delta))\n",
    "\n",
    "    def err_val(self):\n",
    "        delta = 1e-7\n",
    "        \n",
    "        z = np.dot(self.__xdata, self.__w)+self.__b\n",
    "        y = sigmoid(z)\n",
    "        return -np.sum(self.__tdata + np.log(y+delta) + (1-self.__tdata)*np.log((1-y)+delta))\n",
    "    \n",
    "    def train(self):\n",
    "        f = lambda x : self.__loss_func()\n",
    "        print(\"init error : \", self.err_val())\n",
    "        \n",
    "        for stp in range(20000):\n",
    "            self.__w -= self.__learning_rate * numerical_derivative(f, self.__w)\n",
    "            self.__b -= self.__learning_rate * numerical_derivative(f, self.__b)\n",
    "            if (stp % 2000 == 0):\n",
    "                print(\"step : \", stp, \"error : \", self.err_val(), f)\n",
    "            \n",
    "    def predict(self, input_data):\n",
    "        z = np.dot(input_data, self.__w) + self.__b\n",
    "        y = sigmoid(z)\n",
    "        \n",
    "        if y[0] > self.__threshold:\n",
    "            result = 1\n",
    "        else:\n",
    "            result = 0\n",
    "        return y, result"
   ]
  },
  {
   "cell_type": "code",
   "execution_count": 14,
   "id": "a994018b-78dd-4106-8e25-d54108fd757d",
   "metadata": {},
   "outputs": [
    {
     "name": "stdout",
     "output_type": "stream",
     "text": [
      "init error :  5.864913189314301\n",
      "step :  0 error :  5.848312299448004 <function logicGate.train.<locals>.<lambda> at 0x7fc60d56c040>\n",
      "step :  2000 error :  7.34769911623797 <function logicGate.train.<locals>.<lambda> at 0x7fc60d56c040>\n",
      "step :  4000 error :  9.719058721124027 <function logicGate.train.<locals>.<lambda> at 0x7fc60d56c040>\n",
      "step :  6000 error :  11.386984958077495 <function logicGate.train.<locals>.<lambda> at 0x7fc60d56c040>\n",
      "step :  8000 error :  12.66315921691736 <function logicGate.train.<locals>.<lambda> at 0x7fc60d56c040>\n",
      "step :  10000 error :  13.692966924009392 <function logicGate.train.<locals>.<lambda> at 0x7fc60d56c040>\n",
      "step :  12000 error :  14.554414138110129 <function logicGate.train.<locals>.<lambda> at 0x7fc60d56c040>\n",
      "step :  14000 error :  15.293863547583936 <function logicGate.train.<locals>.<lambda> at 0x7fc60d56c040>\n",
      "step :  16000 error :  15.940991238550586 <function logicGate.train.<locals>.<lambda> at 0x7fc60d56c040>\n",
      "step :  18000 error :  16.515883962536904 <function logicGate.train.<locals>.<lambda> at 0x7fc60d56c040>\n",
      "[0 0]   :  0\n",
      "[0 1]   :  0\n",
      "[1 0]   :  0\n",
      "[1 1]   :  1\n",
      "init error :  3.936486771682069\n",
      "step :  0 error :  3.8216520956825066 <function logicGate.train.<locals>.<lambda> at 0x7fc60d56c040>\n",
      "step :  2000 error :  -1.0903318269530569 <function logicGate.train.<locals>.<lambda> at 0x7fc60d56c040>\n",
      "step :  4000 error :  -0.7015129664207539 <function logicGate.train.<locals>.<lambda> at 0x7fc60d56c040>\n",
      "step :  6000 error :  -0.39310898011387885 <function logicGate.train.<locals>.<lambda> at 0x7fc60d56c040>\n",
      "step :  8000 error :  -0.14983461384747343 <function logicGate.train.<locals>.<lambda> at 0x7fc60d56c040>\n",
      "step :  10000 error :  0.04892827584750148 <function logicGate.train.<locals>.<lambda> at 0x7fc60d56c040>\n",
      "step :  12000 error :  0.21629613416891924 <function logicGate.train.<locals>.<lambda> at 0x7fc60d56c040>\n",
      "step :  14000 error :  0.3605652636970801 <function logicGate.train.<locals>.<lambda> at 0x7fc60d56c040>\n",
      "step :  16000 error :  0.487207508844986 <function logicGate.train.<locals>.<lambda> at 0x7fc60d56c040>\n",
      "step :  18000 error :  0.5999900193451677 <function logicGate.train.<locals>.<lambda> at 0x7fc60d56c040>\n",
      "[0 0]   :  0\n",
      "[0 1]   :  1\n",
      "[1 0]   :  1\n",
      "[1 1]   :  1\n"
     ]
    }
   ],
   "source": [
    "xdata = np.array([[0,0],[0,1],[1,0],[1,1]])\n",
    "tdata = np.array([[0,0,0,1]])\n",
    "\n",
    "AND = logicGate(\"AND\", xdata, tdata)\n",
    "AND.train()\n",
    "\n",
    "for in_data in xdata:\n",
    "    (sig_val, logic_val) = AND.predict(in_data)\n",
    "    print(in_data , \"  : \", logic_val)\n",
    "\n",
    "xdata = np.array([[0,0],[0,1],[1,0],[1,1]])\n",
    "tdata = np.array([[0,1,1,1]])\n",
    "\n",
    "OR = logicGate(\"OR\", xdata, tdata)\n",
    "OR.train()\n",
    "\n",
    "for in_data in xdata:\n",
    "    (sig_val, logic_val) = OR.predict(in_data)\n",
    "    print(in_data , \"  : \", logic_val)"
   ]
  },
  {
   "cell_type": "code",
   "execution_count": null,
   "id": "40773e9d-0af6-4a6c-a1f9-7d182fbf83c8",
   "metadata": {},
   "outputs": [],
   "source": []
  }
 ],
 "metadata": {
  "kernelspec": {
   "display_name": "Python 3 (ipykernel)",
   "language": "python",
   "name": "python3"
  },
  "language_info": {
   "codemirror_mode": {
    "name": "ipython",
    "version": 3
   },
   "file_extension": ".py",
   "mimetype": "text/x-python",
   "name": "python",
   "nbconvert_exporter": "python",
   "pygments_lexer": "ipython3",
   "version": "3.10.12"
  }
 },
 "nbformat": 4,
 "nbformat_minor": 5
}

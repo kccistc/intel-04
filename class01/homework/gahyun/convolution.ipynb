{
 "cells": [
  {
   "cell_type": "code",
   "execution_count": 1,
   "id": "09645168-62e6-42cb-8c5f-9683c7883e7a",
   "metadata": {},
   "outputs": [
    {
     "name": "stdout",
     "output_type": "stream",
     "text": [
      "[[ 1  1  1]\n",
      " [ 1 -8  1]\n",
      " [ 1  1  1]]\n"
     ]
    },
    {
     "data": {
      "text/plain": [
       "113"
      ]
     },
     "execution_count": 1,
     "metadata": {},
     "output_type": "execute_result"
    }
   ],
   "source": [
    "import cv2\n",
    "import numpy as np\n",
    "\n",
    "img = cv2.imread('bw_image.jpg', cv2.IMREAD_GRAYSCALE)\n",
    "kernel = np.array([[1,1,1],[1,-8,1],[1,1,1]])\n",
    "print(kernel)\n",
    "output = cv2.filter2D(img, -1, kernel)\n",
    "cv2.imshow('edge', output)\n",
    "cv2.waitKey(0)\n"
   ]
  },
  {
   "cell_type": "code",
   "execution_count": 1,
   "id": "5eca2275-ae6f-4b4c-b346-b5c2cb490dc3",
   "metadata": {},
   "outputs": [
    {
     "name": "stdout",
     "output_type": "stream",
     "text": [
      "[[0 0 0]\n",
      " [0 1 0]\n",
      " [0 0 0]]\n"
     ]
    },
    {
     "data": {
      "text/plain": [
       "113"
      ]
     },
     "execution_count": 1,
     "metadata": {},
     "output_type": "execute_result"
    }
   ],
   "source": [
    "# identity\n",
    "import cv2\n",
    "import numpy as np\n",
    "\n",
    "img = cv2.imread('bw_image.jpg', cv2.IMREAD_GRAYSCALE)\n",
    "kernel = np.array([[0,0,0],[0,1,0],[0,0,0]])\n",
    "print(kernel)\n",
    "output = cv2.filter2D(img, -1, kernel)\n",
    "cv2.imshow('edge', output)\n",
    "cv2.waitKey(0)\n"
   ]
  },
  {
   "cell_type": "code",
   "execution_count": 1,
   "id": "91012e2c-4c30-45a7-a2bd-0185ad61754b",
   "metadata": {},
   "outputs": [
    {
     "name": "stdout",
     "output_type": "stream",
     "text": [
      "[[ 0 -1  0]\n",
      " [-1  4 -1]\n",
      " [ 0 -1  0]]\n"
     ]
    },
    {
     "data": {
      "text/plain": [
       "113"
      ]
     },
     "execution_count": 1,
     "metadata": {},
     "output_type": "execute_result"
    }
   ],
   "source": [
    "# Ridge or edge detection\n",
    "import cv2\n",
    "import numpy as np\n",
    "\n",
    "img = cv2.imread('bw_image.jpg', cv2.IMREAD_GRAYSCALE)\n",
    "kernel = np.array([[0,-1,0],[-1,4,-1],[0,-1,0]])\n",
    "print(kernel)\n",
    "output = cv2.filter2D(img, -1, kernel)\n",
    "cv2.imshow('edge', output)\n",
    "cv2.waitKey(0)\n"
   ]
  },
  {
   "cell_type": "code",
   "execution_count": 1,
   "id": "fdcd86b4-0fbe-4c11-a8be-395dcee721f4",
   "metadata": {},
   "outputs": [
    {
     "name": "stdout",
     "output_type": "stream",
     "text": [
      "[[-1 -1 -1]\n",
      " [-1  8 -1]\n",
      " [-1 -1 -1]]\n"
     ]
    },
    {
     "data": {
      "text/plain": [
       "113"
      ]
     },
     "execution_count": 1,
     "metadata": {},
     "output_type": "execute_result"
    }
   ],
   "source": [
    "# Ridge or edge detection\n",
    "import cv2\n",
    "import numpy as np\n",
    "\n",
    "img = cv2.imread('bw_image.jpg', cv2.IMREAD_GRAYSCALE)\n",
    "kernel = np.array([[-1,-1,-1],[-1,8,-1],[-1,-1,-1]])\n",
    "print(kernel)\n",
    "output = cv2.filter2D(img, -1, kernel)\n",
    "cv2.imshow('edge', output)\n",
    "cv2.waitKey(0)"
   ]
  },
  {
   "cell_type": "code",
   "execution_count": 1,
   "id": "5982e074-777c-4653-8099-299b23968505",
   "metadata": {},
   "outputs": [
    {
     "name": "stdout",
     "output_type": "stream",
     "text": [
      "[[ 0 -1  0]\n",
      " [-1  5 -1]\n",
      " [ 0 -1  0]]\n"
     ]
    },
    {
     "data": {
      "text/plain": [
       "113"
      ]
     },
     "execution_count": 1,
     "metadata": {},
     "output_type": "execute_result"
    }
   ],
   "source": [
    "#sharpen\n",
    "import cv2\n",
    "import numpy as np\n",
    "\n",
    "img = cv2.imread('bw_image.jpg', cv2.IMREAD_GRAYSCALE)\n",
    "kernel = np.array([[0,-1,0],[-1,5,-1],[0,-1,0]])\n",
    "print(kernel)\n",
    "output = cv2.filter2D(img, -1, kernel)\n",
    "cv2.imshow('edge', output)\n",
    "cv2.waitKey(0)"
   ]
  },
  {
   "cell_type": "code",
   "execution_count": null,
   "id": "6ec8b014-c748-4036-9e36-fa3226152582",
   "metadata": {},
   "outputs": [],
   "source": [
    "#box blur\n",
    "import cv2\n",
    "import numpy as np\n",
    "\n",
    "img = cv2.imread('bw_image.jpg', cv2.IMREAD_GRAYSCALE)\n",
    "kernel = np.array([[1,1,1],[1,1,1],[1,1,1]])\n",
    "print(kernel)\n",
    "output = cv2.filter2D(img, -1, (1/9)*kernel)\n",
    "cv2.imshow('edge', output)\n",
    "cv2.waitKey(0)"
   ]
  },
  {
   "cell_type": "code",
   "execution_count": null,
   "id": "4e98b0c8-0baf-4bdd-8fa5-d24fcc98d5ca",
   "metadata": {},
   "outputs": [],
   "source": [
    "#caussian blur(3x3)\n",
    "import cv2\n",
    "import numpy as np\n",
    "\n",
    "img = cv2.imread('bw_image.jpg', cv2.IMREAD_GRAYSCALE)\n",
    "kernel = np.array([[1,8,1],[2,4,2],[1,2,1]])\n",
    "print(kernel)\n",
    "output = cv2.filter2D(img, -1, (1/16)*kernel)\n",
    "cv2.imshow('edge', output)\n",
    "cv2.waitKey(0)"
   ]
  },
  {
   "cell_type": "code",
   "execution_count": null,
   "id": "28a0f3d3-1fb5-41a0-99e4-28e491f6b7e7",
   "metadata": {},
   "outputs": [],
   "source": [
    "#caussian blur(5x5)\n",
    "import cv2\n",
    "import numpy as np\n",
    "\n",
    "img = cv2.imread('bw_image.jpg', cv2.IMREAD_GRAYSCALE)\n",
    "kernel = np.array([[1,4,6,4,1],[4,16,24,16,4],[6,24,36,24,6],[4,16,24,16,4],[1,4,6,4,1]])\n",
    "print(kernel)\n",
    "output = cv2.filter2D(img, -1, (1/256)*kernel)\n",
    "cv2.imshow('edge', output)\n",
    "cv2.waitKey(0)"
   ]
  }
 ],
 "metadata": {
  "kernelspec": {
   "display_name": "Python 3 (ipykernel)",
   "language": "python",
   "name": "python3"
  },
  "language_info": {
   "codemirror_mode": {
    "name": "ipython",
    "version": 3
   },
   "file_extension": ".py",
   "mimetype": "text/x-python",
   "name": "python",
   "nbconvert_exporter": "python",
   "pygments_lexer": "ipython3",
   "version": "3.10.12"
  }
 },
 "nbformat": 4,
 "nbformat_minor": 5
}

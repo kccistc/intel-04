{
 "cells": [
  {
   "cell_type": "code",
   "execution_count": null,
   "id": "cacd54c3-8003-4f7e-b40f-10de5b0eee66",
   "metadata": {},
   "outputs": [],
   "source": [
    "''' ####label 기억용 개인간 차이 있음\n",
    "# 0 : 스트레칭 1번 팔 당기기\n",
    "  1 : 스트레칭 2번 옆구리\n",
    "  2 : O 표시\n",
    "  3 : 가만히 있기\n",
    "  4 : X 표시\n",
    "  5 : 팔벌려뛰기\n",
    "  6 : 한 발 서기\n",
    "  7 : 스쿼트\n",
    "  8 : 런지\n",
    "'''"
   ]
  },
  {
   "cell_type": "code",
   "execution_count": 3,
   "id": "0b99f2f6-5f6e-4261-857c-699430b45db8",
   "metadata": {},
   "outputs": [
    {
     "name": "stderr",
     "output_type": "stream",
     "text": [
      "I0000 00:00:1719552422.676770  317976 gl_context_egl.cc:85] Successfully initialized EGL. Major : 1 Minor: 5\n",
      "I0000 00:00:1719552422.704115  322745 gl_context.cc:357] GL version: 3.2 (OpenGL ES 3.2 NVIDIA 545.29.06), renderer: NVIDIA GeForce RTX 4060/PCIe/SSE2\n",
      "W0000 00:00:1719552422.756791  322724 inference_feedback_manager.cc:114] Feedback manager requires a model with a single signature inference. Disabling support for feedback tensors.\n",
      "W0000 00:00:1719552422.767279  322723 inference_feedback_manager.cc:114] Feedback manager requires a model with a single signature inference. Disabling support for feedback tensors.\n"
     ]
    },
    {
     "name": "stdout",
     "output_type": "stream",
     "text": [
      "카메라를 찾을 수 없습니다.\n",
      "0 (2269, 170)\n",
      "0 (2239, 30, 170)\n"
     ]
    },
    {
     "name": "stderr",
     "output_type": "stream",
     "text": [
      "I0000 00:00:1719552503.634888  317976 gl_context_egl.cc:85] Successfully initialized EGL. Major : 1 Minor: 5\n",
      "I0000 00:00:1719552503.654178  323021 gl_context.cc:357] GL version: 3.2 (OpenGL ES 3.2 NVIDIA 545.29.06), renderer: NVIDIA GeForce RTX 4060/PCIe/SSE2\n",
      "W0000 00:00:1719552503.707697  323008 inference_feedback_manager.cc:114] Feedback manager requires a model with a single signature inference. Disabling support for feedback tensors.\n",
      "W0000 00:00:1719552503.721853  323020 inference_feedback_manager.cc:114] Feedback manager requires a model with a single signature inference. Disabling support for feedback tensors.\n"
     ]
    },
    {
     "name": "stdout",
     "output_type": "stream",
     "text": [
      "카메라를 찾을 수 없습니다.\n",
      "1 (1690, 170)\n",
      "1 (1660, 30, 170)\n"
     ]
    },
    {
     "name": "stderr",
     "output_type": "stream",
     "text": [
      "I0000 00:00:1719552563.417607  317976 gl_context_egl.cc:85] Successfully initialized EGL. Major : 1 Minor: 5\n",
      "I0000 00:00:1719552563.441183  323235 gl_context.cc:357] GL version: 3.2 (OpenGL ES 3.2 NVIDIA 545.29.06), renderer: NVIDIA GeForce RTX 4060/PCIe/SSE2\n",
      "W0000 00:00:1719552563.493049  323222 inference_feedback_manager.cc:114] Feedback manager requires a model with a single signature inference. Disabling support for feedback tensors.\n",
      "W0000 00:00:1719552563.507342  323233 inference_feedback_manager.cc:114] Feedback manager requires a model with a single signature inference. Disabling support for feedback tensors.\n"
     ]
    },
    {
     "name": "stdout",
     "output_type": "stream",
     "text": [
      "카메라를 찾을 수 없습니다.\n",
      "2 (921, 170)\n",
      "2 (891, 30, 170)\n"
     ]
    },
    {
     "name": "stderr",
     "output_type": "stream",
     "text": [
      "I0000 00:00:1719552595.882115  317976 gl_context_egl.cc:85] Successfully initialized EGL. Major : 1 Minor: 5\n",
      "I0000 00:00:1719552595.902168  323400 gl_context.cc:357] GL version: 3.2 (OpenGL ES 3.2 NVIDIA 545.29.06), renderer: NVIDIA GeForce RTX 4060/PCIe/SSE2\n",
      "W0000 00:00:1719552595.955171  323376 inference_feedback_manager.cc:114] Feedback manager requires a model with a single signature inference. Disabling support for feedback tensors.\n",
      "W0000 00:00:1719552595.969165  323383 inference_feedback_manager.cc:114] Feedback manager requires a model with a single signature inference. Disabling support for feedback tensors.\n"
     ]
    },
    {
     "name": "stdout",
     "output_type": "stream",
     "text": [
      "카메라를 찾을 수 없습니다.\n",
      "3 (1013, 170)\n",
      "3 (983, 30, 170)\n"
     ]
    },
    {
     "name": "stderr",
     "output_type": "stream",
     "text": [
      "I0000 00:00:1719552631.738639  317976 gl_context_egl.cc:85] Successfully initialized EGL. Major : 1 Minor: 5\n",
      "I0000 00:00:1719552631.760622  323519 gl_context.cc:357] GL version: 3.2 (OpenGL ES 3.2 NVIDIA 545.29.06), renderer: NVIDIA GeForce RTX 4060/PCIe/SSE2\n",
      "W0000 00:00:1719552631.815453  323498 inference_feedback_manager.cc:114] Feedback manager requires a model with a single signature inference. Disabling support for feedback tensors.\n",
      "W0000 00:00:1719552631.825460  323499 inference_feedback_manager.cc:114] Feedback manager requires a model with a single signature inference. Disabling support for feedback tensors.\n"
     ]
    },
    {
     "name": "stdout",
     "output_type": "stream",
     "text": [
      "카메라를 찾을 수 없습니다.\n",
      "4 (918, 170)\n",
      "4 (888, 30, 170)\n"
     ]
    },
    {
     "name": "stderr",
     "output_type": "stream",
     "text": [
      "I0000 00:00:1719552663.832298  317976 gl_context_egl.cc:85] Successfully initialized EGL. Major : 1 Minor: 5\n",
      "I0000 00:00:1719552663.850546  323676 gl_context.cc:357] GL version: 3.2 (OpenGL ES 3.2 NVIDIA 545.29.06), renderer: NVIDIA GeForce RTX 4060/PCIe/SSE2\n",
      "W0000 00:00:1719552663.903512  323655 inference_feedback_manager.cc:114] Feedback manager requires a model with a single signature inference. Disabling support for feedback tensors.\n",
      "W0000 00:00:1719552663.917961  323657 inference_feedback_manager.cc:114] Feedback manager requires a model with a single signature inference. Disabling support for feedback tensors.\n"
     ]
    },
    {
     "name": "stdout",
     "output_type": "stream",
     "text": [
      "카메라를 찾을 수 없습니다.\n",
      "5 (1979, 170)\n",
      "5 (1949, 30, 170)\n"
     ]
    },
    {
     "name": "stderr",
     "output_type": "stream",
     "text": [
      "I0000 00:00:1719552732.235557  317976 gl_context_egl.cc:85] Successfully initialized EGL. Major : 1 Minor: 5\n",
      "I0000 00:00:1719552732.256273  323909 gl_context.cc:357] GL version: 3.2 (OpenGL ES 3.2 NVIDIA 545.29.06), renderer: NVIDIA GeForce RTX 4060/PCIe/SSE2\n",
      "W0000 00:00:1719552732.307540  323899 inference_feedback_manager.cc:114] Feedback manager requires a model with a single signature inference. Disabling support for feedback tensors.\n",
      "W0000 00:00:1719552732.321775  323886 inference_feedback_manager.cc:114] Feedback manager requires a model with a single signature inference. Disabling support for feedback tensors.\n"
     ]
    },
    {
     "name": "stdout",
     "output_type": "stream",
     "text": [
      "카메라를 찾을 수 없습니다.\n",
      "6 (1967, 170)\n",
      "6 (1937, 30, 170)\n"
     ]
    },
    {
     "name": "stderr",
     "output_type": "stream",
     "text": [
      "I0000 00:00:1719552801.070321  317976 gl_context_egl.cc:85] Successfully initialized EGL. Major : 1 Minor: 5\n",
      "I0000 00:00:1719552801.087366  324147 gl_context.cc:357] GL version: 3.2 (OpenGL ES 3.2 NVIDIA 545.29.06), renderer: NVIDIA GeForce RTX 4060/PCIe/SSE2\n",
      "W0000 00:00:1719552801.137231  324136 inference_feedback_manager.cc:114] Feedback manager requires a model with a single signature inference. Disabling support for feedback tensors.\n",
      "W0000 00:00:1719552801.146624  324145 inference_feedback_manager.cc:114] Feedback manager requires a model with a single signature inference. Disabling support for feedback tensors.\n"
     ]
    },
    {
     "name": "stdout",
     "output_type": "stream",
     "text": [
      "카메라를 찾을 수 없습니다.\n",
      "7 (1989, 170)\n",
      "7 (1959, 30, 170)\n"
     ]
    },
    {
     "name": "stderr",
     "output_type": "stream",
     "text": [
      "I0000 00:00:1719552870.571460  317976 gl_context_egl.cc:85] Successfully initialized EGL. Major : 1 Minor: 5\n",
      "I0000 00:00:1719552870.590661  324385 gl_context.cc:357] GL version: 3.2 (OpenGL ES 3.2 NVIDIA 545.29.06), renderer: NVIDIA GeForce RTX 4060/PCIe/SSE2\n",
      "W0000 00:00:1719552870.637563  324366 inference_feedback_manager.cc:114] Feedback manager requires a model with a single signature inference. Disabling support for feedback tensors.\n",
      "W0000 00:00:1719552870.648621  324381 inference_feedback_manager.cc:114] Feedback manager requires a model with a single signature inference. Disabling support for feedback tensors.\n"
     ]
    },
    {
     "name": "stdout",
     "output_type": "stream",
     "text": [
      "카메라를 찾을 수 없습니다.\n",
      "8 (1849, 170)\n",
      "8 (1819, 30, 170)\n"
     ]
    }
   ],
   "source": [
    "import cv2\n",
    "import mediapipe as mp\n",
    "import numpy as np\n",
    "import time, os\n",
    "\n",
    "seq_length = 30\n",
    "\n",
    "# MediaPipe hands model\n",
    "mp_drawing = mp.solutions.drawing_utils\n",
    "mp_drawing_styles = mp.solutions.drawing_styles\n",
    "mp_pose = mp.solutions.pose\n",
    "\n",
    "created_time = int(time.time())\n",
    "os.makedirs('dataset', exist_ok=True)\n",
    "\n",
    "folder_path='./resource/video/'\n",
    "\n",
    "video_paths = []\n",
    "for filename in os.listdir(folder_path):\n",
    "    if filename.endswith(('.mp4')):  # 비디오 파일 포맷에 따라 확장자를 추가할 수 있음\n",
    "        video_paths.append(os.path.join(folder_path, filename))\n",
    "\n",
    "\n",
    "for idx, video_path in enumerate(video_paths):\n",
    "    cap = cv2.VideoCapture(video_path)\n",
    "    data = []\n",
    "    #####\n",
    "    with mp_pose.Pose(\n",
    "            min_detection_confidence=0.5,\n",
    "            min_tracking_confidence=0.5) as pose:\n",
    "        while cap.isOpened():\n",
    "            \n",
    "            ret, image = cap.read()\n",
    "            if not ret:\n",
    "                print(\"카메라를 찾을 수 없습니다.\")\n",
    "                break\n",
    "            image.flags.writeable = False\n",
    "            image = cv2.cvtColor(image, cv2.COLOR_BGR2RGB)\n",
    "            result = pose.process(image)\n",
    "            image.flags.writeable = True\n",
    "            image = cv2.cvtColor(image, cv2.COLOR_RGB2BGR)\n",
    "            mp_drawing.draw_landmarks(\n",
    "                image,\n",
    "                result.pose_landmarks,\n",
    "                mp_pose.POSE_CONNECTIONS,\n",
    "                landmark_drawing_spec=mp_drawing_styles.get_default_pose_landmarks_style())\n",
    "    \n",
    "            if result.pose_landmarks is not None:\n",
    "                \n",
    "                joint = np.zeros((33, 4))\n",
    "                for j, lm in enumerate(result.pose_landmarks.landmark):\n",
    "                    joint[j] = [lm.x, lm.y, lm.z, lm.visibility]\n",
    "                    \n",
    "                # Compute an0  1  2  3  4  5  6  7  8  9  10 11 12 13 14 15 16 17 18 19 20 21 22 23 24 25    \n",
    "                v1 = joint[[11,11,11,12,12,13,14,15,15,15,16,16,16,17,18,23,23,24,25,26,27,27,28,28,29,30], :3] # Parent joint\n",
    "                v2 = joint[[12,13,23,14,24,15,16,17,19,21,18,20,22,19,20,24,25,26,27,28,29,31,30,32,31,32], :3] # Child joint\n",
    "                v = v2 - v1 # [26, 3]\n",
    "                # Normalize v\n",
    "                v = v / np.linalg.norm(v, axis=1)[:, np.newaxis]\n",
    "    \n",
    "                # Get angle using arcos of dot product\n",
    "                angle = np.arccos(np.einsum('nt,nt->n',\n",
    "                v[[0,0,0,0,1,1,3,5,5,5, 6, 6, 6,7,7, 7,8, 8,10,10,10,11,11,15,15,16,17,18,18,19,19,20,20,21,22,22,23 ],:], \n",
    "                v[[1,2,3,4,2,5,6,7,8,9,10,11,12,8,9,13,9,13,11,12,14,12,14,16,17,18,19,20,21,22,23,21,24,24,23,25,25 ],:])) \n",
    "    \n",
    "                angle = np.degrees(angle) # Convert radian to degree\n",
    "    \n",
    "                angle_label = np.array([angle], dtype=np.float32)\n",
    "                angle_label = np.append(angle_label, idx)\n",
    "    \n",
    "                d = np.concatenate([joint.flatten(), angle_label])\n",
    "    \n",
    "                data.append(d)\n",
    "    \n",
    "            cv2.imshow('MediaPipe Pose', cv2.flip(image, 1))\n",
    "            if cv2.waitKey(1) == ord('q'):\n",
    "                break\n",
    "        \n",
    "    data = np.array(data)\n",
    "    print(idx, data.shape)\n",
    "    np.save(os.path.join('dataset', f'raw_{idx}_{created_time}'), data)\n",
    "    \n",
    "    # Create sequence data\n",
    "    full_seq_data = []\n",
    "    for seq in range(len(data) - seq_length):\n",
    "        full_seq_data.append(data[seq:seq + seq_length])\n",
    "    \n",
    "    full_seq_data = np.array(full_seq_data)\n",
    "    print(idx, full_seq_data.shape)\n",
    "    np.save(os.path.join('dataset', f'seq_{idx}'), full_seq_data)\n",
    "    ######\n",
    "\n",
    "\n",
    "cap.release()\n",
    "cv2.destroyAllWindows()"
   ]
  }
 ],
 "metadata": {
  "kernelspec": {
   "display_name": "Python 3 (ipykernel)",
   "language": "python",
   "name": "python3"
  },
  "language_info": {
   "codemirror_mode": {
    "name": "ipython",
    "version": 3
   },
   "file_extension": ".py",
   "mimetype": "text/x-python",
   "name": "python",
   "nbconvert_exporter": "python",
   "pygments_lexer": "ipython3",
   "version": "3.10.12"
  }
 },
 "nbformat": 4,
 "nbformat_minor": 5
}

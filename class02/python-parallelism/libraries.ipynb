{
 "cells": [
  {
   "cell_type": "markdown",
   "metadata": {},
   "source": [
    "# Libraries\n",
    "\n",
    "본 실습에서는 다음 두개의 Python 라이브러리들을 사용합니다.\n",
    "\n",
    "1. tqdm: 프로그레스바를 표시해 주는 라이브러리 ([참조링크](https://github.com/tqdm/tqdm))\n",
    "\n",
    "1. pytube: YouTube에서 video 컨텐츠를 다운로드 할 수 있도록 해주는 라이브러리 ([참조링크](https://pytube.io/en/latest/index.html))"
   ]
  },
  {
   "cell_type": "markdown",
   "metadata": {},
   "source": [
    "## tqdm Overview"
   ]
  },
  {
   "cell_type": "code",
   "execution_count": null,
   "metadata": {},
   "outputs": [],
   "source": [
    "from tqdm import tqdm\n",
    "from time import sleep"
   ]
  },
  {
   "cell_type": "code",
   "execution_count": null,
   "metadata": {},
   "outputs": [],
   "source": [
    "# 다음 코드는 0.05초 마다 한번 씩 프로그레스 바를 업데이트 합니다.\n",
    "for _ in tqdm(range(100)):\n",
    "    sleep(0.05)"
   ]
  },
  {
   "cell_type": "code",
   "execution_count": null,
   "metadata": {},
   "outputs": [],
   "source": [
    "# tqdm을 객체로 선언하고 update()를 호출해서 프로그레스를 업데이트 할 수도 있습니다.\n",
    "pbar = tqdm(total=100)\n",
    "\n",
    "for _ in range(10):\n",
    "    sleep(0.1)\n",
    "    pbar.update(10)\n",
    "pbar.close()\n"
   ]
  },
  {
   "cell_type": "code",
   "execution_count": null,
   "metadata": {},
   "outputs": [],
   "source": [
    "# 혹은, with keyword를 사용해서 close() 호출을 없앨 수도 있습니다.\n",
    "with tqdm(total=100) as pbar:\n",
    "    for _ in range(10):\n",
    "        sleep(0.1)\n",
    "        pbar.update(10)"
   ]
  },
  {
   "cell_type": "markdown",
   "metadata": {},
   "source": [
    "## pytube overview\n",
    "시간이 오래 걸리는 일을 모사하기 위해 pytube로 YouTube video를 다운로드 하는 경우를 가정했습니다.\n"
   ]
  },
  {
   "cell_type": "code",
   "execution_count": null,
   "metadata": {},
   "outputs": [],
   "source": [
    "from pytube import YouTube\n",
    "from IPython.display import Image"
   ]
  },
  {
   "cell_type": "code",
   "execution_count": null,
   "metadata": {},
   "outputs": [],
   "source": [
    "# YouTube clip links\n",
    "\n",
    "# LOL 2023 Anthem\n",
    "lol2023 = \"https://www.youtube.com/watch?v=C3GouGa0noM\"\n",
    "\n",
    "# 르세라핌 x Overwatch2\n",
    "perfect_night = \"https://www.youtube.com/watch?v=hLvWy2b857I\"\n",
    "\n",
    "# 8마일 랩배틀 에미넴모음 (연령제한?)\n",
    "eight_miles = \"https://www.youtube.com/watch?v=tWFejQSKIYg\""
   ]
  },
  {
   "cell_type": "code",
   "execution_count": null,
   "metadata": {},
   "outputs": [],
   "source": [
    "url = perfect_night\n",
    "youtube_clip = YouTube(url) # 유튜브 객체 생성"
   ]
  },
  {
   "cell_type": "code",
   "execution_count": null,
   "metadata": {},
   "outputs": [],
   "source": [
    "# Video clip에 대한 더 많은 정보는 다음의 링크를 참조 하세요.\n",
    "# https://pytube.io/en/latest/api.html?highlight=author#youtube-object\n",
    "print(f\"제목:\\t{youtube_clip.title}\")\n",
    "print(f\"설명:\\t\" \"<없음>\" if youtube_clip.description is None else \"f{youtube_clip.description}\")\n",
    "print(f\"길이:\\t약 {youtube_clip.length//60}분\")\n",
    "print(f\"연령제한:\\t\" \"없음\" if youtube_clip.age_restricted is False else \"<제한됨>\")\n",
    "\n",
    "# 썸네일\n",
    "thumbnailUrl = youtube_clip.thumbnail_url\n",
    "#print(f\"{thumbnailUrl}\")\n",
    "thumbnailImg = Image(url=thumbnailUrl, width=500)\n",
    "display(thumbnailImg)\n",
    "\n",
    "# 유튜브 객체 youtube_clip의 정보들을 확인 가능 (위에는 간단한것들이 더 많은 정보들을 볼수있다.)"
   ]
  },
  {
   "cell_type": "code",
   "execution_count": null,
   "metadata": {},
   "outputs": [],
   "source": [
    "# Streams\n",
    "for i, item in enumerate(youtube_clip.streams): # streams의 목록들을 인덱스와 item로 반환\n",
    "    print(f\"[1]: {item}\")   # [1] {i}"
   ]
  },
  {
   "cell_type": "code",
   "execution_count": null,
   "metadata": {},
   "outputs": [],
   "source": [
    "# 특정한 비디오 스트림을 지정해서 다운로드를 수행합니다. 필터링하는 다양한 방법들은 아래의 링크를 참조하세요.\n",
    "# https://pytube.io/en/latest/api.html?highlight=highest%20resolution#streamquery-object\n",
    "\n",
    "download_dir = \"videos\"\n",
    "\n",
    "# E.g. download a highest resolution video.\n",
    "youtube_clip.streams.get_highest_resolution().download(download_dir)"
   ]
  },
  {
   "cell_type": "code",
   "execution_count": null,
   "metadata": {},
   "outputs": [],
   "source": [
    "# Filter를 이용한 stream 선택\n",
    "#\n",
    "# E.g. download the first in progressive mp4 file.\n",
    "# youtube_clip.streams.filter(progressive=True, file_extension='mp4').first().download(download_dir)\n",
    "#\n",
    "# PyTube 연습문제\n",
    "# perfect_night stream들 중\n",
    "# <Stream: itag=\"140\" mime_type=\"audio/mp4\" abr=\"128kbps\" acodec=\"mp4a.40.2\" progressive=\"False\" type=\"audio\">를 \n",
    "# 두 가지 이상의 방법으로 \"audio\" 디렉토리에 다운로드 받아 보자.\n",
    "#   Hint 1. get_by_itag()\n",
    "#   Hint 2. filter()"
   ]
  },
  {
   "cell_type": "markdown",
   "metadata": {},
   "source": [
    "### Callbacks\n",
    "\n",
    "다운로드의 진행과 완료때 호출 될 callback을 지정할 수 있습니다. 다음과 같이 생성자에서 on_progress_callback 혹은 on_complete_callback에 callback 함수를 연결해 주면 됩니다.\n",
    "\n",
    "```\n",
    "class YouTube:\n",
    "    \"\"\"Core developer interface for pytube.\"\"\"\n",
    "\n",
    "    def __init__(\n",
    "        self,\n",
    "        url: str,\n",
    "        on_progress_callback: Optional[Callable[[Any, bytes, int], None]] = None,\n",
    "        on_complete_callback: Optional[Callable[[Any, Optional[str]], None]] = None,\n",
    "        proxies: Dict[str, str] = None,\n",
    "        use_oauth: bool = False,\n",
    "        allow_oauth_cache: bool = True\n",
    "    ):\n",
    "```"
   ]
  },
  {
   "cell_type": "code",
   "execution_count": null,
   "metadata": {},
   "outputs": [],
   "source": [
    "# 한국에서 망했다가 떡상한 발로란트, 아직도 갓겜일까?\n",
    "video_url = \"https://www.youtube.com/watch?v=nXC3Gaot1lQ\"\n",
    "\n",
    "# Progress callback\n",
    "def on_progress(stream, chunk, bytes_remaining):\n",
    "    print(f\"Progress: about {bytes_remaining // (1024*1024)} MB remaining\")\n",
    "\n",
    "# Completion callback\n",
    "def on_complete(stream, file_handle):\n",
    "    print(\"Downloaded!\")\n",
    "\n",
    "youtube_clip = YouTube(video_url,\n",
    "                       on_progress_callback=on_progress,\n",
    "                       on_complete_callback=on_complete)\n",
    "\n",
    "youtube_clip.streams.get_highest_resolution().download(\"videos\")"
   ]
  }
 ],
 "metadata": {
  "kernelspec": {
   "display_name": ".venv",
   "language": "python",
   "name": "python3"
  },
  "language_info": {
   "codemirror_mode": {
    "name": "ipython",
    "version": 3
   },
   "file_extension": ".py",
   "mimetype": "text/x-python",
   "name": "python",
   "nbconvert_exporter": "python",
   "pygments_lexer": "ipython3",
   "version": "3.9.18"
  },
  "orig_nbformat": 4
 },
 "nbformat": 4,
 "nbformat_minor": 2
}

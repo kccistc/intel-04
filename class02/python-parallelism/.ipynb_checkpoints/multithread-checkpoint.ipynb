{
 "cells": [
  {
   "cell_type": "markdown",
   "metadata": {},
   "source": [
    "# Multithreading"
   ]
  },
  {
   "cell_type": "code",
   "execution_count": null,
   "metadata": {},
   "outputs": [],
   "source": [
    "\n",
    "import threading\n",
    "import os\n",
    "import queue\n",
    "from tqdm import tqdm\n",
    "from functools import partial\n",
    "from pytube import YouTube\n",
    "import time\n",
    "from threading import Lock\n",
    "import concurrent.futures\n"
   ]
  },
  {
   "cell_type": "markdown",
   "metadata": {},
   "source": [
    "### Parallelism Concept"
   ]
  },
  {
   "cell_type": "markdown",
   "metadata": {},
   "source": [
    "- Sequential vs Parallel"
   ]
  },
  {
   "cell_type": "code",
   "execution_count": null,
   "metadata": {},
   "outputs": [],
   "source": [
    "def say_numbers():\n",
    "    # Count 1~5\n",
    "    for i in range(1,6,1):\n",
    "        print(f\"Number: #{i}\")\n",
    "        time.sleep(0.1)\n",
    "\n",
    "def say_alphabet():\n",
    "    # Count a~e\n",
    "    for i in range(ord(\"a\"), ord(\"f\")):\n",
    "        print(f\"Alphabet: {chr(i)}\")\n",
    "        time.sleep(0.1)"
   ]
  },
  {
   "cell_type": "code",
   "execution_count": null,
   "metadata": {},
   "outputs": [],
   "source": [
    "\n",
    "print(\"-\"*10+\"Sequential execution\"+\"-\"*10)\n",
    "seq = time.time()\n",
    "say_numbers()\n",
    "say_alphabet()\n",
    "print(\"execution time :\", time.time() - seq)\n"
   ]
  },
  {
   "cell_type": "code",
   "execution_count": null,
   "metadata": {},
   "outputs": [],
   "source": [
    "print(\"-\"*10+\"Parallel execution\"+\"-\"*10)\n",
    "par = time.time()\n",
    "t1 = threading.Thread(target=say_numbers)\n",
    "t2 = threading.Thread(target=say_alphabet)\n",
    "t1.start()\n",
    "t2.start()\n",
    "t1.join()\n",
    "t2.join()\n",
    "print(\"execution time :\", time.time() - par)"
   ]
  },
  {
   "cell_type": "markdown",
   "metadata": {},
   "source": [
    "- Accessing memory"
   ]
  },
  {
   "cell_type": "code",
   "execution_count": null,
   "metadata": {},
   "outputs": [],
   "source": [
    "import multiprocessing\n",
    "\n",
    "def append_one(l):\n",
    "    l.append(1)\n",
    "\n",
    "def append_two(l):\n",
    "    l.append(2)"
   ]
  },
  {
   "cell_type": "code",
   "execution_count": null,
   "metadata": {},
   "outputs": [],
   "source": [
    "# Different threads are able to access on list address\n",
    "print(\"-\"*10+\"Multi-threading\"+\"-\"*10)\n",
    "list1 = []\n",
    "t1 = threading.Thread(target=append_one, args=(list1,))\n",
    "t2 = threading.Thread(target=append_two, args=(list1,))\n",
    "t1.start()\n",
    "t2.start()\n",
    "t1.join()\n",
    "t2.join()\n",
    "print(f\"Multi-threading result:{list1}\")"
   ]
  },
  {
   "cell_type": "code",
   "execution_count": null,
   "metadata": {},
   "outputs": [],
   "source": [
    "# Different processes can't.\n",
    "print(\"-\"*10+\"Multi-processing\"+\"-\"*10)\n",
    "list2 = []\n",
    "process1 = multiprocessing.Process(target=append_one, args=(list2,))\n",
    "process2 = multiprocessing.Process(target=append_two, args=(list2,))\n",
    "process1.start()\n",
    "process2.start()\n",
    "process1.join()\n",
    "process2.join()\n",
    "print(f\"Multi-processing result:{list2}\")"
   ]
  },
  {
   "cell_type": "markdown",
   "metadata": {},
   "source": [
    "### Synchronization problem (v3.9 and previous only)\n",
    "> Expected result: 5000000\n",
    "\n",
    "* Using unsafe variable: would show irregular result\n",
    "* Using thread-safe variable: would show expected result\n",
    "* Note: Not reproducible after Python3.10\n",
    "    * Installing Python3.9\n",
    "    ```\n",
    "    sudo add-apt-repository ppa:deadsnakes/ppa\n",
    "    sudo apt install python3.9 python3.9-dev python3.9-venv\n",
    "    python3.9 -m venv .venv39\n",
    "    .venv39/bin/pip install -r requirements.txt\n",
    "    ```\n"
   ]
  },
  {
   "cell_type": "code",
   "execution_count": null,
   "metadata": {},
   "outputs": [],
   "source": [
    "shared_variable = 0\n",
    "\n",
    "def increment_shared_variable():\n",
    "    global shared_variable\n",
    "    for _ in range(1000000):\n",
    "        shared_variable += 1\n",
    "\n",
    "print(\"-\"*10+\"Using unsafe variable\"+\"-\"*10)\n",
    "\n",
    "threads = []\n",
    "for _ in range(5):\n",
    "    t = threading.Thread(target=increment_shared_variable)\n",
    "    threads.append(t)\n",
    "\n",
    "for t in threads:\n",
    "    t.start()\n",
    "\n",
    "for t in threads:\n",
    "    t.join()\n",
    "\n",
    "print(\"Final result:\", shared_variable)"
   ]
  },
  {
   "cell_type": "code",
   "execution_count": null,
   "metadata": {},
   "outputs": [],
   "source": [
    "shared_variable = 0\n",
    "\n",
    "# Thread-safe\n",
    "lock = threading.Lock()\n",
    "\n",
    "def increment_shared_variable():\n",
    "    global shared_variable\n",
    "    for _ in range(1000000):\n",
    "        # Mutex lock\n",
    "        lock.acquire()\n",
    "        shared_variable += 1\n",
    "        # Mutex release\n",
    "        lock.release()\n",
    "\n",
    "print(\"-\"*10+\"Using mutex\"+\"-\"*10)\n",
    "\n",
    "threads = []\n",
    "for _ in range(5):\n",
    "    t = threading.Thread(target=increment_shared_variable)\n",
    "    threads.append(t)\n",
    "\n",
    "for t in threads:\n",
    "    t.start()\n",
    "\n",
    "for t in threads:\n",
    "    t.join()\n",
    "\n",
    "print(\"Final result:\", shared_variable)"
   ]
  },
  {
   "cell_type": "markdown",
   "metadata": {},
   "source": [
    "### `pytube` `tqdm` example - using variable typed Queue"
   ]
  },
  {
   "cell_type": "markdown",
   "metadata": {},
   "source": [
    "- UI thread"
   ]
  },
  {
   "cell_type": "code",
   "execution_count": null,
   "metadata": {},
   "outputs": [],
   "source": [
    "def draw_ui(var):\n",
    "    print(\"UI thread starting ... PID:{}\".format(os.getpid()))\n",
    "    prev = 0\n",
    "    tqdm_bar = None\n",
    "    while True:\n",
    "        message = var.get()\n",
    "        if message[\"type\"] == \"on_progress\":\n",
    "            if tqdm_bar is None:\n",
    "                tqdm_bar = tqdm(total=100, desc=\"Downloading...\")\n",
    "            cur_rate = message[\"progress_rate\"]\n",
    "            tqdm_bar.update(int(cur_rate-prev))\n",
    "            prev = int(cur_rate)\n",
    "        elif message[\"type\"] == \"on_complete\":\n",
    "            if tqdm_bar is None:\n",
    "                tqdm_bar = tqdm(total=100, desc=\"Downloading...\")\n",
    "            tqdm_bar.update(100-prev)\n",
    "            tqdm_bar.close()\n",
    "            break"
   ]
  },
  {
   "cell_type": "markdown",
   "metadata": {},
   "source": [
    "- Download thread"
   ]
  },
  {
   "cell_type": "code",
   "execution_count": null,
   "metadata": {},
   "outputs": [],
   "source": [
    "def on_progress(stream, chunk, bytes_remaining, var):\n",
    "    total_size = stream.filesize\n",
    "    bytes_downloaded = total_size - bytes_remaining\n",
    "    progress = (bytes_downloaded / total_size) * 100\n",
    "    var.put({\"type\":\"on_progress\", \"progress_rate\":progress})\n",
    "\n",
    "def on_complete(stream, file_handle, var):\n",
    "    var.put({\"type\":\"on_complete\"})\n",
    "\n",
    "def download(url, var):\n",
    "    print(\"Download thread starting ... PID:{}\".format(os.getpid()))\n",
    "    on_progress_with_Q = partial(on_progress, var=var)\n",
    "    on_complete_with_Q = partial(on_complete, var=var)\n",
    "    youtube_clip = YouTube(\n",
    "                        url,\n",
    "                        on_progress_callback=on_progress_with_Q,\n",
    "                        on_complete_callback=on_complete_with_Q)\n",
    "    youtube_stream = youtube_clip.streams.get_highest_resolution()\n",
    "    youtube_stream.download(\"videos\")"
   ]
  },
  {
   "cell_type": "markdown",
   "metadata": {},
   "source": [
    "- Multithreading"
   ]
  },
  {
   "cell_type": "code",
   "execution_count": null,
   "metadata": {},
   "outputs": [],
   "source": [
    "# 코난 오브라이언\n",
    "url = \"https://www.youtube.com/watch?v=mAMN2ffEUBc\"\n",
    "\n",
    "print(\"main process running ... PID:{}\".format(os.getpid()))\n",
    "\n",
    "shared_var = queue.Queue()  # message_queue = multiprocessing.Queue()가 아니라 그냥 queue.Queue()로 사용\n",
    "\n",
    "t1 = threading.Thread(target=draw_ui, args=(shared_var,))\n",
    "t2 = threading.Thread(target=download, args=(url, shared_var,))\n",
    "\n",
    "t1.start()\n",
    "t2.start()\n",
    "\n",
    "t1.join()\n",
    "shared_var.put(None)\n",
    "t2.join()"
   ]
  },
  {
   "cell_type": "markdown",
   "metadata": {},
   "source": [
    "### `pytube` `tqdm` example - using variable typed thread-safe list\n",
    "\n",
    " * Duck Typing : \"If it walks like a duck and it quacks like a duck, then it must be a duck\"\n",
    "\n",
    "  <img src=\"./doc/duck-typing.png\" width=400>"
   ]
  },
  {
   "cell_type": "code",
   "execution_count": null,
   "metadata": {},
   "outputs": [],
   "source": [
    "class ThreadSafeList:\n",
    "    def __init__(self):\n",
    "        self._list = []\n",
    "        self._lock = threading.Lock()\n",
    "\n",
    "    def append(self, item):\n",
    "        with self._lock:\n",
    "            self._list.append(item)\n",
    "\n",
    "    def pop(self, index=-1):\n",
    "        with self._lock:\n",
    "            return self._list.pop(index)\n",
    "\n",
    "    def __len__(self):\n",
    "        with self._lock:\n",
    "            return len(self._list)"
   ]
  },
  {
   "cell_type": "markdown",
   "metadata": {},
   "source": [
    "- UI function"
   ]
  },
  {
   "cell_type": "code",
   "execution_count": null,
   "metadata": {},
   "outputs": [],
   "source": [
    "def draw_ui(shared_queue):\n",
    "    print(\"UI thread starting ... PID:{}\".format(os.getpid()), flush=True)\n",
    "    prev = 0\n",
    "    tqdm_bar = None\n",
    "    while True:\n",
    "        if len(shared_queue)>0:\n",
    "            message = shared_queue.pop()\n",
    "            if message[\"type\"] == \"on_progress\":\n",
    "                if tqdm_bar is None:\n",
    "                    tqdm_bar = tqdm(total=100, desc=\"Downloading...\")\n",
    "                cur_rate = message[\"progress_rate\"]\n",
    "                tqdm_bar.update(int(cur_rate-prev))\n",
    "                prev = int(cur_rate)\n",
    "            elif message[\"type\"] == \"on_complete\":\n",
    "                if tqdm_bar is None:\n",
    "                    tqdm_bar = tqdm(total=100, desc=\"Downloading...\")\n",
    "                tqdm_bar.update(100-prev)\n",
    "                tqdm_bar.close()\n",
    "                break"
   ]
  },
  {
   "cell_type": "markdown",
   "metadata": {},
   "source": [
    "- Downloading function"
   ]
  },
  {
   "cell_type": "code",
   "execution_count": null,
   "metadata": {},
   "outputs": [],
   "source": [
    "def on_progress(stream, chunk, bytes_remaining, shared_queue):\n",
    "    total_size = stream.filesize\n",
    "    bytes_downloaded = total_size - bytes_remaining\n",
    "    progress = (bytes_downloaded / total_size) * 100\n",
    "    shared_queue.append({\"type\":\"on_progress\", \"progress_rate\":progress})\n",
    "\n",
    "def on_complete(stream, file_handle, shared_queue):\n",
    "    shared_queue.append({\"type\":\"on_complete\"})\n",
    "\n",
    "def download(url, shared_queue):\n",
    "    print(\"Download thread starting ... PID:{}\".format(os.getpid()), flush=True)\n",
    "    on_progress_with_Q = partial(on_progress, shared_queue=shared_queue)\n",
    "    on_complete_with_Q = partial(on_complete, shared_queue=shared_queue)\n",
    "    youtube_clip = YouTube(\n",
    "                        url,\n",
    "                        on_progress_callback=on_progress_with_Q,\n",
    "                        on_complete_callback=on_complete_with_Q)\n",
    "    youtube_stream = youtube_clip.streams.filter(\n",
    "                        adaptive=True, \n",
    "                        file_extension='mp4').first()\n",
    "    youtube_stream.download(\"videos\")"
   ]
  },
  {
   "cell_type": "markdown",
   "metadata": {},
   "source": [
    "- Multithreading"
   ]
  },
  {
   "cell_type": "code",
   "execution_count": null,
   "metadata": {},
   "outputs": [],
   "source": [
    "# One call away\n",
    "url = \"https://www.youtube.com/watch?v=BxuY9FET9Y4\"\n",
    "\n",
    "print(\"main process running ... PID:{}\".format(os.getpid()), flush=True)\n",
    "\n",
    "shared_queue = ThreadSafeList()\n",
    "\n",
    "t1 = threading.Thread(target=draw_ui, args=(shared_queue,))\n",
    "t2 = threading.Thread(target=download, args=(url, shared_queue,))\n",
    "\n",
    "t1.start()\n",
    "t2.start()\n",
    "\n",
    "t1.join()\n",
    "t2.join()\n",
    "shared_queue = None"
   ]
  }
 ],
 "metadata": {
  "kernelspec": {
   "display_name": ".venv",
   "language": "python",
   "name": "python3"
  },
  "language_info": {
   "codemirror_mode": {
    "name": "ipython",
    "version": 3
   },
   "file_extension": ".py",
   "mimetype": "text/x-python",
   "name": "python",
   "nbconvert_exporter": "python",
   "pygments_lexer": "ipython3",
   "version": "3.9.18"
  },
  "orig_nbformat": 4
 },
 "nbformat": 4,
 "nbformat_minor": 2
}
